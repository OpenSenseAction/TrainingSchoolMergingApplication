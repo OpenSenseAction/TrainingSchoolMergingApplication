{
 "cells": [
  {
   "cell_type": "markdown",
   "metadata": {},
   "source": [
    "# Step-by-step radar adjustment"
   ]
  },
  {
   "cell_type": "markdown",
   "metadata": {},
   "source": [
    "In this notebook we will do the following\n",
    "\n",
    "1. Create synthetic example data with a true and perturbed (as observed by radar) rainfall field\n",
    "\n",
    "2. Do step-by-step radar-gauge adjustment with different methods\n",
    "\n",
    "3. Do step-by-step radar-CML adjustment with different methods\n",
    "\n",
    "4. Introduce the high-level functions that combine the adjustment workflow into one function call"
   ]
  },
  {
   "cell_type": "code",
   "execution_count": null,
   "metadata": {},
   "outputs": [],
   "source": [
    "import sys\n",
    "\n",
    "sys.path.append('../poligrain/src')\n",
    "sys.path.append('../mergeplg/src')\n",
    "\n",
    "import poligrain as plg\n",
    "import mergeplg as mrg\n",
    "\n",
    "import xarray as xr\n",
    "import numpy as np\n",
    "import matplotlib.pyplot as plt"
   ]
  },
  {
   "cell_type": "markdown",
   "metadata": {},
   "source": [
    "## Create synthetic example rainfall field and radar observation"
   ]
  },
  {
   "cell_type": "code",
   "execution_count": null,
   "metadata": {},
   "outputs": [],
   "source": [
    "# grid axes\n",
    "x = np.arange(0, 20)\n",
    "y = np.arange(0, 22)\n",
    "x_grid, y_grid = np.meshgrid(x, y)\n",
    "\n",
    "np.random.seed(13196840)\n",
    "\n",
    "# Synthetic true rainfall\n",
    "truth = (\n",
    "    np.abs(10.0 * np.sin(0.11 * x_grid))\n",
    "    + np.abs(8.0 * np.cos(0.08 * y_grid))\n",
    "    )\n",
    "truth = truth + 0.8 * np.random.uniform(low=-1.0, high=1, size=x_grid.shape)\n",
    "truth[truth < 0.0] = 0.0\n",
    "\n",
    "# Creating radar data by perturbing truth\n",
    "radar = truth.copy()\n",
    "radar = 1.0 * truth + 0.5 * np.random.uniform(low=-1.0, high=1, size=x_grid.shape)\n",
    "radar = (\n",
    "    radar \n",
    "    + np.abs(6 * np.cos(0.11 * x_grid))\n",
    "    - np.abs(3 * np.cos(0.06  * y_grid))\n",
    ")\n",
    "radar = radar - 1\n",
    "radar[radar < 0.0] = 0.0\n",
    "\n",
    "ds_radar = xr.Dataset(\n",
    "    data_vars={\n",
    "        'R_observed': ( ['y', 'x'], radar),\n",
    "        'R_true': (['y',  'x'], truth),\n",
    "    },\n",
    "    coords={\n",
    "        'x_grid': (['y', 'x'], x_grid),\n",
    "        'y_grid':  (['y',   'x'], y_grid),\n",
    "    },\n",
    ")\n",
    "\n",
    "vmin, vmax = 0, 21\n",
    "cmap = 'turbo'\n",
    "fig, axs = plt.subplots(1, 3, figsize=(12, 3))\n",
    "axs[0].set_title('True rainfall field')\n",
    "pc = axs[0].pcolormesh(truth, vmin=vmin, vmax=vmax, cmap=cmap)\n",
    "plt.colorbar(pc)\n",
    "axs[1].set_title('Rainfall observed by radar')\n",
    "pc = axs[1].pcolormesh(radar, vmin=vmin, vmax=vmax, cmap=cmap)\n",
    "plt.colorbar(pc)\n",
    "axs[2].set_title('Truth - Radar')\n",
    "pc = axs[2].pcolormesh(truth - radar, vmin=vmax * -0.2, vmax=vmax * 0.2, cmap='RdBu')\n",
    "plt.colorbar(pc);"
   ]
  },
  {
   "cell_type": "markdown",
   "metadata": {},
   "source": [
    "## Radar-gauge adjustment"
   ]
  },
  {
   "cell_type": "markdown",
   "metadata": {},
   "source": [
    "### Create synthetic gauge observations"
   ]
  },
  {
   "cell_type": "code",
   "execution_count": null,
   "metadata": {},
   "outputs": [],
   "source": [
    "ds_gauges = xr.Dataset(\n",
    "    data_vars={\n",
    "        # dummy data, because we need gauge observations in GridAtPoints\n",
    "        'R_init': (['id'], [0, 0, 0, 0]),\n",
    "    },\n",
    "    coords={\n",
    "        'x': (('id'), [2, 16, 3, 6]),\n",
    "        'y':  (['id'], [2, 5, 13, 6]),\n",
    "        'lon': (('id'), [2, 16, 3, 6]),\n",
    "        'lat':  (['id'], [2, 5, 13, 6]),\n",
    "    },\n",
    ")"
   ]
  },
  {
   "cell_type": "markdown",
   "metadata": {},
   "source": [
    "Take observations of true rainfall field at gauge location"
   ]
  },
  {
   "cell_type": "code",
   "execution_count": null,
   "metadata": {},
   "outputs": [],
   "source": [
    "get_grid_at_points = plg.spatial.GridAtPoints(\n",
    "    da_gridded_data=ds_radar,\n",
    "    da_point_data=ds_gauges,\n",
    "    nnear=1,\n",
    "    use_lon_lat=False,\n",
    ")\n",
    "\n",
    "ds_gauges['R'] = get_grid_at_points(\n",
    "    da_gridded_data=ds_radar.R_true,\n",
    "    da_point_data=ds_gauges.R_init,\n",
    ")\n",
    "ds_gauges = ds_gauges.drop_vars('R_init')"
   ]
  },
  {
   "cell_type": "code",
   "execution_count": null,
   "metadata": {},
   "outputs": [],
   "source": [
    "fig, axs = plt.subplots(1, 2, figsize=(8, 3))\n",
    "\n",
    "plg.plot_map.plot_plg(\n",
    "    da_grid=ds_radar.R_true, \n",
    "    da_gauges=ds_gauges.R,\n",
    "    use_lon_lat=False,\n",
    "    vmin=0,\n",
    "    vmax=21,\n",
    "    kwargs_gauges_plot={\"s\": 30},\n",
    "    ax=axs[0],\n",
    ")\n",
    "\n",
    "plg.plot_map.plot_plg(\n",
    "    da_grid=ds_radar.R_observed, \n",
    "    da_gauges=ds_gauges.R,\n",
    "    use_lon_lat=False,\n",
    "    vmin=0,\n",
    "    vmax=21,\n",
    "    kwargs_gauges_plot={\"s\": 30},\n",
    "    ax=axs[1],\n",
    ");"
   ]
  },
  {
   "cell_type": "markdown",
   "metadata": {},
   "source": [
    "### Additive adjustment with IDW interpolation"
   ]
  },
  {
   "cell_type": "markdown",
   "metadata": {},
   "source": [
    "#### Calculate differencence between gauge data and radar data at gauge location"
   ]
  },
  {
   "cell_type": "code",
   "execution_count": null,
   "metadata": {},
   "outputs": [],
   "source": [
    "get_grid_at_points = plg.spatial.GridAtPoints(\n",
    "    da_gridded_data=ds_radar,\n",
    "    da_point_data=ds_gauges,\n",
    "    nnear=1,\n",
    "    use_lon_lat=False,\n",
    ")\n",
    "\n",
    "ds_gauges['R_radar'] = get_grid_at_points(\n",
    "    da_gridded_data=ds_radar.R_observed,\n",
    "    da_point_data=ds_gauges.R,\n",
    ")\n",
    "\n",
    "ds_gauges['R_diff'] = ds_gauges.R - ds_gauges.R_radar"
   ]
  },
  {
   "cell_type": "code",
   "execution_count": null,
   "metadata": {},
   "outputs": [],
   "source": [
    "fig, axs = plt.subplots(1, 3, figsize=(12, 3))\n",
    "\n",
    "plg.plot_map.plot_plg(\n",
    "    da_grid=ds_radar.R_true, \n",
    "    da_gauges=ds_gauges.R,\n",
    "    use_lon_lat=False,\n",
    "    vmin=0,\n",
    "    vmax=21,\n",
    "    kwargs_gauges_plot={\"s\": 30},\n",
    "    ax=axs[0],\n",
    ")\n",
    "axs[0].set_title('True rainfall field')\n",
    "\n",
    "plg.plot_map.plot_plg(\n",
    "    da_grid=ds_radar.R_observed, \n",
    "    da_gauges=ds_gauges.R,\n",
    "    use_lon_lat=False,\n",
    "    vmin=0,\n",
    "    vmax=21,\n",
    "    kwargs_gauges_plot={\"s\": 30},\n",
    "    ax=axs[1],\n",
    ")\n",
    "axs[1].set_title('Radar observation and\\ntrue gauge observations')\n",
    "\n",
    "plg.plot_map.plot_plg(\n",
    "    da_grid=ds_radar.R_true - ds_radar.R_observed, \n",
    "    da_gauges=ds_gauges.R_diff,\n",
    "    use_lon_lat=False,\n",
    "    vmin=-5,\n",
    "    vmax=5,\n",
    "    cmap='RdBu',\n",
    "    kwargs_gauges_plot={\"s\": 30},\n",
    "    ax=axs[2],\n",
    ")\n",
    "axs[2].set_title('True - observed radar data');\n",
    "axs[1].set_ylabel('')\n",
    "axs[2].set_ylabel('')\n",
    "axs[1].set_yticklabels([])\n",
    "axs[2].set_yticklabels([]);"
   ]
  },
  {
   "cell_type": "markdown",
   "metadata": {},
   "source": [
    "#### Spatial interpolation of differences"
   ]
  },
  {
   "cell_type": "code",
   "execution_count": null,
   "metadata": {},
   "outputs": [],
   "source": [
    "idw_interpolator = mrg.interpolate.InterpolateIDW(min_observations=2)\n",
    "\n",
    "R_grid_idw = idw_interpolator.interpolate(\n",
    "            da_grid=ds_radar,\n",
    "            da_gauge=ds_gauges.R_diff,\n",
    "            p=3,\n",
    "            idw_method='standard',\n",
    "        )"
   ]
  },
  {
   "cell_type": "code",
   "execution_count": null,
   "metadata": {},
   "outputs": [],
   "source": [
    "fig, axs = plt.subplots(1, 3, figsize=(12, 3))\n",
    "\n",
    "plg.plot_map.plot_plg(\n",
    "    da_grid=ds_radar.R_true, \n",
    "    da_gauges=ds_gauges.R,\n",
    "    use_lon_lat=False,\n",
    "    vmin=0,\n",
    "    vmax=20,\n",
    "    kwargs_gauges_plot={\"s\": 30},\n",
    "    ax=axs[0],\n",
    ")\n",
    "axs[0].set_title('True rainfall field')\n",
    "\n",
    "\n",
    "plg.plot_map.plot_plg(\n",
    "    da_grid=ds_radar.R_observed, \n",
    "    da_gauges=ds_gauges.R,\n",
    "    use_lon_lat=False,\n",
    "    vmin=0,\n",
    "    vmax=20,\n",
    "    kwargs_gauges_plot={\"s\": 30},\n",
    "    ax=axs[1],\n",
    ")\n",
    "axs[1].set_title('Radar observation and\\ntrue gauge observations')\n",
    "\n",
    "plg.plot_map.plot_plg(\n",
    "    da_grid=R_grid_idw, \n",
    "    da_gauges=ds_gauges.R_diff,\n",
    "    use_lon_lat=False,\n",
    "    vmin=-5,\n",
    "    vmax=5,\n",
    "    cmap='RdBu',\n",
    "    kwargs_gauges_plot={\"s\": 30},\n",
    "    ax=axs[2],\n",
    ")\n",
    "axs[2].set_title('Interpolated differences')\n",
    "axs[1].set_ylabel('')\n",
    "axs[2].set_ylabel('')\n",
    "axs[1].set_yticklabels([])\n",
    "axs[2].set_yticklabels([]);"
   ]
  },
  {
   "cell_type": "markdown",
   "metadata": {},
   "source": [
    "#### Adjust radar field with interpolated diff field"
   ]
  },
  {
   "cell_type": "code",
   "execution_count": null,
   "metadata": {},
   "outputs": [],
   "source": [
    "fig, axs = plt.subplots(1, 3, figsize=(12, 3))\n",
    "\n",
    "plg.plot_map.plot_plg(\n",
    "    da_grid=ds_radar.R_true, \n",
    "    da_gauges=ds_gauges.R,\n",
    "    use_lon_lat=False,\n",
    "    vmin=0,\n",
    "    vmax=21,\n",
    "    kwargs_gauges_plot={\"s\": 30},\n",
    "    ax=axs[0],\n",
    ")\n",
    "axs[0].set_title('True rainfall field')\n",
    "\n",
    "plg.plot_map.plot_plg(\n",
    "    da_grid=ds_radar.R_observed, \n",
    "    da_gauges=ds_gauges.R,\n",
    "    use_lon_lat=False,\n",
    "    vmin=0,\n",
    "    vmax=21,\n",
    "    kwargs_gauges_plot={\"s\": 30},\n",
    "    ax=axs[1],\n",
    ")\n",
    "axs[1].set_title('Observed radar rainfall field')\n",
    "\n",
    "plg.plot_map.plot_plg(\n",
    "    da_grid=ds_radar.R_observed + R_grid_idw, \n",
    "    da_gauges=ds_gauges.R,\n",
    "    use_lon_lat=False,\n",
    "    vmin=0,\n",
    "    vmax=21,\n",
    "    kwargs_gauges_plot={\"s\": 30},\n",
    "    ax=axs[2],\n",
    ")\n",
    "axs[2].set_title('Adjusted radar')\n",
    "\n",
    "axs[1].set_ylabel('')\n",
    "axs[2].set_ylabel('')\n",
    "axs[1].set_yticklabels([])\n",
    "axs[2].set_yticklabels([]);"
   ]
  },
  {
   "cell_type": "markdown",
   "metadata": {},
   "source": [
    "#### Define a function to plot all in one go"
   ]
  },
  {
   "cell_type": "code",
   "execution_count": null,
   "metadata": {},
   "outputs": [],
   "source": [
    "def plot_true_obs_adj_diff(\n",
    "    da_grid_R_true,\n",
    "    da_grid_R_observed,\n",
    "    da_grid_R_adjusted,\n",
    "    da_gauges_R=None,\n",
    "    da_cmls_R=None,\n",
    "    da_gauges_R_diff=None,\n",
    "    da_cmls_R_diff=None,\n",
    "    vmin=0,\n",
    "    vmax=21,\n",
    "    vmin_diff=-5,\n",
    "    vmax_diff=5,\n",
    "):\n",
    "\n",
    "    fig, axs = plt.subplots(2, 3, figsize=(12, 6))\n",
    "\n",
    "    plg.plot_map.plot_plg(\n",
    "        da_grid=da_grid_R_true,\n",
    "        da_gauges=da_gauges_R,\n",
    "        da_cmls=da_cmls_R,\n",
    "        use_lon_lat=False,\n",
    "        vmin=vmin,\n",
    "        vmax=vmax,\n",
    "        kwargs_gauges_plot={\"s\": 30},\n",
    "        ax=axs[0, 0],\n",
    "    )\n",
    "    axs[0, 0].set_title('True rainfall field')\n",
    "\n",
    "    plg.plot_map.plot_plg(\n",
    "        da_grid=da_grid_R_observed,\n",
    "        da_gauges=da_gauges_R,\n",
    "        da_cmls=da_cmls_R,\n",
    "        use_lon_lat=False,\n",
    "        vmin=vmin,\n",
    "        vmax=vmax,\n",
    "        kwargs_gauges_plot={\"s\": 30},\n",
    "        ax=axs[0, 1],\n",
    "    )\n",
    "    axs[0, 1].set_title('Unadjusted radar rainfall field')\n",
    "\n",
    "    plg.plot_map.plot_plg(\n",
    "        da_grid=da_grid_R_adjusted,\n",
    "        da_gauges=da_gauges_R,\n",
    "        da_cmls=da_cmls_R,\n",
    "        use_lon_lat=False,\n",
    "        vmin=vmin,\n",
    "        vmax=vmax,\n",
    "        kwargs_gauges_plot={\"s\": 30},\n",
    "        ax=axs[0, 2],\n",
    "    )\n",
    "    axs[0, 2].set_title('Adjusted radar')\n",
    "\n",
    "    plg.plot_map.plot_plg(\n",
    "        da_grid=da_grid_R_adjusted - da_grid_R_observed,\n",
    "        da_gauges=da_gauges_R_diff,\n",
    "        da_cmls=da_cmls_R_diff,\n",
    "        use_lon_lat=False,\n",
    "        vmin=vmin_diff,\n",
    "        vmax=vmax_diff,\n",
    "        cmap=\"RdBu_r\",\n",
    "        kwargs_gauges_plot={\"s\": 30},\n",
    "        ax=axs[1, 0],\n",
    "    )\n",
    "    axs[1, 0].set_title('Adjustment field')\n",
    "\n",
    "    plg.plot_map.plot_plg(\n",
    "        da_grid=da_grid_R_true - da_grid_R_observed,\n",
    "        use_lon_lat=False,\n",
    "        vmin=vmin_diff,\n",
    "        vmax=vmax_diff,\n",
    "        cmap=\"BrBG\",\n",
    "        kwargs_gauges_plot={\"s\": 30},\n",
    "        ax=axs[1, 1],\n",
    "    )\n",
    "    axs[1, 1].set_title('True - unadjusted')\n",
    "\n",
    "    plg.plot_map.plot_plg(\n",
    "        da_grid=da_grid_R_true - da_grid_R_adjusted,\n",
    "        use_lon_lat=False,\n",
    "        vmin=vmin_diff,\n",
    "        vmax=vmax_diff,\n",
    "        cmap=\"BrBG\",\n",
    "        kwargs_gauges_plot={\"s\": 30},\n",
    "        ax=axs[1, 2],\n",
    "    )\n",
    "    axs[1, 2].set_title('True - adjusted')\n",
    "\n",
    "    for i in [0, 1]:\n",
    "        axs[i, 1].set_ylabel('')\n",
    "        axs[i, 2].set_ylabel('')\n",
    "        axs[i, 1].set_yticklabels([])\n",
    "        axs[i, 2].set_yticklabels([])\n",
    "    for j in [0, 1, 2]:\n",
    "        axs[0, j].set_xlabel('')\n",
    "        axs[0, j].set_xticklabels([])\n",
    "\n",
    "\n",
    "plot_true_obs_adj_diff(\n",
    "    da_grid_R_true=ds_radar.R_true,\n",
    "    da_grid_R_observed=ds_radar.R_observed,\n",
    "    da_grid_R_adjusted=ds_radar.R_observed + R_grid_idw,\n",
    "    da_gauges_R=ds_gauges.R,\n",
    "    da_gauges_R_diff=ds_gauges.R_diff,\n",
    ")"
   ]
  },
  {
   "cell_type": "code",
   "execution_count": null,
   "metadata": {},
   "outputs": [],
   "source": [
    "idw_interpolator = mrg.interpolate.InterpolateIDW(min_observations=2)\n",
    "\n",
    "R_grid_idw = idw_interpolator.interpolate(\n",
    "            da_grid=ds_radar,\n",
    "            da_gauge=ds_gauges.R_diff,\n",
    "            p=3,\n",
    "            idw_method='standard',\n",
    "        )\n",
    "\n",
    "plot_true_obs_adj_diff(\n",
    "    da_grid_R_true=ds_radar.R_true,\n",
    "    da_grid_R_observed=ds_radar.R_observed,\n",
    "    da_grid_R_adjusted=ds_radar.R_observed + R_grid_idw,\n",
    "    da_gauges_R=ds_gauges.R,\n",
    "    da_gauges_R_diff=ds_gauges.R_diff,\n",
    ")"
   ]
  },
  {
   "cell_type": "markdown",
   "metadata": {},
   "source": [
    "### Additive adjustment with Ordinary Kriging interpolation"
   ]
  },
  {
   "cell_type": "markdown",
   "metadata": {},
   "source": [
    "Here we reuse the differencence between radar and gauge that we already calculated above."
   ]
  },
  {
   "cell_type": "code",
   "execution_count": null,
   "metadata": {},
   "outputs": [],
   "source": [
    "ok_interpolator = mrg.interpolate.InterpolateOrdinaryKriging(min_observations=2)\n",
    "\n",
    "R_grid_idw = ok_interpolator.interpolate(\n",
    "    da_grid=ds_radar,\n",
    "    da_gauge=ds_gauges.R_diff,\n",
    "    variogram_parameters = {\"sill\": 1, \"range\": 20, \"nugget\": 0.1}\n",
    ")\n",
    "\n",
    "plot_true_obs_adj_diff(\n",
    "    da_grid_R_true=ds_radar.R_true,\n",
    "    da_grid_R_observed=ds_radar.R_observed,\n",
    "    da_grid_R_adjusted=ds_radar.R_observed + R_grid_idw,\n",
    "    da_gauges_R=ds_gauges.R,\n",
    "    da_gauges_R_diff=ds_gauges.R_diff,\n",
    ")"
   ]
  },
  {
   "cell_type": "markdown",
   "metadata": {},
   "source": [
    "### Ex 1: Play with different variants of radar-gauge adjustment\n",
    "\n",
    "- Ex1.1: Change IDW parameteres and change the Kriging variogram parameters. You can reuse the code from above. Look at the results. What are \"good\" parameteres?\n",
    "- Ex1.2: Do multiplicative adjustment insteand of additive adjustment. Plot the results and try variations of the parameters."
   ]
  },
  {
   "cell_type": "code",
   "execution_count": null,
   "metadata": {},
   "outputs": [],
   "source": [
    "# Ex1.2: Your code here....\n",
    "\n",
    "\n",
    "\n",
    "\n",
    "\n",
    "\n",
    "\n",
    "\n"
   ]
  },
  {
   "cell_type": "code",
   "execution_count": null,
   "metadata": {},
   "outputs": [],
   "source": [
    "if input(\"Enter 'Solution' to display solutions: \")=='Solution':\n",
    "    %load solutions/5_1_2_solution.py"
   ]
  },
  {
   "cell_type": "markdown",
   "metadata": {},
   "source": [
    "## Radar-CML adjustment"
   ]
  },
  {
   "cell_type": "markdown",
   "metadata": {},
   "source": [
    "### Create synthetic CML observations"
   ]
  },
  {
   "cell_type": "code",
   "execution_count": null,
   "metadata": {},
   "outputs": [],
   "source": [
    "site_0_x = [19, 2, 2, 12]\n",
    "site_0_y = [8, 10, 10, 14]\n",
    "site_1_x = [9, 4, 3, 12.4]\n",
    "site_1_y = [6, 6.2, 0.3, 14.3]\n",
    "\n",
    "cml_ids = [f'cml{i}' for i in range(len(site_0_x))]\n",
    "\n",
    "ds_cmls = xr.Dataset(\n",
    "    coords={\n",
    "        'site_0_lon': ([\"cml_id\"], site_0_x),\n",
    "        'site_1_lon': ([\"cml_id\"], site_1_x),\n",
    "        'site_0_lat': ([\"cml_id\"], site_0_y),\n",
    "        'site_1_lat': ([\"cml_id\"], site_1_y),\n",
    "        'site_0_x': ([\"cml_id\"], site_0_x),\n",
    "        'site_1_x': ([\"cml_id\"], site_1_x),\n",
    "        'site_0_y': ([\"cml_id\"], site_0_y),\n",
    "        'site_1_y': ([\"cml_id\"], site_1_y),\n",
    "    },\n",
    ")\n",
    "\n",
    "ds_cmls"
   ]
  },
  {
   "cell_type": "code",
   "execution_count": null,
   "metadata": {},
   "outputs": [],
   "source": [
    "get_grid_at_lines = plg.spatial.GridAtLines(\n",
    "    da_gridded_data=ds_radar,\n",
    "    ds_line_data=ds_cmls,\n",
    ")\n",
    "\n",
    "# Get CML observation, the path-average =from true rainfall field\n",
    "ds_cmls['R'] = get_grid_at_lines(da_gridded_data=ds_radar.R_true)\n",
    "# Get path-averaged radar rainfall obsrevation\n",
    "ds_cmls['R_radar'] = get_grid_at_lines(da_gridded_data=ds_radar.R_observed)\n",
    "# The diff between the two\n",
    "ds_cmls['R_diff'] = ds_cmls.R - ds_cmls.R_radar"
   ]
  },
  {
   "cell_type": "code",
   "execution_count": null,
   "metadata": {},
   "outputs": [],
   "source": [
    "fig, axs = plt.subplots(1, 3, figsize=(12, 3))\n",
    "\n",
    "plg.plot_map.plot_plg(\n",
    "    da_grid=ds_radar.R_true, \n",
    "    da_cmls=ds_cmls.R,\n",
    "    use_lon_lat=False,\n",
    "    vmin=0,\n",
    "    vmax=21,\n",
    "    kwargs_gauges_plot={\"s\": 30},\n",
    "    ax=axs[0],\n",
    ")\n",
    "axs[0].set_title('True rainfall field')\n",
    "\n",
    "\n",
    "plg.plot_map.plot_plg(\n",
    "    da_grid=ds_radar.R_observed, \n",
    "    da_cmls=ds_cmls.R,\n",
    "    use_lon_lat=False,\n",
    "    vmin=0,\n",
    "    vmax=21,\n",
    "    kwargs_gauges_plot={\"s\": 30},\n",
    "    ax=axs[1],\n",
    ")\n",
    "axs[1].set_title('Observed radar rainfall field')\n",
    "\n",
    "plg.plot_map.plot_plg(\n",
    "    da_grid=ds_radar.R_true - ds_radar.R_observed, \n",
    "    da_cmls=ds_cmls.R_diff,\n",
    "    use_lon_lat=False,\n",
    "    vmin=-5,\n",
    "    vmax=5,\n",
    "    cmap='RdBu',\n",
    "    kwargs_gauges_plot={\"s\": 30},\n",
    "    ax=axs[2],\n",
    ")\n",
    "axs[2].set_title('True - observed radar data')\n",
    "axs[1].set_ylabel('')\n",
    "axs[2].set_ylabel('')\n",
    "axs[1].set_yticklabels([])\n",
    "axs[2].set_yticklabels([]);"
   ]
  },
  {
   "cell_type": "markdown",
   "metadata": {},
   "source": [
    "### Additive adjustment with IDW interpolation"
   ]
  },
  {
   "cell_type": "markdown",
   "metadata": {},
   "source": [
    "We have already calculated the diff of radar and CML above. Now we just have to interpolat the diff field. For IDW, we have to represent each CML path by a synthetic gauge in the middle of its path. This is automatically done in `InterpolateIDW`."
   ]
  },
  {
   "cell_type": "code",
   "execution_count": null,
   "metadata": {},
   "outputs": [],
   "source": [
    "idw_interpolator = mrg.interpolate.InterpolateIDW(min_observations=2)\n",
    "\n",
    "R_grid_idw = idw_interpolator.interpolate(\n",
    "            da_grid=ds_radar,\n",
    "            da_cml=ds_cmls.R_diff,\n",
    "            p=3,\n",
    "            idw_method='standard',\n",
    "        )"
   ]
  },
  {
   "cell_type": "code",
   "execution_count": null,
   "metadata": {},
   "outputs": [],
   "source": [
    "plot_true_obs_adj_diff(\n",
    "    da_grid_R_true=ds_radar.R_true,\n",
    "    da_grid_R_observed=ds_radar.R_observed,\n",
    "    da_grid_R_adjusted=ds_radar.R_observed + R_grid_idw,\n",
    "    da_cmls_R=ds_cmls.R,\n",
    "    da_cmls_R_diff=ds_cmls.R_diff,\n",
    ")"
   ]
  },
  {
   "cell_type": "markdown",
   "metadata": {},
   "source": [
    "### Ex2: Use Kriging with CMLs\n",
    "\n",
    "- Ex2.1: Use Ordinary Kriging for interpolating CML adjustment field and plot the result.\n",
    "- Ex2.2: Switch on/off `full_line` option in `.interpolate()`. Experiment with the variogram parameteres. Plot the results of both variants compared to IDW. What do you observe?"
   ]
  },
  {
   "cell_type": "code",
   "execution_count": null,
   "metadata": {},
   "outputs": [],
   "source": [
    "# Ex2.1: Your code here....\n",
    "\n",
    "\n",
    "\n",
    "\n",
    "\n",
    "\n",
    "\n",
    "\n"
   ]
  },
  {
   "cell_type": "code",
   "execution_count": null,
   "metadata": {},
   "outputs": [],
   "source": [
    "if input(\"Enter 'Solution' to display solutions: \")=='Solution':\n",
    "    %load solutions/5_2_1_solution.py"
   ]
  },
  {
   "cell_type": "code",
   "execution_count": null,
   "metadata": {},
   "outputs": [],
   "source": [
    "# Ex2.2: Your code here....\n",
    "\n",
    "\n",
    "\n",
    "\n",
    "\n",
    "\n",
    "\n",
    "\n",
    "\n",
    "\n",
    "\n",
    "\n",
    "\n",
    "\n"
   ]
  },
  {
   "cell_type": "code",
   "execution_count": null,
   "metadata": {},
   "outputs": [],
   "source": [
    "if input(\"Enter 'Solution' to display solutions: \")=='Solution':\n",
    "    %load solutions/5_2_2_solution.py"
   ]
  },
  {
   "cell_type": "markdown",
   "metadata": {},
   "source": [
    "## Introduction to high-level merging functions"
   ]
  },
  {
   "cell_type": "markdown",
   "metadata": {},
   "source": [
    "In `mergeplg` there are high-level functions that combine the three steps of the radar adjustment process we did above:\n",
    "1. caclulating the difference between radar and gauges or CMLs\n",
    "2. interpolate the adjustment field\n",
    "3. adjust the radar field\n",
    "\n",
    "We will use `MergeDifferenceIDW` and `MergeDifferenceOrdinaryKriging` below.\n",
    "\n",
    "In addition there is also a high-level function `MergeKrigingExternalDrift` which follows a different approach. We will show this at the end of this noteobook."
   ]
  },
  {
   "cell_type": "markdown",
   "metadata": {},
   "source": [
    "### usage of `MergeDifferenceIDW`"
   ]
  },
  {
   "cell_type": "code",
   "execution_count": null,
   "metadata": {},
   "outputs": [],
   "source": [
    "merger = mrg.merge.MergeDifferenceIDW(min_observations=3)\n",
    "\n",
    "R_grid_idw_high_level = merger.adjust(\n",
    "    ds_radar.R_observed,\n",
    "    da_cml=ds_cmls.R,\n",
    "    da_gauge=ds_gauges.R,\n",
    "    idw_method=\"standard\",\n",
    "    max_distance=50,\n",
    ")\n",
    "\n",
    "plot_true_obs_adj_diff(\n",
    "    da_grid_R_true=ds_radar.R_true,\n",
    "    da_grid_R_observed=ds_radar.R_observed,\n",
    "    da_grid_R_adjusted=R_grid_idw_high_level,\n",
    "    da_cmls_R=ds_cmls.R,\n",
    "    da_gauges_R=ds_gauges.R,\n",
    "    da_cmls_R_diff=ds_cmls.R_diff,\n",
    "    da_gauges_R_diff=ds_gauges.R_diff,\n",
    ")"
   ]
  },
  {
   "cell_type": "markdown",
   "metadata": {},
   "source": [
    "### usage of `MergeDifferenceOrdinaryKriging`"
   ]
  },
  {
   "cell_type": "code",
   "execution_count": null,
   "metadata": {},
   "outputs": [],
   "source": [
    "merger = mrg.merge.MergeDifferenceOrdinaryKriging(min_observations=3)\n",
    "\n",
    "R_grid_ok_high_level = merger.adjust(\n",
    "    ds_radar.R_observed,\n",
    "    da_cml=ds_cmls.R,\n",
    "    da_gauge=ds_gauges.R,\n",
    "    variogram_parameters = {\"sill\": 1, \"range\": 20, \"nugget\": 0.1}\n",
    ")\n",
    "\n",
    "plot_true_obs_adj_diff(\n",
    "    da_grid_R_true=ds_radar.R_true,\n",
    "    da_grid_R_observed=ds_radar.R_observed,\n",
    "    da_grid_R_adjusted=R_grid_ok_high_level,\n",
    "    da_cmls_R=ds_cmls.R,\n",
    "    da_gauges_R=ds_gauges.R,\n",
    "    da_cmls_R_diff=ds_cmls.R_diff,\n",
    "    da_gauges_R_diff=ds_gauges.R_diff,\n",
    ")"
   ]
  },
  {
   "cell_type": "markdown",
   "metadata": {},
   "source": [
    "### Usage of `MergeKrigingExternalDrift`"
   ]
  },
  {
   "cell_type": "code",
   "execution_count": null,
   "metadata": {},
   "outputs": [],
   "source": [
    "merger = mrg.merge.MergeKrigingExternalDrift(min_observations=3)\n",
    "\n",
    "R_grid_ked_high_level = merger.adjust(\n",
    "    da_rad=ds_radar.R_observed,\n",
    "    da_cml=ds_cmls.R,\n",
    "    da_gauge=ds_gauges.R.expand_dims('time'),\n",
    "    variogram_parameters = {\"sill\": 1, \"range\": 20, \"nugget\": 0.1}\n",
    ")\n",
    "\n",
    "plot_true_obs_adj_diff(\n",
    "    da_grid_R_true=ds_radar.R_true,\n",
    "    da_grid_R_observed=ds_radar.R_observed,\n",
    "    da_grid_R_adjusted=R_grid_ked_high_level,\n",
    "    da_cmls_R=ds_cmls.R,\n",
    "    da_gauges_R=ds_gauges.R,\n",
    "    da_cmls_R_diff=ds_cmls.R_diff,\n",
    "    da_gauges_R_diff=ds_gauges.R_diff,\n",
    ")"
   ]
  },
  {
   "cell_type": "markdown",
   "metadata": {},
   "source": [
    "### Ex3: Compare the different methods\n",
    "- 3.1: Create a scatter or hexbin plot of the different adjusted fields vs the true rainfall field. You can also create more adjusted fields with different variations of the methods (gauge only, CML only, multiplicative instead of additive, different parameters)\n",
    "- 3.2 (optional): Calculate some metrics. You can use `plg.validation.calculate_rainfall_metrics`."
   ]
  },
  {
   "cell_type": "code",
   "execution_count": null,
   "metadata": {},
   "outputs": [],
   "source": [
    "# Ex3.1: Your code here....\n",
    "\n",
    "\n",
    "\n",
    "\n",
    "\n",
    "\n",
    "\n",
    "\n",
    "\n",
    "\n",
    "\n",
    "\n"
   ]
  },
  {
   "cell_type": "code",
   "execution_count": null,
   "metadata": {},
   "outputs": [],
   "source": [
    "if input(\"Enter 'Solution' to display solutions: \")=='Solution':\n",
    "    %load solutions/5_3_1_solution.py"
   ]
  },
  {
   "cell_type": "code",
   "execution_count": null,
   "metadata": {},
   "outputs": [],
   "source": [
    "# Ex3.2: Your code here........\n",
    "\n",
    "\n",
    "\n",
    "\n",
    "\n",
    "\n",
    "\n",
    "\n",
    "\n",
    "\n",
    "\n",
    "\n",
    "\n"
   ]
  },
  {
   "cell_type": "code",
   "execution_count": null,
   "metadata": {},
   "outputs": [],
   "source": [
    "if input(\"Enter 'Solution' to display solutions: \")=='Solution':\n",
    "    %load solutions/5_3_2_solution.py"
   ]
  }
 ],
 "metadata": {
  "kernelspec": {
   "display_name": "Python 3 (ipykernel)",
   "language": "python",
   "name": "python3"
  },
  "language_info": {
   "codemirror_mode": {
    "name": "ipython",
    "version": 3
   },
   "file_extension": ".py",
   "mimetype": "text/x-python",
   "name": "python",
   "nbconvert_exporter": "python",
   "pygments_lexer": "ipython3",
   "version": "3.11.11"
  }
 },
 "nbformat": 4,
 "nbformat_minor": 4
}
