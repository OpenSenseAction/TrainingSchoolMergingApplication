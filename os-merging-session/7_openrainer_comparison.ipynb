{
 "cells": [
  {
   "cell_type": "markdown",
   "id": "8587eff5-a6fc-4d75-ad61-71a684ecb082",
   "metadata": {},
   "source": [
    "# CML processing with radar wet-dry and spatial interpolation of points and lines "
   ]
  },
  {
   "cell_type": "code",
   "execution_count": 1,
   "id": "5707ff56-908e-4253-a800-fe3982f0b118",
   "metadata": {},
   "outputs": [],
   "source": [
    "import sys\n",
    "import os\n",
    "sys.path.append(os.path.abspath(\"../poligrain/src\"))\n",
    "sys.path.append(os.path.abspath(\"../mergeplg/src\"))\n",
    "sys.path.append(os.path.abspath(\"../pycomlink/\"))\n",
    "\n",
    "\n",
    "import poligrain as plg\n",
    "import mergeplg as mrg\n",
    "import pycomlink as pycml\n",
    "\n",
    "import xarray as xr\n",
    "import numpy as np\n",
    "import matplotlib.pyplot as plt"
   ]
  },
  {
   "cell_type": "code",
   "execution_count": 6,
   "id": "ffb59cb0-1440-4ed4-bf25-9054e445919c",
   "metadata": {},
   "outputs": [
    {
     "name": "stdout",
     "output_type": "stream",
     "text": [
      "File already exists at example_data/openrainer_cml_8d.nc\n",
      "Not downloading!\n",
      "File already exists at example_data/openrainer_radar_8d.nc\n",
      "Not downloading!\n",
      "File already exists at example_data/openrainer_gauges_8d.nc\n",
      "Not downloading!\n"
     ]
    }
   ],
   "source": [
    "# Fetches 8 days from OpenRainER dataset\n",
    "(\n",
    "    ds_rad,\n",
    "    ds_cmls,\n",
    "    ds_gauges,\n",
    ") = plg.example_data.load_openrainer(data_dir=\"example_data\", subset=\"8d\")\n",
    "\n",
    "ds_rad = ds_rad.rename({'R':'rainfall_radar'})\n",
    "ds_rad = ds_rad.rename({'R_gauge_adjusted':'rainfall_gauge_adjusted'})\n"
   ]
  },
  {
   "cell_type": "code",
   "execution_count": 7,
   "id": "077d9b27-c9c8-498d-a962-35195a452fc6",
   "metadata": {},
   "outputs": [],
   "source": [
    "# Project data to coordinate system\n",
    "# UTM32N: https://epsg.io/32632\n",
    "ref_str = \"EPSG:32632\"\n",
    "\n",
    "ds_gauges.coords[\"x\"], ds_gauges.coords[\"y\"] = plg.spatial.project_point_coordinates(\n",
    "    ds_gauges.lon, ds_gauges.lat, ref_str\n",
    ")\n",
    "\n",
    "# For CML\n",
    "(\n",
    "    ds_cmls.coords[\"site_0_x\"],\n",
    "    ds_cmls.coords[\"site_0_y\"],\n",
    ") = plg.spatial.project_point_coordinates(\n",
    "    ds_cmls.site_0_lon, ds_cmls.site_0_lat, ref_str\n",
    ")\n",
    "(\n",
    "    ds_cmls.coords[\"site_1_x\"],\n",
    "    ds_cmls.coords[\"site_1_y\"],\n",
    ") = plg.spatial.project_point_coordinates(\n",
    "    ds_cmls.site_1_lon, ds_cmls.site_1_lat, ref_str\n",
    ")\n",
    "\n",
    "# Midpoint\n",
    "ds_cmls.coords[\"x\"] = (ds_cmls.site_0_x + ds_cmls.site_1_x) / 2\n",
    "ds_cmls.coords[\"y\"] = (ds_cmls.site_0_y + ds_cmls.site_1_y) / 2\n",
    "\n",
    "\n",
    "# Projected radar coords\n",
    "ds_rad.coords[\"x_grid\"], ds_rad.coords[\"y_grid\"] = (\n",
    "    plg.spatial.project_point_coordinates(ds_rad.lon, ds_rad.lat, ref_str)\n",
    ")"
   ]
  },
  {
   "cell_type": "markdown",
   "id": "8db7853f-63ac-4847-bd53-06e42b30e240",
   "metadata": {},
   "source": [
    "# Exercises\n",
    "1. Perform CML pre-processing and processing\n",
    "2. Resample CML, rain gauge and radar to common time resolution (for instance 1 hour)\n",
    "3. Perform interpolation (IDW, Kriging, Block Kriging) and "
   ]
  },
  {
   "cell_type": "code",
   "execution_count": null,
   "id": "1b759857-9357-4c5d-99c7-1542c839f853",
   "metadata": {},
   "outputs": [],
   "source": []
  }
 ],
 "metadata": {
  "kernelspec": {
   "display_name": "Python 3 (ipykernel)",
   "language": "python",
   "name": "python3"
  },
  "language_info": {
   "codemirror_mode": {
    "name": "ipython",
    "version": 3
   },
   "file_extension": ".py",
   "mimetype": "text/x-python",
   "name": "python",
   "nbconvert_exporter": "python",
   "pygments_lexer": "ipython3",
   "version": "3.11.11"
  }
 },
 "nbformat": 4,
 "nbformat_minor": 5
}
