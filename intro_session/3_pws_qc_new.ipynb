{
 "cells": [
  {
   "cell_type": "markdown",
   "id": "42503d47-035b-4ffc-a531-d277450214a1",
   "metadata": {},
   "source": [
    "# QC protocol for Private Weather Stations"
   ]
  },
  {
   "cell_type": "markdown",
   "id": "e8c627a2-bf0c-4543-91a5-d8ec579d1991",
   "metadata": {},
   "source": [
    "This notebook presents how to use the Python package `pypwsqc`, a quality assurance protocol developed for automated private weather stations (PWS).\n",
    "The protocol consists of three filters from de Vos et al (2019) the Faulty Zero filter, the High Influx filter and the Station Outlier filter as well as the Indicator Correlation Filter (IC) from Bardossy et al. (2021) \n",
    "\n",
    "\n",
    "\n",
    "Publications: \n",
    "* de Vos, L. W., Leijnse, H., Overeem, A., & Uijlenhoet, R. (2019). Quality control for crowdsourced personal weather stations to enable operational rainfall monitoring. Geophysical Research Letters, 46(15), 8820-8829 with original R code at available at https://github.com/LottedeVos/PWSQC/.\n",
    "* Bárdossy, A., Seidel, J., and El Hachem, A.: The use of personal weather station observations to improve precipitation estimation and interpolation, Hydrol. Earth Syst. Sci., 25, 583–601, https://doi.org/10.5194/hess-25-583-2021, 2021. \n",
    "\n"
   ]
  },
  {
   "cell_type": "code",
   "execution_count": null,
   "id": "2494fa40-0440-4f66-9e8e-120525e22752",
   "metadata": {},
   "outputs": [],
   "source": [
    "import sys\n",
    "\n",
    "sys.path.append('../poligrain/src')\n",
    "sys.path.append('../pypwsqc/src')"
   ]
  },
  {
   "cell_type": "code",
   "execution_count": null,
   "id": "ddc1b508-44a3-4cbe-821b-07957a8b8d61",
   "metadata": {},
   "outputs": [],
   "source": [
    "import matplotlib.pyplot as plt\n",
    "import poligrain as plg\n",
    "import xarray as xr\n",
    "from tqdm import tqdm\n",
    "import numpy as np\n",
    "\n",
    "import pypwsqc\n",
    "\n",
    "import warnings\n",
    "warnings.simplefilter(action=\"ignore\", category=FutureWarning)\n",
    "warnings.simplefilter(action=\"ignore\", category=RuntimeWarning)"
   ]
  },
  {
   "cell_type": "markdown",
   "id": "d8eabf00-cd96-4df4-83d0-6d2bbc7f00b5",
   "metadata": {},
   "source": [
    "## Download example data from poligrain\n",
    "\n",
    "In this example, we use an open PWS dataset from Amsterdam, called the \"AMS PWS\" dataset. By running the cell below, a NetCDF-file will be downloaded to your current repository (if your machine is connected to the internet)."
   ]
  },
  {
   "cell_type": "code",
   "execution_count": null,
   "id": "9e00e8f0-7472-4abd-866d-ac4ee7084186",
   "metadata": {},
   "outputs": [],
   "source": [
    "(\n",
    "    ds_pws,\n",
    "    ds_gauges,\n",
    ") = plg.example_data.load_ams_pws(data_dir=\"example_data\", subset=\"full_period\")\n"
   ]
  },
  {
   "cell_type": "markdown",
   "id": "b3196db8-5f40-4572-906e-f8dbc6963820",
   "metadata": {},
   "source": [
    "## Data preparations\n",
    "\n",
    "This package handles rainfall data as `xarray`  Datasets. The data set must have `time` and `id` dimensions, `latitude` and `longitude` as coordinates, and `rainfall` as data variable.\n",
    "\n",
    "An example of how to convert .csv data to a `xarray` dataset is found [here](https://github.com/OpenSenseAction/OS_data_format_conventions/blob/main/notebooks/PWS_example_dataset.ipynb)."
   ]
  },
  {
   "cell_type": "code",
   "execution_count": null,
   "id": "c9861088-c01d-4967-8522-10b3bd4b5054",
   "metadata": {},
   "outputs": [],
   "source": [
    "ds_pws.load()"
   ]
  },
  {
   "cell_type": "code",
   "execution_count": null,
   "id": "47d5b57a-cee8-42b6-b4ab-0c9f40e1271b",
   "metadata": {},
   "outputs": [],
   "source": [
    "ds_gauges.load()"
   ]
  },
  {
   "cell_type": "markdown",
   "id": "4798289d-4118-43ff-8a17-fe54c91f8d8b",
   "metadata": {},
   "source": [
    "### Reproject coordinates\n",
    "First we reproject the coordinates to a local metric coordinate reference system to allow for distance calculations. In the Amsterdam example we use EPSG:25832. **Remember to use a local metric reference system for your use case!** We use the function `spatial.project_point_coordinates` in the `poligrain`package. "
   ]
  },
  {
   "cell_type": "code",
   "execution_count": null,
   "id": "fd9e0c17-e360-4fe0-9b8b-362dca21b613",
   "metadata": {},
   "outputs": [],
   "source": [
    "ds_pws.coords[\"x\"], ds_pws.coords[\"y\"] = plg.spatial.project_point_coordinates(\n",
    "    x=ds_pws.lon, y=ds_pws.lat, target_projection=\"EPSG:25832\"\n",
    ")\n",
    "\n",
    "ds_gauges.coords[\"x\"], ds_gauges.coords[\"y\"] = plg.spatial.project_point_coordinates(\n",
    "    ds_gauges.lon,\n",
    "    ds_gauges.lat,\n",
    "    target_projection=\"EPSG:25832\",\n",
    ")"
   ]
  },
  {
   "cell_type": "markdown",
   "id": "5aec8b35-6021-4e81-94e3-3c85162c09ee",
   "metadata": {},
   "source": [
    "### Create distance matrix\n",
    "\n",
    "Then, we calculate the distances between all stations in our data set. If your data set has a large number of stations this can take some time."
   ]
  },
  {
   "cell_type": "code",
   "execution_count": null,
   "id": "b25b9ab8-7a6a-4aa2-872d-0076be536f30",
   "metadata": {},
   "outputs": [],
   "source": [
    "distance_matrix = plg.spatial.calc_point_to_point_distances(ds_pws, ds_pws)"
   ]
  },
  {
   "cell_type": "code",
   "execution_count": null,
   "id": "93c85228-3a1b-4653-8673-a578a2d6142d",
   "metadata": {},
   "outputs": [],
   "source": [
    "plt.pcolor(distance_matrix.values)\n",
    "plt.colorbar(label='distance [m]')\n",
    "plt.xlabel('pws_id')\n",
    "plt.ylabel('pws_id');"
   ]
  },
  {
   "cell_type": "markdown",
   "id": "8c70fc46-051e-401f-a9c9-b29df0c0f8a7",
   "metadata": {},
   "source": [
    "### Calculate data variables \n",
    "Next, we will calculate the data variables `nbrs_not_nan` and `reference` that are needed to perform the quality control. \n",
    "\n",
    "`nbrs_not_nan`:\n",
    "Number of neighbours within a specificed range `max_distance` around the station that are reporting rainfall for each time step. The selected range depends on the use case and area of interest. In this example we use 10'000 meters. \n",
    "\n",
    " `reference`:\n",
    "Median rainfall of all stations within range `max_distance` from each station.\n",
    "\n",
    "`max_distance` is called `d` in the original publication."
   ]
  },
  {
   "cell_type": "code",
   "execution_count": null,
   "id": "89ad5b25-04dd-483f-8efb-c2d0e97f705a",
   "metadata": {},
   "outputs": [],
   "source": [
    "max_distance = 10e3"
   ]
  },
  {
   "cell_type": "code",
   "execution_count": null,
   "id": "aedee960-32b6-4dac-b8c3-6b9c98fe06c4",
   "metadata": {},
   "outputs": [],
   "source": [
    "nbrs_not_nan = []\n",
    "reference = []\n",
    "\n",
    "for pws_id in tqdm(ds_pws.id.data):\n",
    "    neighbor_ids = distance_matrix.id.data[\n",
    "        (distance_matrix.sel(id=pws_id) < max_distance)\n",
    "        & (distance_matrix.sel(id=pws_id) > 0)\n",
    "    ]\n",
    "\n",
    "    N = ds_pws.rainfall.sel(id=neighbor_ids).isnull().sum(dim=\"id\")\n",
    "    nbrs_not_nan.append(N)\n",
    "\n",
    "    median = ds_pws.sel(id=neighbor_ids).rainfall.median(dim=\"id\")\n",
    "    reference.append(median)\n",
    "\n",
    "ds_pws[\"nbrs_not_nan\"] = xr.concat(nbrs_not_nan, dim=\"id\")\n",
    "ds_pws[\"reference\"] = xr.concat(reference, dim=\"id\")"
   ]
  },
  {
   "cell_type": "markdown",
   "id": "b8e2d3ae-db8b-4472-b529-52baf10ec708",
   "metadata": {},
   "source": [
    "## Plot some data"
   ]
  },
  {
   "cell_type": "code",
   "execution_count": null,
   "id": "a79dfee9-6d7f-41f4-93c4-713787eaa7f6",
   "metadata": {},
   "outputs": [],
   "source": [
    "# pws and ref time series in hourl resulution\n",
    "ds_pws.rainfall.isel(id=16).resample(time='1h').sum().plot(figsize=(12,2),alpha=0.5,label='pws')\n",
    "ds_gauges.rainfall.isel(id=0).plot(color='C1',alpha=0.5,label='reference')\n",
    "plt.legend();"
   ]
  },
  {
   "cell_type": "code",
   "execution_count": null,
   "id": "52330ce7-ff6b-43d1-a167-b08c8afee53d",
   "metadata": {},
   "outputs": [],
   "source": [
    "ds_pws.rainfall.cumsum(dim='time').plot.line(x='time',lw=2, alpha=0.2,color='blue',add_legend=False)\n",
    "ds_gauges.rainfall.cumsum(dim='time').plot.line(x='time',color='red', alpha=0.2, add_legend=False)\n",
    "plt.ylim(0,2500);"
   ]
  },
  {
   "cell_type": "markdown",
   "id": "d8566718-cedc-4e25-ab82-5b0c7206269a",
   "metadata": {},
   "source": [
    "# Quality control methods"
   ]
  },
  {
   "cell_type": "markdown",
   "id": "abac2b94-1ea3-4abf-bf41-547460e0db9a",
   "metadata": {},
   "source": [
    "## Faulty Zero Filter (FZ)\n",
    "Conditions for raising Faulty Zeros flag:\n",
    "\n",
    "* Median rainfall of neighbouring stations within range max_distance is larger than zero for at least nint time intervals while the station itself reports zero rainfall.\n",
    "* The FZ flag remains 1 until the station reports nonzero rainfall.\n",
    "* Filter cannot be applied if less than `n_stat` neighbours are reporting data (FZ flag is set to -1)\n",
    "* NOTE! The filter cannot be applied if the station has reported NaN data in the last `nint` time steps. This gives more -1 flags than in the original R-implementation that does not use this condition. This choice was done to ensure that timesteps without data at the evaluated station is not mistakenly being interpreted as timesteps who have passed the quality control (if they would have been flagged with 0) or as time steps with a Faulty Zero issue (if they would have been flagged with 1).\n",
    "  \n",
    "For settings for parameter `nint` and `nstat`, see table 1 in [de Vos et al. (2019)](https://agupubs.onlinelibrary.wiley.com/doi/full/10.1029/2019GL083731)\n"
   ]
  },
  {
   "cell_type": "code",
   "execution_count": null,
   "id": "5f513a7d-1aa0-410c-91e5-e189adcea8b3",
   "metadata": {},
   "outputs": [],
   "source": [
    "%%time \n",
    "# takes 2-3 minutes\n",
    "# compute filter\n",
    "ds_pws = pypwsqc.flagging.fz_filter(\n",
    "    ds_pws=ds_pws,\n",
    "    nint=3,\n",
    "    n_stat=5,\n",
    ")"
   ]
  },
  {
   "cell_type": "markdown",
   "id": "cb62e982-bfc5-40e3-b754-149331f7bc3b",
   "metadata": {},
   "source": [
    "## High Influx Filter (HI)\n",
    "Conditions for raising High Influx flag:\n",
    "\n",
    "* If median rainfall of neighbours is below threshold ϕA, then high influx if rainfall above threshold ϕB\n",
    "* If median rainfall of neighbours is above ϕA, then high influx if rainfall exceeds median times ϕB/ϕA\n",
    "* Filter cannot be applied if less than n_stat neighbours are reporting data (HI flag is set to -1)\n",
    "* NOTE! The filter cannot be applied if the station has reported NaN data in the last `nint` time steps. This gives more -1 flags than in the original R-implementation that does not use this condition. This choice was done to ensure that timesteps without data at the evaluated station is not mistakenly being interpreted as timesteps who have passed the quality control (if they would have been flagged with 0) or as time steps with a High Influx issue (if they would have been flagged with 1).\n",
    "  \n",
    "For settings for parameter `ϕA`, `ϕB`, `nstat`, and `nint`, see table 1 in [de Vos et al. (2019)](https://agupubs.onlinelibrary.wiley.com/doi/full/10.1029/2019GL083731)"
   ]
  },
  {
   "cell_type": "code",
   "execution_count": null,
   "id": "57d5becd-bd15-4a1e-9bc2-153fbbd4352f",
   "metadata": {},
   "outputs": [],
   "source": [
    "%%time\n",
    "# compute filter\n",
    "ds_pws = pypwsqc.flagging.hi_filter(\n",
    "    ds_pws=ds_pws,\n",
    "    hi_thres_a=0.4,\n",
    "    hi_thres_b=10,\n",
    "    nint=6,\n",
    "    n_stat=5,\n",
    ")"
   ]
  },
  {
   "cell_type": "markdown",
   "id": "f4d29d78-3eb8-4057-8cd0-75c076fc1bac",
   "metadata": {},
   "source": [
    "## Station outlier filter (SO)\n",
    "Conditions for raising Station Outlier flag:\n",
    "\n",
    "* Median of the rolling pearson correlation with all neighboring stations within range `max_distance` is less than threshold `gamma`\n",
    "* Filter cannot be applied if less than `n_stat` neighbours are reporting data (SO flag is set to -1)\n",
    "* Filter cannot be applied if there are less than `n_stat` neighbours with less than `mmatch` intervals overlapping with the evaluated station (SO flag is set to -1)\n",
    "\n",
    "For settings for parameter `evaluation_period`, `mmatch`, `gamma`, and `n_stat`,  see table 1 in [de Vos et al. (2019)](https://agupubs.onlinelibrary.wiley.com/doi/full/10.1029/2019GL083731)\n",
    "\n",
    "Note! The SO-filter is different compared with the original R-code. In its original implementation, any interval with at least `mrain` intervals of nonzero rainfall measurements is evaluated. In this implementation, only a fixed rolling time window is evaluated. Therefore, the `mrain` variable from the orignal code is not needed. In the original publication, the variable `evaluation_period` (the evaluation period) is set to 4032. For 5-minute data, this is equivalent of two weeks. When the option of a variable evaluation period is excluded, two weeks is often too short as there might not be enough wet periods in the last two weeks to calculate the correlation. This results in a lot of '-1'-flags (filter cannot be applied). It is suggested to use a longer evaluation period, for example four weeks (`evaluation_period` = 8064 for 5-minute data).\n",
    "\n",
    "The first `evaluation_period` timesteps (here set to 8064 time steps), the rollig median correlation is computed with the last time steps in the time series. Therefore, the resulting `median_corr_nbrs` should be disregarded the first `evaluation_period` time steps.\n",
    "\n",
    "`evaluation_period` is called `mint`in the original publication.\n",
    "\n",
    "We initialize data variables for the resulting SO-flags and the median pearson correlation with neighboring stations with the value -999. If the variables have the value 0 (passed the test), 1 (did not pass the test) or -1 (not enough information) after running the SO-filter, we know that these time series have been evaluated. If the value is still -999, this means that something went wrong as the data has not been processed. \n",
    "\n",
    "We also save the threshold `gamma` as a variable. In this way we can easily visualize if the median correlation with neighbors drops below this threshold, which is the condition for raising a SO-flag."
   ]
  },
  {
   "cell_type": "code",
   "execution_count": null,
   "id": "4f5e7b5e-272f-495b-bfbb-babfcd31536f",
   "metadata": {},
   "outputs": [],
   "source": [
    "evaluation_period = 8064\n",
    "mmatch = 200\n",
    "gamma = 0.15\n",
    "n_stat = 5\n",
    "max_distance = 10e3"
   ]
  },
  {
   "cell_type": "code",
   "execution_count": null,
   "id": "a6495c76-c48d-49c6-b149-cc366207fadf",
   "metadata": {},
   "outputs": [],
   "source": [
    "ds_pws[\"so_flag\"] = xr.DataArray(\n",
    "    np.ones((len(ds_pws.id), len(ds_pws.time))) * -999, dims=(\"id\", \"time\")\n",
    ")\n",
    "ds_pws[\"median_corr_nbrs\"] = xr.DataArray(\n",
    "    np.ones((len(ds_pws.id), len(ds_pws.time))) * -999, dims=(\"id\", \"time\")\n",
    ")\n",
    "ds_pws[\"gamma\"] = xr.DataArray(\n",
    "    np.ones((len(ds_pws.id), len(ds_pws.time))) * gamma, dims=(\"id\", \"time\")\n",
    ")"
   ]
  },
  {
   "cell_type": "markdown",
   "id": "a5d15662-1604-4d18-84d3-aaec3ef3a920",
   "metadata": {},
   "source": [
    "### Run filter"
   ]
  },
  {
   "cell_type": "code",
   "execution_count": null,
   "id": "35a51fbe-3f54-45ca-895a-58ffc50201a0",
   "metadata": {},
   "outputs": [],
   "source": [
    "%%time\n",
    "# takes 1min per month \n",
    "ds_pws_sel = pypwsqc.flagging.so_filter(\n",
    "    ds_pws = ds_pws.sel(time=\"2018\"),\n",
    "    distance_matrix = distance_matrix,\n",
    "    evaluation_period = 8064,\n",
    "    mmatch = 200,\n",
    "    gamma = 0.15,\n",
    "    n_stat = 5,\n",
    "    max_distance = 10e3,\n",
    ")"
   ]
  },
  {
   "cell_type": "markdown",
   "id": "13c74e6c-74c7-48f7-b091-7899b3db0686",
   "metadata": {},
   "source": [
    "## Exercise 1\n",
    "1.1 Plot a PWS that is flagged by the each of the filters and their neigbhoring station values (reference) for comparison.  \n",
    "1.2 Plot an overview of all three flags for the year 2018."
   ]
  },
  {
   "cell_type": "code",
   "execution_count": null,
   "id": "3f1f7a8f-0f5d-41af-8831-c0a25dbab00f",
   "metadata": {},
   "outputs": [],
   "source": [
    "# 1.1 - your solution here\n"
   ]
  },
  {
   "cell_type": "code",
   "execution_count": null,
   "id": "39715810-c063-4a4e-a0f9-fef904790b12",
   "metadata": {},
   "outputs": [],
   "source": [
    "if input(\"Enter 'Solution' to display solutions: \")=='Solution':\n",
    "    %load solutions/3_1_1_solution.py"
   ]
  },
  {
   "cell_type": "code",
   "execution_count": null,
   "id": "09c7e114-5689-4d01-94e4-2329ef7e4166",
   "metadata": {},
   "outputs": [],
   "source": [
    "# 1.2 - your solution here\n",
    "\n"
   ]
  },
  {
   "cell_type": "code",
   "execution_count": null,
   "id": "5746c063-4641-4896-a7be-f8f956b5ab85",
   "metadata": {},
   "outputs": [],
   "source": [
    "if input(\"Enter 'Solution' to display solutions: \")=='Solution':\n",
    "    %load solutions/3_1_2_solution.py"
   ]
  },
  {
   "cell_type": "markdown",
   "id": "de0b5ebf-732a-42b9-9b6b-0aa360986c0a",
   "metadata": {},
   "source": [
    "## Indicator Correlation Filter (IC)\n",
    "The PWS data needs to be in hourly values as the indocator correlation filter by Bárdossy et al. (2021) does not work with 5 minute data\n",
    "\n",
    "For the aggreation, the new value for an hour is considered as valid if at least 10 out 12 5-min values within one hour have valid data. This can be set by the min count parameter."
   ]
  },
  {
   "cell_type": "code",
   "execution_count": null,
   "id": "f818bd3d-9b84-4f81-9ce6-383dcb634897",
   "metadata": {},
   "outputs": [],
   "source": [
    "ds_pws_hourly = ds_pws.resample(time=\"1h\").sum(min_count=10)"
   ]
  },
  {
   "cell_type": "markdown",
   "id": "2f1bb833-3978-415e-80c6-6d4dced7357a",
   "metadata": {},
   "source": [
    "### Indicator correlation vs distance\n",
    "First, we calculate the indicator correlations over distance for the reference data set. This is assumed to be the correct spatial pattern of precipitation which is used for checking the PWS later on."
   ]
  },
  {
   "cell_type": "code",
   "execution_count": null,
   "id": "e4303f7b-a205-4149-ac12-8f0a3aad825e",
   "metadata": {},
   "outputs": [],
   "source": [
    "import pypwsqc.indicator_correlation as ic"
   ]
  },
  {
   "cell_type": "code",
   "execution_count": null,
   "id": "ad596cb2-263c-42eb-8db4-984cc05b6b69",
   "metadata": {},
   "outputs": [],
   "source": [
    "# Distance and indicator correlations of reference data\n",
    "dist_mtx_ref, indcorr_mtx_ref = ic.indicator_distance_matrix(\n",
    "    ds_gauges.rainfall,\n",
    "    ds_gauges.rainfall,\n",
    "    max_distance=30e3,\n",
    "    prob=0.99,\n",
    "    min_valid_overlap=2 * 24 * 30,\n",
    ")"
   ]
  },
  {
   "cell_type": "code",
   "execution_count": null,
   "id": "9c9e9d34-3994-4b02-861f-66b0beb2e60c",
   "metadata": {},
   "outputs": [],
   "source": [
    "# plot the indicator time series of all reference stations\n",
    "(ds_gauges.rainfall>ds_gauges.rainfall.quantile(0.99)).plot(figsize=(15,5));"
   ]
  },
  {
   "cell_type": "code",
   "execution_count": null,
   "id": "ffa2f4df-899e-4f0f-80b2-5c9839f24da0",
   "metadata": {},
   "outputs": [],
   "source": [
    "plt.scatter(dist_mtx_ref, indcorr_mtx_ref, color=\"red\", s=10, label=\"Ref\")\n",
    "plt.ylim(0, 1)\n",
    "plt.xlim(0, 30e3)\n",
    "plt.ylabel(\"Indicator Correlation [-]\")\n",
    "plt.xlabel(\"Distance [m]\")\n",
    "plt.title(\"Indicator Correlation vs. Distance for Reference Data\")\n",
    "plt.legend();"
   ]
  },
  {
   "cell_type": "code",
   "execution_count": null,
   "id": "9c8bc46b-43a4-4a46-a9ef-c5397d8c0079",
   "metadata": {},
   "outputs": [],
   "source": [
    "# Distance and indicator correlations of PWS\n",
    "dist_mtx_pws, indcorr_mtx_pws = ic.indicator_distance_matrix(\n",
    "    ds_pws_hourly.rainfall,\n",
    "    ds_pws_hourly.rainfall,\n",
    "    prob=0.99,\n",
    "    max_distance=30e3,\n",
    "    min_valid_overlap=2 * 24 * 30,\n",
    ")"
   ]
  },
  {
   "cell_type": "code",
   "execution_count": null,
   "id": "84b1621c-0693-442d-b309-9920b1eaf24b",
   "metadata": {},
   "outputs": [],
   "source": [
    "plt.scatter(dist_mtx_pws, indcorr_mtx_pws, color=\"b\", alpha=0.2, s=10, label=\"PWS\")\n",
    "plt.scatter(dist_mtx_ref, indcorr_mtx_ref, color=\"red\", s=10, label=\"Ref\")\n",
    "plt.ylim(0, 1)\n",
    "plt.xlim(0, 30e3)\n",
    "plt.ylabel(\"Indicator Correlation [-]\")\n",
    "plt.xlabel(\"Distance [m]\")\n",
    "plt.title(\"Indicator Correlation over Distance for PWS and Reference Data\")\n",
    "plt.legend();"
   ]
  },
  {
   "cell_type": "markdown",
   "id": "912c0416-1cfe-4dfa-a461-f963f5806cbe",
   "metadata": {},
   "source": [
    "We can see that the PWS data is very \"noisy\", i.e. the indicator correlation of nearby PWS stations is very low which we would not expect from the reference. Such PWS are likely to have data quality issues ans will be removed by the Indicator Correlation Filter."
   ]
  },
  {
   "cell_type": "markdown",
   "id": "30c75337-a712-4e51-94bd-b14add23e7da",
   "metadata": {},
   "source": [
    "Finally the distance and indicator correlations matrices between PWS and reference data are calculated."
   ]
  },
  {
   "cell_type": "code",
   "execution_count": null,
   "id": "dd179e68-7a06-43e5-b2df-1ce60537b665",
   "metadata": {},
   "outputs": [],
   "source": [
    "dist_mtx_ref_pws, indcorr_mtx_ref_pws = ic.indicator_distance_matrix(\n",
    "    da_a=ds_gauges.rainfall,\n",
    "    da_b=ds_pws_hourly.rainfall,\n",
    "    prob=0.99,\n",
    "    min_valid_overlap=2 * 24 * 30,\n",
    ")"
   ]
  },
  {
   "cell_type": "markdown",
   "id": "918ee463-a78e-4cd4-b441-d9dc432b73eb",
   "metadata": {},
   "source": [
    "### Apply filter"
   ]
  },
  {
   "cell_type": "code",
   "execution_count": null,
   "id": "a13428aa-1682-435f-b805-bad3685d09f4",
   "metadata": {},
   "outputs": [],
   "source": [
    "indcorr_results = ic.ic_filter(\n",
    "    indicator_correlation_matrix_ref=indcorr_mtx_ref,\n",
    "    distance_correlation_matrix_ref=dist_mtx_ref,\n",
    "    indicator_correlation_matrix=indcorr_mtx_ref_pws,\n",
    "    distance_matrix=dist_mtx_ref_pws,\n",
    "    max_distance=20000,\n",
    "    bin_size=1000,\n",
    "    quantile_bin_ref=0.1,\n",
    "    quantile_bin_pws=0.5,\n",
    "    threshold=0.05,\n",
    ");"
   ]
  },
  {
   "cell_type": "code",
   "execution_count": null,
   "id": "3e2d8fc4-c47e-416c-b404-f80a49e1622e",
   "metadata": {},
   "outputs": [],
   "source": [
    "indcorr_results"
   ]
  },
  {
   "cell_type": "markdown",
   "id": "38dc852a-8be4-46fb-8545-a0fd69c60907",
   "metadata": {},
   "source": [
    "The results are returned as `xarray.Dataset` with four variables:\n",
    "\n",
    "`indcorr`: Indicator correlation matrix between `Ref` and `PWS`\n",
    "\n",
    "`dist`: Distance matrix between `Ref` and `PWS`\n",
    "\n",
    "`indcorr_good`: Bool Array indicating whether a PWS was accepted ('True') or rejected ('False') by the filter\n",
    "\n",
    "`indcorr_score`: A metric which indicates how well a PWS fit's into the correlation structure of the Reference"
   ]
  },
  {
   "cell_type": "code",
   "execution_count": null,
   "id": "f4d0c97f-577f-4a24-b4c4-64f012ceffb5",
   "metadata": {},
   "outputs": [],
   "source": [
    "print(\n",
    "    str(indcorr_results.indcorr_good.data.sum())\n",
    "    + \" of \"\n",
    "    + str(len(indcorr_results.indcorr_good))\n",
    "    + \" PWS were accepted\"\n",
    ")"
   ]
  },
  {
   "cell_type": "markdown",
   "id": "2f512af4-7f18-462a-96fe-2ee772f063cf",
   "metadata": {},
   "source": [
    "## Exercise 2\n",
    "2.1 Plot time series of following pws and colorize their points in the ic vs distane plot: 'ams74', 'ams134', 'ams113', 'ams36'. \n",
    "You can use following code for the ic vs. distance plot:\n",
    "```python\n",
    "distance_matrix_pws_ref = plg.spatial.calc_point_to_point_distances(ds_pws, ds_gauges)\n",
    "pws_id='ams74'\n",
    "indcorr_results.plot.scatter(x=\"dist\", y=\"indcorr\", color=\"grey\", alpha=0.5, s=10, )\n",
    "plt.scatter(dist_mtx_ref, indcorr_mtx_ref, color=\"r\", alpha=0.5, s=10, label=\"Ref\")\n",
    "indcorr_results.sel(id_neighbor=pws_id).plot.scatter(\n",
    "    x=\"dist\", y=\"indcorr\", color=\"lime\", s=15, label=pws_id,\n",
    ")\n",
    "```\n",
    "2.2 Check if these pws where flagged by the FZ, HI or SO filter.  "
   ]
  },
  {
   "cell_type": "code",
   "execution_count": null,
   "id": "430e2c69-2690-4109-88d4-7e079900a9a1",
   "metadata": {},
   "outputs": [],
   "source": [
    "# 2.1 your solution here\n",
    "\n",
    "\n"
   ]
  },
  {
   "cell_type": "code",
   "execution_count": null,
   "id": "84a39a90-6991-4b24-aab2-eeb8ea22371c",
   "metadata": {},
   "outputs": [],
   "source": [
    "# 2.2 your solution here\n",
    "\n",
    "\n"
   ]
  },
  {
   "cell_type": "code",
   "execution_count": null,
   "id": "bc599b62-8367-4824-a153-efa523826615",
   "metadata": {},
   "outputs": [],
   "source": [
    "# one solution for both exercises\n",
    "if input(\"Enter 'Solution' to display solutions: \")=='Solution':\n",
    "    %load solutions/3_2_solution.py"
   ]
  }
 ],
 "metadata": {
  "kernelspec": {
   "display_name": "Python 3 (ipykernel)",
   "language": "python",
   "name": "python3"
  },
  "language_info": {
   "codemirror_mode": {
    "name": "ipython",
    "version": 3
   },
   "file_extension": ".py",
   "mimetype": "text/x-python",
   "name": "python",
   "nbconvert_exporter": "python",
   "pygments_lexer": "ipython3",
   "version": "3.11.11"
  }
 },
 "nbformat": 4,
 "nbformat_minor": 5
}
