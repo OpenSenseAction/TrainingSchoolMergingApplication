{
 "cells": [
  {
   "attachments": {},
   "cell_type": "markdown",
   "metadata": {},
   "source": [
    "# Overview of the `poligrain` package\n",
    "simplify common tasks for working with point, line and gridded rainfall sensor data"
   ]
  },
  {
   "cell_type": "markdown",
   "metadata": {},
   "source": [
    "#### The common tasks are:\n",
    "* **Plot data on a map**\n",
    "* **Compare line and grid data**\n",
    "* **Calculate distances between points, lines and grids and find nearest neighbors**\n",
    "* **Validate and compare different datasets**"
   ]
  },
  {
   "cell_type": "code",
   "execution_count": null,
   "metadata": {},
   "outputs": [],
   "source": [
    "import sys\n",
    "\n",
    "sys.path.append('../poligrain/src')"
   ]
  },
  {
   "cell_type": "code",
   "execution_count": null,
   "metadata": {},
   "outputs": [],
   "source": [
    "import matplotlib.pyplot as plt\n",
    "import poligrain as plg"
   ]
  },
  {
   "cell_type": "markdown",
   "metadata": {},
   "source": [
    "## Get OpenMRG example data"
   ]
  },
  {
   "cell_type": "markdown",
   "metadata": {},
   "source": [
    "<img src=\"https://essd.copernicus.org/articles/14/5411/2022/essd-14-5411-2022-f02-web.png\" alt=\"drawing\" width=\"300\"/>\n"
   ]
  },
  {
   "cell_type": "markdown",
   "metadata": {},
   "source": [
    "We download a subset of the OpenMRG dataset which is described in Andersson et al. (2022) here https://doi.org/10.5194/essd-14-5411-2022 and which is available for download at https://doi.org/10.5281/zenodo.6673750\n",
    "\n",
    "The subset that we use was already processed, in particular the CML data, but with a very basic processing.\n",
    "\n",
    "In addition, here, we will project the lon-lat coordinates in the fitting UTM zone, so that we can do correct distance calculations."
   ]
  },
  {
   "cell_type": "code",
   "execution_count": null,
   "metadata": {},
   "outputs": [],
   "source": [
    "(\n",
    "    ds_rad,\n",
    "    ds_cmls,\n",
    "    ds_gauges_municp,\n",
    "    ds_gauge_smhi,\n",
    ") = plg.example_data.load_openmrg(data_dir=\"example_data\")"
   ]
  },
  {
   "cell_type": "markdown",
   "metadata": {},
   "source": [
    "### Project coordinates to UTM"
   ]
  },
  {
   "cell_type": "code",
   "execution_count": null,
   "metadata": {},
   "outputs": [],
   "source": [
    "# Project coordinates for rain gauges\n",
    "ds_gauges_municp.coords[\"x\"], ds_gauges_municp.coords[\"y\"] = plg.spatial.project_point_coordinates(\n",
    "    ds_gauges_municp.lon, ds_gauges_municp.lat, \"EPSG:25832\"\n",
    ")\n",
    "ds_gauge_smhi.coords[\"x\"], ds_gauge_smhi.coords[\"y\"] = plg.spatial.project_point_coordinates(\n",
    "    ds_gauge_smhi.lon, ds_gauge_smhi.lat, \"EPSG:25832\"\n",
    ")\n",
    "\n",
    "# Project coordinates for CMLs\n",
    "(\n",
    "    ds_cmls.coords[\"site_0_x\"],\n",
    "    ds_cmls.coords[\"site_0_y\"],\n",
    ") = plg.spatial.project_point_coordinates(\n",
    "    ds_cmls.site_0_lon, ds_cmls.site_0_lat, \"EPSG:25832\"\n",
    ")\n",
    "(\n",
    "    ds_cmls.coords[\"site_1_x\"],\n",
    "    ds_cmls.coords[\"site_1_y\"],\n",
    ") = plg.spatial.project_point_coordinates(\n",
    "    ds_cmls.site_1_lon, ds_cmls.site_1_lat, \"EPSG:25832\"\n",
    ")\n",
    "\n",
    "# Project coordinates of radar\n",
    "(\n",
    "    ds_rad.coords[\"x_grid\"],\n",
    "    ds_rad.coords[\"y_grid\"],\n",
    ") = plg.spatial.project_point_coordinates(\n",
    "    ds_rad.lon,\n",
    "    ds_rad.lat,\n",
    "    \"EPSG:25832\",\n",
    ")"
   ]
  },
  {
   "cell_type": "markdown",
   "metadata": {},
   "source": [
    "## Intro to data model\n",
    "\n",
    "In OPENSENSE we agreed on a specific structure and naming convention for storing data in NetCDF([Fencl et al. (2024)](https://doi.org/10.12688/openreseurope.16068.2)), which translates to the respective `xarray.Dataset` objects."
   ]
  },
  {
   "cell_type": "markdown",
   "metadata": {},
   "source": [
    "### CML data"
   ]
  },
  {
   "cell_type": "code",
   "execution_count": null,
   "metadata": {},
   "outputs": [],
   "source": [
    "ds_cmls"
   ]
  },
  {
   "cell_type": "markdown",
   "metadata": {},
   "source": [
    "### Gauge data"
   ]
  },
  {
   "cell_type": "code",
   "execution_count": null,
   "metadata": {},
   "outputs": [],
   "source": [
    "ds_gauges_municp"
   ]
  },
  {
   "cell_type": "markdown",
   "metadata": {},
   "source": [
    "###  Radar data (on cartesian grid)"
   ]
  },
  {
   "cell_type": "code",
   "execution_count": null,
   "metadata": {},
   "outputs": [],
   "source": [
    "ds_rad"
   ]
  },
  {
   "cell_type": "markdown",
   "metadata": {},
   "source": [
    "## Plot data on a map"
   ]
  },
  {
   "cell_type": "markdown",
   "metadata": {},
   "source": [
    "Because plotting lines with a colormap is not as easy as plotting points or gridded data, `poligrain` provides plotting functions that deal with the line geometry. Because we assume a fixed structure and naming convention of our `xarray.Dataset` we can do a lot of cumbersome stuff inside the function. See it in action below."
   ]
  },
  {
   "cell_type": "markdown",
   "metadata": {},
   "source": [
    "CML rain rates for a selected time stamp"
   ]
  },
  {
   "cell_type": "code",
   "execution_count": null,
   "metadata": {},
   "outputs": [],
   "source": [
    "da_R = ds_cmls.R.isel(sublink_id=0).sel(time='2015-07-25 10:00:00')\n",
    "\n",
    "fig, ax = plt.subplots(figsize=(5, 4))\n",
    "lines = da_R.plg.plot_cmls(pad_width=1, vmin=0, vmax=5, ax=ax, use_lon_lat=True)\n",
    "plt.colorbar(lines, label=\"rainfall rate in mm/h\");"
   ]
  },
  {
   "cell_type": "markdown",
   "metadata": {},
   "source": [
    "Rainfall sums over full period for radar, CMLs and gauges"
   ]
  },
  {
   "cell_type": "code",
   "execution_count": null,
   "metadata": {},
   "outputs": [],
   "source": [
    "# Aggregate to hourly rainfall\n",
    "cmls_R_1h = ds_cmls.R.isel(sublink_id=0).resample(time='1h').mean()"
   ]
  },
  {
   "cell_type": "code",
   "execution_count": null,
   "metadata": {},
   "outputs": [],
   "source": [
    "plg.plot_map.plot_plg(\n",
    "    da_grid = ds_rad.R.resample(time='1h').mean().sum(dim=\"time\"),\n",
    "    da_gauges = ds_gauges_municp.rainfall_amount.sum(dim=\"time\"),\n",
    "    da_cmls = cmls_R_1h.sum(dim=\"time\"),\n",
    "    use_lon_lat = True,\n",
    "    vmin = 0,\n",
    "    vmax = 100,\n",
    ")"
   ]
  },
  {
   "cell_type": "markdown",
   "metadata": {},
   "source": [
    "## Extract radar along CML paths and compare data"
   ]
  },
  {
   "cell_type": "markdown",
   "metadata": {},
   "source": [
    "Similar to the `wradlib.adjust.RawAtObs` we provide functions to get data of a grid at specific points using `plg.spatial.GridAtPoints`. Since we also deal with line geometries of the CMLs (and also SMls) we provide `GridAtLines` to extract the path-averaged grid values along the intersection with a specific line."
   ]
  },
  {
   "cell_type": "code",
   "execution_count": null,
   "metadata": {},
   "outputs": [],
   "source": [
    "get_grid_at_lines = plg.spatial.GridAtLines(\n",
    "    da_gridded_data=ds_rad,\n",
    "    ds_line_data=ds_cmls,\n",
    ")"
   ]
  },
  {
   "cell_type": "code",
   "execution_count": null,
   "metadata": {},
   "outputs": [],
   "source": [
    "radar_along_cml = get_grid_at_lines(da_gridded_data=ds_rad.R)"
   ]
  },
  {
   "cell_type": "code",
   "execution_count": null,
   "metadata": {},
   "outputs": [],
   "source": [
    "radar_along_cml"
   ]
  },
  {
   "cell_type": "markdown",
   "metadata": {},
   "source": [
    "Aggregate reference to hourly rainfall for comparison"
   ]
  },
  {
   "cell_type": "code",
   "execution_count": null,
   "metadata": {},
   "outputs": [],
   "source": [
    "radar_along_cml_R_1h = radar_along_cml.resample(time='1h').mean()"
   ]
  },
  {
   "cell_type": "code",
   "execution_count": null,
   "metadata": {},
   "outputs": [],
   "source": [
    "cml_id = 10030\n",
    "\n",
    "cmls_R_1h.sel(cml_id=cml_id).plot(color='k', figsize=(12, 5), label='CML')\n",
    "radar_along_cml_R_1h.sel(cml_id=cml_id).plot(color='r', label='radar')\n",
    "plt.legend()\n",
    "plt.ylabel('hourly rainfall sum (mm)');"
   ]
  },
  {
   "cell_type": "markdown",
   "metadata": {},
   "source": [
    "Plot path-averaged radar rain rates for each CML and the processed CML rain rates"
   ]
  },
  {
   "cell_type": "code",
   "execution_count": null,
   "metadata": {},
   "outputs": [],
   "source": [
    "fig, axs = plt.subplots(1, 2, figsize=(12, 5))\n",
    "plg.plot_map.plot_plg(\n",
    "    da_cmls=radar_along_cml_R_1h.sum(dim='time'), \n",
    "    ax=axs[0], \n",
    "    vmin=0, \n",
    "    vmax=100,\n",
    ")\n",
    "axs[0].set_title('Radar at CMLs rainfall sum')\n",
    "\n",
    "plg.plot_map.plot_plg(\n",
    "    da_cmls=cmls_R_1h.sum(dim='time'), \n",
    "    ax=axs[1],\n",
    "    vmin=0,\n",
    "    vmax=100,\n",
    ")\n",
    "axs[1].set_title('CML rainfall sum');"
   ]
  },
  {
   "cell_type": "markdown",
   "metadata": {},
   "source": [
    "## Excercise 1: Analyse difference between radar and CML\n",
    "\n",
    "- 1.1: Calculate the difference between radar and CML rainfall sums. Plot this difference as a map using `plg.plot_map.plot_plg`\n",
    "\n",
    "- 1.2 (optional): What is wrong with the outliers of the CMLs?"
   ]
  },
  {
   "cell_type": "markdown",
   "metadata": {},
   "source": [
    "### Exercise 1.1"
   ]
  },
  {
   "cell_type": "code",
   "execution_count": null,
   "metadata": {},
   "outputs": [],
   "source": [
    "# Write code here...\n",
    "\n",
    "\n",
    "\n",
    "\n",
    "\n"
   ]
  },
  {
   "cell_type": "code",
   "execution_count": null,
   "metadata": {},
   "outputs": [],
   "source": [
    "if input(\"Enter 'Solution' to display solutions: \")=='Solution':\n",
    "    %load solutions/1_1_1_solution.py"
   ]
  },
  {
   "cell_type": "markdown",
   "metadata": {},
   "source": [
    "### Exercise 1.2"
   ]
  },
  {
   "cell_type": "code",
   "execution_count": null,
   "metadata": {},
   "outputs": [],
   "source": [
    "# Write code here...\n",
    "\n",
    "\n",
    "\n",
    "\n",
    "\n"
   ]
  },
  {
   "cell_type": "code",
   "execution_count": null,
   "metadata": {},
   "outputs": [],
   "source": [
    "if input(\"Enter 'Solution' to display solutions: \")=='Solution':\n",
    "    %load solutions/1_1_2_solution.py"
   ]
  },
  {
   "cell_type": "markdown",
   "metadata": {},
   "source": [
    "## Find gauges close to CMLs and compare data"
   ]
  },
  {
   "cell_type": "markdown",
   "metadata": {},
   "source": [
    "`poligrain` provides functions to find the closest points (gauges in this case) to a line (CMLs). Getting closest points for a point is also supported via `plg.spatial.get_closest_points_to_point`."
   ]
  },
  {
   "cell_type": "code",
   "execution_count": null,
   "metadata": {},
   "outputs": [],
   "source": [
    "max_distance = 2000  # in meters due to the projection EPSG:25832\n",
    "closest_neigbors = plg.spatial.get_closest_points_to_line(\n",
    "    ds_cmls, ds_gauges_municp, max_distance=max_distance, n_closest=10\n",
    ")"
   ]
  },
  {
   "cell_type": "code",
   "execution_count": null,
   "metadata": {},
   "outputs": [],
   "source": [
    "closest_neigbors"
   ]
  },
  {
   "cell_type": "markdown",
   "metadata": {},
   "source": [
    "Plot distance of closest neighour for some CMLs"
   ]
  },
  {
   "cell_type": "code",
   "execution_count": null,
   "metadata": {},
   "outputs": [],
   "source": [
    "closest_neigbors.isel(cml_id=slice(0, 60)).distance.plot();"
   ]
  },
  {
   "cell_type": "markdown",
   "metadata": {},
   "source": [
    "Plot closest gauges for a CML on the map"
   ]
  },
  {
   "cell_type": "code",
   "execution_count": null,
   "metadata": {},
   "outputs": [],
   "source": [
    "# plot CMLs and gauges on map and highlight those that are closer than 5000m\n",
    "cml_id = 10030\n",
    "\n",
    "# hacky way to get bool array with closest gauges set to True\n",
    "da_gauges_close = (ds_gauges_municp.id == closest_neigbors.neighbor_id.sel(cml_id=cml_id)).max(dim='n_closest')\n",
    "\n",
    "fig, ax = plt.subplots()\n",
    "plg.plot_map.plot_lines(ds_cmls, line_color='k', ax=ax)\n",
    "plg.plot_map.plot_lines(ds_cmls.sel(cml_id=cml_id), line_color='r', line_width=2, ax=ax)\n",
    "# hacky way to plot the gauges highligting the close ones\n",
    "plg.plot_map.plot_plg(da_gauges=da_gauges_close, ax=ax, vmin=0, vmax=2, cmap='Reds')\n"
   ]
  },
  {
   "cell_type": "markdown",
   "metadata": {},
   "source": [
    "Plot rainfall time series for CML and closest gauges"
   ]
  },
  {
   "cell_type": "code",
   "execution_count": null,
   "metadata": {},
   "outputs": [],
   "source": [
    "cml_id = 10030\n",
    "ds_closests_gauges = (\n",
    "    ds_gauges_municp.sel(id=closest_neigbors.sel(cml_id=cml_id).neighbor_id.values[:3])\n",
    ")\n",
    "ds_closests_gauges.rainfall_amount.resample(time='1h').sum().plot.line(x='time', figsize=(12, 5))\n",
    "ds_cmls.isel(sublink_id=0).sel(cml_id=cml_id).R.resample(time='1h').mean().plot(color='k')\n",
    "plt.ylabel('hourly rainfall sum (mm)');"
   ]
  },
  {
   "cell_type": "markdown",
   "metadata": {},
   "source": [
    "Let's zoom in and plot the data with the original temporal resolution"
   ]
  },
  {
   "cell_type": "code",
   "execution_count": null,
   "metadata": {},
   "outputs": [],
   "source": [
    "cml_id = 10030\n",
    "ds_closests_gauges = (\n",
    "    ds_gauges_municp.sel(id=closest_neigbors.sel(cml_id=cml_id).neighbor_id.values[:3])\n",
    ")\n",
    "(ds_closests_gauges.sel(time='2015-07-25').rainfall_amount * 60).plot.line(x='time', figsize=(12, 5))\n",
    "ds_cmls.isel(sublink_id=0).sel(cml_id=cml_id, time='2015-07-25').R.plot(color='k')\n",
    "plt.ylabel('rain rate (mm/h)');"
   ]
  },
  {
   "cell_type": "markdown",
   "metadata": {},
   "source": [
    "If we aggregate the gauge to 5-minute rain rates we some more dynamics in the gauge data."
   ]
  },
  {
   "cell_type": "code",
   "execution_count": null,
   "metadata": {},
   "outputs": [],
   "source": [
    "cml_id = 10030\n",
    "ds_closests_gauges = (\n",
    "    ds_gauges_municp.sel(id=closest_neigbors.sel(cml_id=cml_id).neighbor_id.values[:3])\n",
    ")\n",
    "(ds_closests_gauges.sel(time='2015-07-25').rainfall_amount.resample(time='5min').sum() * 12).plot.line(x='time', figsize=(12, 5))\n",
    "ds_cmls.isel(sublink_id=0).sel(cml_id=cml_id, time='2015-07-25').R.plot(color='k')\n",
    "plt.ylabel('rain rate (mm/h)');"
   ]
  },
  {
   "cell_type": "markdown",
   "metadata": {},
   "source": [
    "## Excercise 2 (optional): Compare CML to gauges within 2 km"
   ]
  },
  {
   "cell_type": "markdown",
   "metadata": {},
   "source": [
    "- Exercise 2.1: Do a scatter plot of of the 1-hour rainfall amounts from the closest gauge to each CML.\n",
    "\n",
    "- Exercise 2.2: Add the radar at the CML to the scatter plot"
   ]
  },
  {
   "cell_type": "markdown",
   "metadata": {},
   "source": [
    "The following code gives you, for each CML, the ID of the closest gauge if there is a gauge within 2 km range from the CML path.\n",
    "\n",
    "Note that CMLs with no gauge withon 2km have been dropped here. Hence, the length of `gauge_id_closest` and `closest_neigbors` is different in the `cml_id` dimension."
   ]
  },
  {
   "cell_type": "code",
   "execution_count": null,
   "metadata": {},
   "outputs": [],
   "source": [
    "gauge_id_closest = closest_neigbors.neighbor_id.where(closest_neigbors.distance < 2000, drop=True).isel(n_closest=0)\n",
    "gauge_id_closest"
   ]
  },
  {
   "cell_type": "markdown",
   "metadata": {},
   "source": [
    "### Exercise 2.1"
   ]
  },
  {
   "cell_type": "code",
   "execution_count": null,
   "metadata": {},
   "outputs": [],
   "source": [
    "# Write code here...\n",
    "\n",
    "\n",
    "\n",
    "\n"
   ]
  },
  {
   "cell_type": "code",
   "execution_count": null,
   "metadata": {},
   "outputs": [],
   "source": [
    "if input(\"Enter 'Solution' to display solutions: \")=='Solution':\n",
    "    %load solutions/1_2_1_solution.py"
   ]
  },
  {
   "cell_type": "markdown",
   "metadata": {},
   "source": [
    "### Exercise 2.2"
   ]
  },
  {
   "cell_type": "code",
   "execution_count": null,
   "metadata": {},
   "outputs": [],
   "source": [
    "# Write code here...\n",
    "\n",
    "\n",
    "\n",
    "\n"
   ]
  },
  {
   "cell_type": "code",
   "execution_count": null,
   "metadata": {},
   "outputs": [],
   "source": [
    "if input(\"Enter 'Solution' to display solutions: \")=='Solution':\n",
    "    %load solutions/1_2_2_solution.py"
   ]
  },
  {
   "cell_type": "markdown",
   "metadata": {},
   "source": [
    "## Validation metrics and plots "
   ]
  },
  {
   "cell_type": "markdown",
   "metadata": {},
   "source": [
    "`poligrain` provides plots and the calculation of standard metrics for validating the results. In particular the options for validating rain event detection are quite unique (probably because this very important for CML data processing and less important for radars ans gauges)."
   ]
  },
  {
   "cell_type": "code",
   "execution_count": null,
   "metadata": {},
   "outputs": [],
   "source": [
    "radar_along_cml_R_1h = radar_along_cml.resample(time='1h').mean().transpose()\n",
    "R_cml_1h = ds_cmls.isel(sublink_id=0).R.resample(time='1h').mean()"
   ]
  },
  {
   "cell_type": "code",
   "execution_count": null,
   "metadata": {},
   "outputs": [],
   "source": [
    "R_threshold = 0.1\n",
    "\n",
    "plg.validation.plot_hexbin(\n",
    "    radar_along_cml_R_1h.data.flatten(),\n",
    "    R_cml_1h.data.flatten(),\n",
    "    ref_thresh=R_threshold,\n",
    "    est_thresh=R_threshold,\n",
    ")"
   ]
  },
  {
   "cell_type": "code",
   "execution_count": null,
   "metadata": {},
   "outputs": [],
   "source": [
    "rainfall_metrics = plg.validation.calculate_rainfall_metrics(\n",
    "    reference=radar_along_cml_R_1h.data.flatten(),\n",
    "    estimate=R_cml_1h.data.flatten(),\n",
    "    ref_thresh=0.1,\n",
    "    est_thresh=0.1,\n",
    ")\n",
    "rainfall_metrics"
   ]
  },
  {
   "cell_type": "code",
   "execution_count": null,
   "metadata": {},
   "outputs": [],
   "source": [
    "plg.validation.plot_confusion_matrix_count(\n",
    "    reference=radar_along_cml_R_1h.data.flatten(),\n",
    "    estimate=R_cml_1h.data.flatten(),\n",
    "    ref_thresh=0.1,\n",
    "    est_thresh=0.1,\n",
    "    n_bins=1000,\n",
    "    bin_type='linear',\n",
    ");\n",
    "#plt.gca().set_xscale(\"linear\")\n",
    "#plt.gca().set_yscale(\"log\")\n",
    "plt.xlim([0.09, 10])"
   ]
  },
  {
   "cell_type": "code",
   "execution_count": null,
   "metadata": {},
   "outputs": [],
   "source": [
    "plg.validation.plot_confusion_matrix_sum(\n",
    "    reference=radar_along_cml_R_1h.data.flatten(),\n",
    "    estimate=R_cml_1h.data.flatten(),\n",
    "    ref_thresh=0.1,\n",
    "    est_thresh=0.1,\n",
    "    n_bins=1000,\n",
    "    bin_type='linear',\n",
    "    time_interval=60,\n",
    ");\n",
    "#plt.gca().set_xscale(\"linear\")\n",
    "#plt.gca().set_yscale(\"log\")\n",
    "plt.xlim([0.09, 10])"
   ]
  },
  {
   "cell_type": "markdown",
   "metadata": {},
   "source": [
    "## Other example datasets"
   ]
  },
  {
   "cell_type": "markdown",
   "metadata": {},
   "source": [
    "### OpenRainER"
   ]
  },
  {
   "cell_type": "markdown",
   "metadata": {},
   "source": [
    "CML, gauge and radar data from Emiliga Romana (Italy)\n",
    "\n",
    "Available at https://zenodo.org/records/14731404 \n",
    "\n",
    "Some info from the OPENSENSE news page: https://opensenseaction.eu/news/new-open-cml-dataset-from-italy-openrainer/\n",
    "\n",
    "\n",
    "<img src=\"https://opensenseaction.eu/wp-content/uploads/2024/03/OpenRainER.jpg\" alt=\"drawing\" width=\"600\"/>\n"
   ]
  },
  {
   "cell_type": "code",
   "execution_count": null,
   "metadata": {},
   "outputs": [],
   "source": [
    "(\n",
    "    ds_rad,\n",
    "    ds_cmls,\n",
    "    ds_gauges\n",
    ") = plg.example_data.load_openrainer(data_dir=\"example_data\", subset='8d')"
   ]
  },
  {
   "cell_type": "code",
   "execution_count": null,
   "metadata": {},
   "outputs": [],
   "source": [
    "plg.plot_map.plot_lines(ds_cmls.rsl.isel(sublink_id=0).std(dim='time'), vmin=0, vmax=5)"
   ]
  },
  {
   "cell_type": "code",
   "execution_count": null,
   "metadata": {},
   "outputs": [],
   "source": [
    "ds_cmls.isel(cml_id=0).rsl.plot.line(x='time', figsize=(12, 3));"
   ]
  },
  {
   "cell_type": "markdown",
   "metadata": {},
   "source": [
    "### Amsterdam PWS dataset\n",
    "PWS data from ~130 PWS over more than two years, together with reference gauge data.  \n",
    "Available from: "
   ]
  },
  {
   "cell_type": "code",
   "execution_count": 6,
   "metadata": {},
   "outputs": [
    {
     "name": "stdout",
     "output_type": "stream",
     "text": [
      "File already exists at example_data/ams_pws_full_period.nc\n",
      "Not downloading!\n",
      "File already exists at example_data/ams_gauges_full_period.nc\n",
      "Not downloading!\n"
     ]
    }
   ],
   "source": [
    "(\n",
    "    ds_pws,\n",
    "    ds_gauges,\n",
    ") = plg.example_data.load_ams_pws(data_dir=\"example_data\", subset=\"full_period\")"
   ]
  },
  {
   "cell_type": "code",
   "execution_count": 9,
   "metadata": {},
   "outputs": [
    {
     "data": {
      "text/html": [
       "<div><svg style=\"position: absolute; width: 0; height: 0; overflow: hidden\">\n",
       "<defs>\n",
       "<symbol id=\"icon-database\" viewBox=\"0 0 32 32\">\n",
       "<path d=\"M16 0c-8.837 0-16 2.239-16 5v4c0 2.761 7.163 5 16 5s16-2.239 16-5v-4c0-2.761-7.163-5-16-5z\"></path>\n",
       "<path d=\"M16 17c-8.837 0-16-2.239-16-5v6c0 2.761 7.163 5 16 5s16-2.239 16-5v-6c0 2.761-7.163 5-16 5z\"></path>\n",
       "<path d=\"M16 26c-8.837 0-16-2.239-16-5v6c0 2.761 7.163 5 16 5s16-2.239 16-5v-6c0 2.761-7.163 5-16 5z\"></path>\n",
       "</symbol>\n",
       "<symbol id=\"icon-file-text2\" viewBox=\"0 0 32 32\">\n",
       "<path d=\"M28.681 7.159c-0.694-0.947-1.662-2.053-2.724-3.116s-2.169-2.030-3.116-2.724c-1.612-1.182-2.393-1.319-2.841-1.319h-15.5c-1.378 0-2.5 1.121-2.5 2.5v27c0 1.378 1.122 2.5 2.5 2.5h23c1.378 0 2.5-1.122 2.5-2.5v-19.5c0-0.448-0.137-1.23-1.319-2.841zM24.543 5.457c0.959 0.959 1.712 1.825 2.268 2.543h-4.811v-4.811c0.718 0.556 1.584 1.309 2.543 2.268zM28 29.5c0 0.271-0.229 0.5-0.5 0.5h-23c-0.271 0-0.5-0.229-0.5-0.5v-27c0-0.271 0.229-0.5 0.5-0.5 0 0 15.499-0 15.5 0v7c0 0.552 0.448 1 1 1h7v19.5z\"></path>\n",
       "<path d=\"M23 26h-14c-0.552 0-1-0.448-1-1s0.448-1 1-1h14c0.552 0 1 0.448 1 1s-0.448 1-1 1z\"></path>\n",
       "<path d=\"M23 22h-14c-0.552 0-1-0.448-1-1s0.448-1 1-1h14c0.552 0 1 0.448 1 1s-0.448 1-1 1z\"></path>\n",
       "<path d=\"M23 18h-14c-0.552 0-1-0.448-1-1s0.448-1 1-1h14c0.552 0 1 0.448 1 1s-0.448 1-1 1z\"></path>\n",
       "</symbol>\n",
       "</defs>\n",
       "</svg>\n",
       "<style>/* CSS stylesheet for displaying xarray objects in jupyterlab.\n",
       " *\n",
       " */\n",
       "\n",
       ":root {\n",
       "  --xr-font-color0: var(--jp-content-font-color0, rgba(0, 0, 0, 1));\n",
       "  --xr-font-color2: var(--jp-content-font-color2, rgba(0, 0, 0, 0.54));\n",
       "  --xr-font-color3: var(--jp-content-font-color3, rgba(0, 0, 0, 0.38));\n",
       "  --xr-border-color: var(--jp-border-color2, #e0e0e0);\n",
       "  --xr-disabled-color: var(--jp-layout-color3, #bdbdbd);\n",
       "  --xr-background-color: var(--jp-layout-color0, white);\n",
       "  --xr-background-color-row-even: var(--jp-layout-color1, white);\n",
       "  --xr-background-color-row-odd: var(--jp-layout-color2, #eeeeee);\n",
       "}\n",
       "\n",
       "html[theme=\"dark\"],\n",
       "html[data-theme=\"dark\"],\n",
       "body[data-theme=\"dark\"],\n",
       "body.vscode-dark {\n",
       "  --xr-font-color0: rgba(255, 255, 255, 1);\n",
       "  --xr-font-color2: rgba(255, 255, 255, 0.54);\n",
       "  --xr-font-color3: rgba(255, 255, 255, 0.38);\n",
       "  --xr-border-color: #1f1f1f;\n",
       "  --xr-disabled-color: #515151;\n",
       "  --xr-background-color: #111111;\n",
       "  --xr-background-color-row-even: #111111;\n",
       "  --xr-background-color-row-odd: #313131;\n",
       "}\n",
       "\n",
       ".xr-wrap {\n",
       "  display: block !important;\n",
       "  min-width: 300px;\n",
       "  max-width: 700px;\n",
       "}\n",
       "\n",
       ".xr-text-repr-fallback {\n",
       "  /* fallback to plain text repr when CSS is not injected (untrusted notebook) */\n",
       "  display: none;\n",
       "}\n",
       "\n",
       ".xr-header {\n",
       "  padding-top: 6px;\n",
       "  padding-bottom: 6px;\n",
       "  margin-bottom: 4px;\n",
       "  border-bottom: solid 1px var(--xr-border-color);\n",
       "}\n",
       "\n",
       ".xr-header > div,\n",
       ".xr-header > ul {\n",
       "  display: inline;\n",
       "  margin-top: 0;\n",
       "  margin-bottom: 0;\n",
       "}\n",
       "\n",
       ".xr-obj-type,\n",
       ".xr-array-name {\n",
       "  margin-left: 2px;\n",
       "  margin-right: 10px;\n",
       "}\n",
       "\n",
       ".xr-obj-type {\n",
       "  color: var(--xr-font-color2);\n",
       "}\n",
       "\n",
       ".xr-sections {\n",
       "  padding-left: 0 !important;\n",
       "  display: grid;\n",
       "  grid-template-columns: 150px auto auto 1fr 0 20px 0 20px;\n",
       "}\n",
       "\n",
       ".xr-section-item {\n",
       "  display: contents;\n",
       "}\n",
       "\n",
       ".xr-section-item input {\n",
       "  display: inline-block;\n",
       "  opacity: 0;\n",
       "  height: 0;\n",
       "}\n",
       "\n",
       ".xr-section-item input + label {\n",
       "  color: var(--xr-disabled-color);\n",
       "}\n",
       "\n",
       ".xr-section-item input:enabled + label {\n",
       "  cursor: pointer;\n",
       "  color: var(--xr-font-color2);\n",
       "}\n",
       "\n",
       ".xr-section-item input:focus + label {\n",
       "  border: 2px solid var(--xr-font-color0);\n",
       "}\n",
       "\n",
       ".xr-section-item input:enabled + label:hover {\n",
       "  color: var(--xr-font-color0);\n",
       "}\n",
       "\n",
       ".xr-section-summary {\n",
       "  grid-column: 1;\n",
       "  color: var(--xr-font-color2);\n",
       "  font-weight: 500;\n",
       "}\n",
       "\n",
       ".xr-section-summary > span {\n",
       "  display: inline-block;\n",
       "  padding-left: 0.5em;\n",
       "}\n",
       "\n",
       ".xr-section-summary-in:disabled + label {\n",
       "  color: var(--xr-font-color2);\n",
       "}\n",
       "\n",
       ".xr-section-summary-in + label:before {\n",
       "  display: inline-block;\n",
       "  content: \"►\";\n",
       "  font-size: 11px;\n",
       "  width: 15px;\n",
       "  text-align: center;\n",
       "}\n",
       "\n",
       ".xr-section-summary-in:disabled + label:before {\n",
       "  color: var(--xr-disabled-color);\n",
       "}\n",
       "\n",
       ".xr-section-summary-in:checked + label:before {\n",
       "  content: \"▼\";\n",
       "}\n",
       "\n",
       ".xr-section-summary-in:checked + label > span {\n",
       "  display: none;\n",
       "}\n",
       "\n",
       ".xr-section-summary,\n",
       ".xr-section-inline-details {\n",
       "  padding-top: 4px;\n",
       "  padding-bottom: 4px;\n",
       "}\n",
       "\n",
       ".xr-section-inline-details {\n",
       "  grid-column: 2 / -1;\n",
       "}\n",
       "\n",
       ".xr-section-details {\n",
       "  display: none;\n",
       "  grid-column: 1 / -1;\n",
       "  margin-bottom: 5px;\n",
       "}\n",
       "\n",
       ".xr-section-summary-in:checked ~ .xr-section-details {\n",
       "  display: contents;\n",
       "}\n",
       "\n",
       ".xr-array-wrap {\n",
       "  grid-column: 1 / -1;\n",
       "  display: grid;\n",
       "  grid-template-columns: 20px auto;\n",
       "}\n",
       "\n",
       ".xr-array-wrap > label {\n",
       "  grid-column: 1;\n",
       "  vertical-align: top;\n",
       "}\n",
       "\n",
       ".xr-preview {\n",
       "  color: var(--xr-font-color3);\n",
       "}\n",
       "\n",
       ".xr-array-preview,\n",
       ".xr-array-data {\n",
       "  padding: 0 5px !important;\n",
       "  grid-column: 2;\n",
       "}\n",
       "\n",
       ".xr-array-data,\n",
       ".xr-array-in:checked ~ .xr-array-preview {\n",
       "  display: none;\n",
       "}\n",
       "\n",
       ".xr-array-in:checked ~ .xr-array-data,\n",
       ".xr-array-preview {\n",
       "  display: inline-block;\n",
       "}\n",
       "\n",
       ".xr-dim-list {\n",
       "  display: inline-block !important;\n",
       "  list-style: none;\n",
       "  padding: 0 !important;\n",
       "  margin: 0;\n",
       "}\n",
       "\n",
       ".xr-dim-list li {\n",
       "  display: inline-block;\n",
       "  padding: 0;\n",
       "  margin: 0;\n",
       "}\n",
       "\n",
       ".xr-dim-list:before {\n",
       "  content: \"(\";\n",
       "}\n",
       "\n",
       ".xr-dim-list:after {\n",
       "  content: \")\";\n",
       "}\n",
       "\n",
       ".xr-dim-list li:not(:last-child):after {\n",
       "  content: \",\";\n",
       "  padding-right: 5px;\n",
       "}\n",
       "\n",
       ".xr-has-index {\n",
       "  font-weight: bold;\n",
       "}\n",
       "\n",
       ".xr-var-list,\n",
       ".xr-var-item {\n",
       "  display: contents;\n",
       "}\n",
       "\n",
       ".xr-var-item > div,\n",
       ".xr-var-item label,\n",
       ".xr-var-item > .xr-var-name span {\n",
       "  background-color: var(--xr-background-color-row-even);\n",
       "  margin-bottom: 0;\n",
       "}\n",
       "\n",
       ".xr-var-item > .xr-var-name:hover span {\n",
       "  padding-right: 5px;\n",
       "}\n",
       "\n",
       ".xr-var-list > li:nth-child(odd) > div,\n",
       ".xr-var-list > li:nth-child(odd) > label,\n",
       ".xr-var-list > li:nth-child(odd) > .xr-var-name span {\n",
       "  background-color: var(--xr-background-color-row-odd);\n",
       "}\n",
       "\n",
       ".xr-var-name {\n",
       "  grid-column: 1;\n",
       "}\n",
       "\n",
       ".xr-var-dims {\n",
       "  grid-column: 2;\n",
       "}\n",
       "\n",
       ".xr-var-dtype {\n",
       "  grid-column: 3;\n",
       "  text-align: right;\n",
       "  color: var(--xr-font-color2);\n",
       "}\n",
       "\n",
       ".xr-var-preview {\n",
       "  grid-column: 4;\n",
       "}\n",
       "\n",
       ".xr-index-preview {\n",
       "  grid-column: 2 / 5;\n",
       "  color: var(--xr-font-color2);\n",
       "}\n",
       "\n",
       ".xr-var-name,\n",
       ".xr-var-dims,\n",
       ".xr-var-dtype,\n",
       ".xr-preview,\n",
       ".xr-attrs dt {\n",
       "  white-space: nowrap;\n",
       "  overflow: hidden;\n",
       "  text-overflow: ellipsis;\n",
       "  padding-right: 10px;\n",
       "}\n",
       "\n",
       ".xr-var-name:hover,\n",
       ".xr-var-dims:hover,\n",
       ".xr-var-dtype:hover,\n",
       ".xr-attrs dt:hover {\n",
       "  overflow: visible;\n",
       "  width: auto;\n",
       "  z-index: 1;\n",
       "}\n",
       "\n",
       ".xr-var-attrs,\n",
       ".xr-var-data,\n",
       ".xr-index-data {\n",
       "  display: none;\n",
       "  background-color: var(--xr-background-color) !important;\n",
       "  padding-bottom: 5px !important;\n",
       "}\n",
       "\n",
       ".xr-var-attrs-in:checked ~ .xr-var-attrs,\n",
       ".xr-var-data-in:checked ~ .xr-var-data,\n",
       ".xr-index-data-in:checked ~ .xr-index-data {\n",
       "  display: block;\n",
       "}\n",
       "\n",
       ".xr-var-data > table {\n",
       "  float: right;\n",
       "}\n",
       "\n",
       ".xr-var-name span,\n",
       ".xr-var-data,\n",
       ".xr-index-name div,\n",
       ".xr-index-data,\n",
       ".xr-attrs {\n",
       "  padding-left: 25px !important;\n",
       "}\n",
       "\n",
       ".xr-attrs,\n",
       ".xr-var-attrs,\n",
       ".xr-var-data,\n",
       ".xr-index-data {\n",
       "  grid-column: 1 / -1;\n",
       "}\n",
       "\n",
       "dl.xr-attrs {\n",
       "  padding: 0;\n",
       "  margin: 0;\n",
       "  display: grid;\n",
       "  grid-template-columns: 125px auto;\n",
       "}\n",
       "\n",
       ".xr-attrs dt,\n",
       ".xr-attrs dd {\n",
       "  padding: 0;\n",
       "  margin: 0;\n",
       "  float: left;\n",
       "  padding-right: 10px;\n",
       "  width: auto;\n",
       "}\n",
       "\n",
       ".xr-attrs dt {\n",
       "  font-weight: normal;\n",
       "  grid-column: 1;\n",
       "}\n",
       "\n",
       ".xr-attrs dt:hover span {\n",
       "  display: inline-block;\n",
       "  background: var(--xr-background-color);\n",
       "  padding-right: 10px;\n",
       "}\n",
       "\n",
       ".xr-attrs dd {\n",
       "  grid-column: 2;\n",
       "  white-space: pre-wrap;\n",
       "  word-break: break-all;\n",
       "}\n",
       "\n",
       ".xr-icon-database,\n",
       ".xr-icon-file-text2,\n",
       ".xr-no-icon {\n",
       "  display: inline-block;\n",
       "  vertical-align: middle;\n",
       "  width: 1em;\n",
       "  height: 1.5em !important;\n",
       "  stroke-width: 0;\n",
       "  stroke: currentColor;\n",
       "  fill: currentColor;\n",
       "}\n",
       "</style><pre class='xr-text-repr-fallback'>&lt;xarray.Dataset&gt; Size: 237MB\n",
       "Dimensions:    (time: 219168, id: 134)\n",
       "Coordinates:\n",
       "  * time       (time) datetime64[ns] 2MB 2016-05-01T00:05:00 ... 2018-06-01\n",
       "  * id         (id) &lt;U6 3kB &#x27;ams1&#x27; &#x27;ams2&#x27; &#x27;ams3&#x27; ... &#x27;ams132&#x27; &#x27;ams133&#x27; &#x27;ams134&#x27;\n",
       "    elevation  (id) float64 1kB ...\n",
       "    lat        (id) float64 1kB 52.31 52.3 52.31 52.35 ... 52.43 52.3 52.26\n",
       "    lon        (id) float64 1kB 4.671 4.675 4.677 4.678 ... 5.036 5.041 5.045\n",
       "Data variables:\n",
       "    rainfall   (id, time) float64 235MB ...\n",
       "Attributes:\n",
       "    title:                 PWS data from Amsterdam\n",
       "    file author:           Maximilian Graf\n",
       "    institution:           Wageningen University and Research, Department of ...\n",
       "    date:                  2022-10-18 10:32:00\n",
       "    source:                Netamo PWS\n",
       "    history:               Data derived and reformated from the originally pu...\n",
       "    naming convention:     OpenSense-0.1\n",
       "    license restrictions:  CC-BY 4.0 https://creativecommons.org/licenses/by/...\n",
       "    reference:             https://doi.org/10.1029/2019GL083731\n",
       "    comment:               </pre><div class='xr-wrap' style='display:none'><div class='xr-header'><div class='xr-obj-type'>xarray.Dataset</div></div><ul class='xr-sections'><li class='xr-section-item'><input id='section-d72ef018-bd59-4d13-9d0e-dcc67ba89ae0' class='xr-section-summary-in' type='checkbox' disabled ><label for='section-d72ef018-bd59-4d13-9d0e-dcc67ba89ae0' class='xr-section-summary'  title='Expand/collapse section'>Dimensions:</label><div class='xr-section-inline-details'><ul class='xr-dim-list'><li><span class='xr-has-index'>time</span>: 219168</li><li><span class='xr-has-index'>id</span>: 134</li></ul></div><div class='xr-section-details'></div></li><li class='xr-section-item'><input id='section-a4efbb65-8247-4b6c-9df1-6629c5d175f4' class='xr-section-summary-in' type='checkbox'  checked><label for='section-a4efbb65-8247-4b6c-9df1-6629c5d175f4' class='xr-section-summary' >Coordinates: <span>(5)</span></label><div class='xr-section-inline-details'></div><div class='xr-section-details'><ul class='xr-var-list'><li class='xr-var-item'><div class='xr-var-name'><span class='xr-has-index'>time</span></div><div class='xr-var-dims'>(time)</div><div class='xr-var-dtype'>datetime64[ns]</div><div class='xr-var-preview xr-preview'>2016-05-01T00:05:00 ... 2018-06-01</div><input id='attrs-e86bfb1b-563d-4b49-a1a6-27810978b6cc' class='xr-var-attrs-in' type='checkbox' ><label for='attrs-e86bfb1b-563d-4b49-a1a6-27810978b6cc' title='Show/Hide attributes'><svg class='icon xr-icon-file-text2'><use xlink:href='#icon-file-text2'></use></svg></label><input id='data-7f21d28a-1363-4d0f-9385-04eb3e83fa3b' class='xr-var-data-in' type='checkbox'><label for='data-7f21d28a-1363-4d0f-9385-04eb3e83fa3b' title='Show/Hide data repr'><svg class='icon xr-icon-database'><use xlink:href='#icon-database'></use></svg></label><div class='xr-var-attrs'><dl class='xr-attrs'><dt><span>unit :</span></dt><dd>seconds since 1970-01-01 00:00:00</dd></dl></div><div class='xr-var-data'><pre>array([&#x27;2016-05-01T00:05:00.000000000&#x27;, &#x27;2016-05-01T00:10:00.000000000&#x27;,\n",
       "       &#x27;2016-05-01T00:15:00.000000000&#x27;, ..., &#x27;2018-05-31T23:50:00.000000000&#x27;,\n",
       "       &#x27;2018-05-31T23:55:00.000000000&#x27;, &#x27;2018-06-01T00:00:00.000000000&#x27;],\n",
       "      dtype=&#x27;datetime64[ns]&#x27;)</pre></div></li><li class='xr-var-item'><div class='xr-var-name'><span class='xr-has-index'>id</span></div><div class='xr-var-dims'>(id)</div><div class='xr-var-dtype'>&lt;U6</div><div class='xr-var-preview xr-preview'>&#x27;ams1&#x27; &#x27;ams2&#x27; ... &#x27;ams133&#x27; &#x27;ams134&#x27;</div><input id='attrs-edc2a352-8731-457a-8c33-9453427ce463' class='xr-var-attrs-in' type='checkbox' disabled><label for='attrs-edc2a352-8731-457a-8c33-9453427ce463' title='Show/Hide attributes'><svg class='icon xr-icon-file-text2'><use xlink:href='#icon-file-text2'></use></svg></label><input id='data-8fd42bbf-119f-4f8f-9d66-9f3f7b71dae4' class='xr-var-data-in' type='checkbox'><label for='data-8fd42bbf-119f-4f8f-9d66-9f3f7b71dae4' title='Show/Hide data repr'><svg class='icon xr-icon-database'><use xlink:href='#icon-database'></use></svg></label><div class='xr-var-attrs'><dl class='xr-attrs'></dl></div><div class='xr-var-data'><pre>array([&#x27;ams1&#x27;, &#x27;ams2&#x27;, &#x27;ams3&#x27;, &#x27;ams4&#x27;, &#x27;ams5&#x27;, &#x27;ams6&#x27;, &#x27;ams7&#x27;, &#x27;ams8&#x27;, &#x27;ams9&#x27;,\n",
       "       &#x27;ams10&#x27;, &#x27;ams11&#x27;, &#x27;ams12&#x27;, &#x27;ams13&#x27;, &#x27;ams14&#x27;, &#x27;ams15&#x27;, &#x27;ams16&#x27;, &#x27;ams17&#x27;,\n",
       "       &#x27;ams18&#x27;, &#x27;ams19&#x27;, &#x27;ams20&#x27;, &#x27;ams21&#x27;, &#x27;ams22&#x27;, &#x27;ams23&#x27;, &#x27;ams24&#x27;, &#x27;ams25&#x27;,\n",
       "       &#x27;ams26&#x27;, &#x27;ams27&#x27;, &#x27;ams28&#x27;, &#x27;ams29&#x27;, &#x27;ams30&#x27;, &#x27;ams31&#x27;, &#x27;ams32&#x27;, &#x27;ams33&#x27;,\n",
       "       &#x27;ams34&#x27;, &#x27;ams35&#x27;, &#x27;ams36&#x27;, &#x27;ams37&#x27;, &#x27;ams38&#x27;, &#x27;ams39&#x27;, &#x27;ams40&#x27;, &#x27;ams41&#x27;,\n",
       "       &#x27;ams42&#x27;, &#x27;ams43&#x27;, &#x27;ams44&#x27;, &#x27;ams45&#x27;, &#x27;ams46&#x27;, &#x27;ams47&#x27;, &#x27;ams48&#x27;, &#x27;ams49&#x27;,\n",
       "       &#x27;ams50&#x27;, &#x27;ams51&#x27;, &#x27;ams52&#x27;, &#x27;ams53&#x27;, &#x27;ams54&#x27;, &#x27;ams55&#x27;, &#x27;ams56&#x27;, &#x27;ams57&#x27;,\n",
       "       &#x27;ams58&#x27;, &#x27;ams59&#x27;, &#x27;ams60&#x27;, &#x27;ams61&#x27;, &#x27;ams62&#x27;, &#x27;ams63&#x27;, &#x27;ams64&#x27;, &#x27;ams65&#x27;,\n",
       "       &#x27;ams66&#x27;, &#x27;ams67&#x27;, &#x27;ams68&#x27;, &#x27;ams69&#x27;, &#x27;ams70&#x27;, &#x27;ams71&#x27;, &#x27;ams72&#x27;, &#x27;ams73&#x27;,\n",
       "       &#x27;ams74&#x27;, &#x27;ams75&#x27;, &#x27;ams76&#x27;, &#x27;ams77&#x27;, &#x27;ams78&#x27;, &#x27;ams79&#x27;, &#x27;ams80&#x27;, &#x27;ams81&#x27;,\n",
       "       &#x27;ams82&#x27;, &#x27;ams83&#x27;, &#x27;ams84&#x27;, &#x27;ams85&#x27;, &#x27;ams86&#x27;, &#x27;ams87&#x27;, &#x27;ams88&#x27;, &#x27;ams89&#x27;,\n",
       "       &#x27;ams90&#x27;, &#x27;ams91&#x27;, &#x27;ams92&#x27;, &#x27;ams93&#x27;, &#x27;ams94&#x27;, &#x27;ams95&#x27;, &#x27;ams96&#x27;, &#x27;ams97&#x27;,\n",
       "       &#x27;ams98&#x27;, &#x27;ams99&#x27;, &#x27;ams100&#x27;, &#x27;ams101&#x27;, &#x27;ams102&#x27;, &#x27;ams103&#x27;, &#x27;ams104&#x27;,\n",
       "       &#x27;ams105&#x27;, &#x27;ams106&#x27;, &#x27;ams107&#x27;, &#x27;ams108&#x27;, &#x27;ams109&#x27;, &#x27;ams110&#x27;, &#x27;ams111&#x27;,\n",
       "       &#x27;ams112&#x27;, &#x27;ams113&#x27;, &#x27;ams114&#x27;, &#x27;ams115&#x27;, &#x27;ams116&#x27;, &#x27;ams117&#x27;, &#x27;ams118&#x27;,\n",
       "       &#x27;ams119&#x27;, &#x27;ams120&#x27;, &#x27;ams121&#x27;, &#x27;ams122&#x27;, &#x27;ams123&#x27;, &#x27;ams124&#x27;, &#x27;ams125&#x27;,\n",
       "       &#x27;ams126&#x27;, &#x27;ams127&#x27;, &#x27;ams128&#x27;, &#x27;ams129&#x27;, &#x27;ams130&#x27;, &#x27;ams131&#x27;, &#x27;ams132&#x27;,\n",
       "       &#x27;ams133&#x27;, &#x27;ams134&#x27;], dtype=&#x27;&lt;U6&#x27;)</pre></div></li><li class='xr-var-item'><div class='xr-var-name'><span>elevation</span></div><div class='xr-var-dims'>(id)</div><div class='xr-var-dtype'>float64</div><div class='xr-var-preview xr-preview'>...</div><input id='attrs-37849704-e306-4c1e-b3a7-2259011e9f74' class='xr-var-attrs-in' type='checkbox' ><label for='attrs-37849704-e306-4c1e-b3a7-2259011e9f74' title='Show/Hide attributes'><svg class='icon xr-icon-file-text2'><use xlink:href='#icon-file-text2'></use></svg></label><input id='data-d0887478-bce1-4d99-9283-725eb34a0629' class='xr-var-data-in' type='checkbox'><label for='data-d0887478-bce1-4d99-9283-725eb34a0629' title='Show/Hide data repr'><svg class='icon xr-icon-database'><use xlink:href='#icon-database'></use></svg></label><div class='xr-var-attrs'><dl class='xr-attrs'><dt><span>units :</span></dt><dd>meters</dd><dt><span>longname :</span></dt><dd>meters_above_sea</dd></dl></div><div class='xr-var-data'><pre>[134 values with dtype=float64]</pre></div></li><li class='xr-var-item'><div class='xr-var-name'><span>lat</span></div><div class='xr-var-dims'>(id)</div><div class='xr-var-dtype'>float64</div><div class='xr-var-preview xr-preview'>52.31 52.3 52.31 ... 52.3 52.26</div><input id='attrs-61beca95-5a4c-44fc-8511-b43b7369047b' class='xr-var-attrs-in' type='checkbox' ><label for='attrs-61beca95-5a4c-44fc-8511-b43b7369047b' title='Show/Hide attributes'><svg class='icon xr-icon-file-text2'><use xlink:href='#icon-file-text2'></use></svg></label><input id='data-97128be1-02df-4ff0-819b-a5a8842530a7' class='xr-var-data-in' type='checkbox'><label for='data-97128be1-02df-4ff0-819b-a5a8842530a7' title='Show/Hide data repr'><svg class='icon xr-icon-database'><use xlink:href='#icon-database'></use></svg></label><div class='xr-var-attrs'><dl class='xr-attrs'><dt><span>units :</span></dt><dd>degrees in WGS84 projection</dd></dl></div><div class='xr-var-data'><pre>array([52.305896, 52.302044, 52.308427, 52.346013, 52.318572, 52.29778 ,\n",
       "       52.296925, 52.293497, 52.294196, 52.250494, 52.248114, 52.266931,\n",
       "       52.260747, 52.383185, 52.260903, 52.379541, 52.374224, 52.385828,\n",
       "       52.351625, 52.276279, 52.255822, 52.432086, 52.34437 , 52.279142,\n",
       "       52.36049 , 52.277776, 52.379349, 52.355428, 52.433587, 52.355287,\n",
       "       52.352732, 52.345679, 52.355926, 52.278352, 52.279715, 52.283123,\n",
       "       52.436889, 52.431829, 52.28069 , 52.292681, 52.387658, 52.36617 ,\n",
       "       52.315561, 52.356155, 52.353684, 52.356758, 52.344738, 52.344777,\n",
       "       52.324336, 52.311689, 52.374366, 52.326737, 52.311614, 52.368619,\n",
       "       52.365304, 52.311421, 52.336064, 52.366944, 52.345668, 52.361872,\n",
       "       52.377416, 52.354444, 52.376599, 52.306564, 52.347122, 52.347146,\n",
       "       52.364318, 52.420592, 52.39224 , 52.371264, 52.384832, 52.29568 ,\n",
       "       52.338317, 52.370216, 52.304167, 52.347713, 52.347411, 52.357365,\n",
       "       52.422486, 52.363017, 52.296284, 52.430344, 52.375864, 52.385221,\n",
       "       52.403466, 52.352911, 52.313202, 52.428796, 52.291897, 52.291065,\n",
       "       52.34385 , 52.295886, 52.342303, 52.370533, 52.291067, 52.38675 ,\n",
       "       52.389641, 52.299422, 52.356894, 52.42842 , 52.349484, 52.379199,\n",
       "       52.360095, 52.355155, 52.37839 , 52.36428 , 52.392244, 52.40145 ,\n",
       "       52.318235, 52.334084, 52.334242, 52.341625, 52.337057, 52.336364,\n",
       "       52.337291, 52.271513, 52.381958, 52.269474, 52.334801, 52.353509,\n",
       "       52.300295, 52.29967 , 52.32541 , 52.267822, 52.326555, 52.360578,\n",
       "       52.247674, 52.427009, 52.262895, 52.313112, 52.30725 , 52.431424,\n",
       "       52.301688, 52.263455])</pre></div></li><li class='xr-var-item'><div class='xr-var-name'><span>lon</span></div><div class='xr-var-dims'>(id)</div><div class='xr-var-dtype'>float64</div><div class='xr-var-preview xr-preview'>4.671 4.675 4.677 ... 5.041 5.045</div><input id='attrs-1617933e-9be6-4a6d-bcdd-4a6b90b615e0' class='xr-var-attrs-in' type='checkbox' ><label for='attrs-1617933e-9be6-4a6d-bcdd-4a6b90b615e0' title='Show/Hide attributes'><svg class='icon xr-icon-file-text2'><use xlink:href='#icon-file-text2'></use></svg></label><input id='data-5e01989b-c042-42cd-8bfb-86213b59cc0c' class='xr-var-data-in' type='checkbox'><label for='data-5e01989b-c042-42cd-8bfb-86213b59cc0c' title='Show/Hide data repr'><svg class='icon xr-icon-database'><use xlink:href='#icon-database'></use></svg></label><div class='xr-var-attrs'><dl class='xr-attrs'><dt><span>units :</span></dt><dd>degrees in WGS84 projection</dd></dl></div><div class='xr-var-data'><pre>array([4.670664, 4.67494 , 4.677275, 4.677554, 4.678593, 4.678602, 4.678811,\n",
       "       4.691424, 4.693114, 4.697461, 4.703257, 4.716684, 4.721024, 4.726638,\n",
       "       4.729484, 4.74437 , 4.74641 , 4.750101, 4.756874, 4.761691, 4.763104,\n",
       "       4.779267, 4.78131 , 4.783426, 4.789773, 4.795101, 4.802288, 4.805359,\n",
       "       4.805486, 4.80853 , 4.808709, 4.80967 , 4.815386, 4.815918, 4.818052,\n",
       "       4.820963, 4.823946, 4.830253, 4.831394, 4.838218, 4.840733, 4.84121 ,\n",
       "       4.844393, 4.845753, 4.846606, 4.847222, 4.852522, 4.852834, 4.857523,\n",
       "       4.861786, 4.861897, 4.864463, 4.866243, 4.866419, 4.868215, 4.870087,\n",
       "       4.87242 , 4.874659, 4.876575, 4.877924, 4.877941, 4.878989, 4.88051 ,\n",
       "       4.882364, 4.885412, 4.885653, 4.886345, 4.887069, 4.890683, 4.891477,\n",
       "       4.891896, 4.89308 , 4.895116, 4.895168, 4.896876, 4.897039, 4.897044,\n",
       "       4.898516, 4.899446, 4.899712, 4.899845, 4.900383, 4.900481, 4.900914,\n",
       "       4.902789, 4.903877, 4.905173, 4.905896, 4.906561, 4.90671 , 4.907208,\n",
       "       4.909413, 4.90966 , 4.911188, 4.911294, 4.916497, 4.91687 , 4.918493,\n",
       "       4.919527, 4.91978 , 4.923808, 4.92544 , 4.925732, 4.92614 , 4.928533,\n",
       "       4.928972, 4.929698, 4.94701 , 4.95428 , 4.95708 , 4.959199, 4.959465,\n",
       "       4.962097, 4.9623  , 4.96429 , 4.964432, 4.965107, 4.966738, 4.969634,\n",
       "       4.971247, 4.971332, 4.97138 , 4.974268, 4.974521, 4.978757, 4.979536,\n",
       "       4.994072, 4.996017, 5.028072, 5.03076 , 5.032035, 5.035655, 5.041156,\n",
       "       5.04502 ])</pre></div></li></ul></div></li><li class='xr-section-item'><input id='section-68beca24-349a-45b3-b7a4-dc622269bd23' class='xr-section-summary-in' type='checkbox'  checked><label for='section-68beca24-349a-45b3-b7a4-dc622269bd23' class='xr-section-summary' >Data variables: <span>(1)</span></label><div class='xr-section-inline-details'></div><div class='xr-section-details'><ul class='xr-var-list'><li class='xr-var-item'><div class='xr-var-name'><span>rainfall</span></div><div class='xr-var-dims'>(id, time)</div><div class='xr-var-dtype'>float64</div><div class='xr-var-preview xr-preview'>...</div><input id='attrs-617df507-a743-49dc-9395-a8dc4bea8085' class='xr-var-attrs-in' type='checkbox' ><label for='attrs-617df507-a743-49dc-9395-a8dc4bea8085' title='Show/Hide attributes'><svg class='icon xr-icon-file-text2'><use xlink:href='#icon-file-text2'></use></svg></label><input id='data-1166d7c8-a11e-4f50-875a-46a222fbe5f6' class='xr-var-data-in' type='checkbox'><label for='data-1166d7c8-a11e-4f50-875a-46a222fbe5f6' title='Show/Hide data repr'><svg class='icon xr-icon-database'><use xlink:href='#icon-database'></use></svg></label><div class='xr-var-attrs'><dl class='xr-attrs'><dt><span>name :</span></dt><dd>rainfall</dd><dt><span>long_name :</span></dt><dd>rainfall amount per time unit</dd><dt><span>units :</span></dt><dd>mm</dd><dt><span>coverage_contant_type :</span></dt><dd>physicalMeasurement</dd></dl></div><div class='xr-var-data'><pre>[29368512 values with dtype=float64]</pre></div></li></ul></div></li><li class='xr-section-item'><input id='section-81cf3af3-5a04-4660-97ed-d4b44da3a31d' class='xr-section-summary-in' type='checkbox'  ><label for='section-81cf3af3-5a04-4660-97ed-d4b44da3a31d' class='xr-section-summary' >Indexes: <span>(2)</span></label><div class='xr-section-inline-details'></div><div class='xr-section-details'><ul class='xr-var-list'><li class='xr-var-item'><div class='xr-index-name'><div>time</div></div><div class='xr-index-preview'>PandasIndex</div><input type='checkbox' disabled/><label></label><input id='index-4dc2f1bc-4087-4d28-a879-1aceff6bbf82' class='xr-index-data-in' type='checkbox'/><label for='index-4dc2f1bc-4087-4d28-a879-1aceff6bbf82' title='Show/Hide index repr'><svg class='icon xr-icon-database'><use xlink:href='#icon-database'></use></svg></label><div class='xr-index-data'><pre>PandasIndex(DatetimeIndex([&#x27;2016-05-01 00:05:00&#x27;, &#x27;2016-05-01 00:10:00&#x27;,\n",
       "               &#x27;2016-05-01 00:15:00&#x27;, &#x27;2016-05-01 00:20:00&#x27;,\n",
       "               &#x27;2016-05-01 00:25:00&#x27;, &#x27;2016-05-01 00:30:00&#x27;,\n",
       "               &#x27;2016-05-01 00:35:00&#x27;, &#x27;2016-05-01 00:40:00&#x27;,\n",
       "               &#x27;2016-05-01 00:45:00&#x27;, &#x27;2016-05-01 00:50:00&#x27;,\n",
       "               ...\n",
       "               &#x27;2018-05-31 23:15:00&#x27;, &#x27;2018-05-31 23:20:00&#x27;,\n",
       "               &#x27;2018-05-31 23:25:00&#x27;, &#x27;2018-05-31 23:30:00&#x27;,\n",
       "               &#x27;2018-05-31 23:35:00&#x27;, &#x27;2018-05-31 23:40:00&#x27;,\n",
       "               &#x27;2018-05-31 23:45:00&#x27;, &#x27;2018-05-31 23:50:00&#x27;,\n",
       "               &#x27;2018-05-31 23:55:00&#x27;, &#x27;2018-06-01 00:00:00&#x27;],\n",
       "              dtype=&#x27;datetime64[ns]&#x27;, name=&#x27;time&#x27;, length=219168, freq=None))</pre></div></li><li class='xr-var-item'><div class='xr-index-name'><div>id</div></div><div class='xr-index-preview'>PandasIndex</div><input type='checkbox' disabled/><label></label><input id='index-a7e910d3-1fcb-4188-9fd2-8629ce00f129' class='xr-index-data-in' type='checkbox'/><label for='index-a7e910d3-1fcb-4188-9fd2-8629ce00f129' title='Show/Hide index repr'><svg class='icon xr-icon-database'><use xlink:href='#icon-database'></use></svg></label><div class='xr-index-data'><pre>PandasIndex(Index([&#x27;ams1&#x27;, &#x27;ams2&#x27;, &#x27;ams3&#x27;, &#x27;ams4&#x27;, &#x27;ams5&#x27;, &#x27;ams6&#x27;, &#x27;ams7&#x27;, &#x27;ams8&#x27;, &#x27;ams9&#x27;,\n",
       "       &#x27;ams10&#x27;,\n",
       "       ...\n",
       "       &#x27;ams125&#x27;, &#x27;ams126&#x27;, &#x27;ams127&#x27;, &#x27;ams128&#x27;, &#x27;ams129&#x27;, &#x27;ams130&#x27;, &#x27;ams131&#x27;,\n",
       "       &#x27;ams132&#x27;, &#x27;ams133&#x27;, &#x27;ams134&#x27;],\n",
       "      dtype=&#x27;object&#x27;, name=&#x27;id&#x27;, length=134))</pre></div></li></ul></div></li><li class='xr-section-item'><input id='section-283d7a17-b84e-4642-ab18-9c68474b8140' class='xr-section-summary-in' type='checkbox'  ><label for='section-283d7a17-b84e-4642-ab18-9c68474b8140' class='xr-section-summary' >Attributes: <span>(10)</span></label><div class='xr-section-inline-details'></div><div class='xr-section-details'><dl class='xr-attrs'><dt><span>title :</span></dt><dd>PWS data from Amsterdam</dd><dt><span>file author :</span></dt><dd>Maximilian Graf</dd><dt><span>institution :</span></dt><dd>Wageningen University and Research, Department of Environmental Sciences</dd><dt><span>date :</span></dt><dd>2022-10-18 10:32:00</dd><dt><span>source :</span></dt><dd>Netamo PWS</dd><dt><span>history :</span></dt><dd>Data derived and reformated from the originally published dataset</dd><dt><span>naming convention :</span></dt><dd>OpenSense-0.1</dd><dt><span>license restrictions :</span></dt><dd>CC-BY 4.0 https://creativecommons.org/licenses/by/4.0/</dd><dt><span>reference :</span></dt><dd>https://doi.org/10.1029/2019GL083731</dd><dt><span>comment :</span></dt><dd></dd></dl></div></li></ul></div></div>"
      ],
      "text/plain": [
       "<xarray.Dataset> Size: 237MB\n",
       "Dimensions:    (time: 219168, id: 134)\n",
       "Coordinates:\n",
       "  * time       (time) datetime64[ns] 2MB 2016-05-01T00:05:00 ... 2018-06-01\n",
       "  * id         (id) <U6 3kB 'ams1' 'ams2' 'ams3' ... 'ams132' 'ams133' 'ams134'\n",
       "    elevation  (id) float64 1kB ...\n",
       "    lat        (id) float64 1kB 52.31 52.3 52.31 52.35 ... 52.43 52.3 52.26\n",
       "    lon        (id) float64 1kB 4.671 4.675 4.677 4.678 ... 5.036 5.041 5.045\n",
       "Data variables:\n",
       "    rainfall   (id, time) float64 235MB ...\n",
       "Attributes:\n",
       "    title:                 PWS data from Amsterdam\n",
       "    file author:           Maximilian Graf\n",
       "    institution:           Wageningen University and Research, Department of ...\n",
       "    date:                  2022-10-18 10:32:00\n",
       "    source:                Netamo PWS\n",
       "    history:               Data derived and reformated from the originally pu...\n",
       "    naming convention:     OpenSense-0.1\n",
       "    license restrictions:  CC-BY 4.0 https://creativecommons.org/licenses/by/...\n",
       "    reference:             https://doi.org/10.1029/2019GL083731\n",
       "    comment:               "
      ]
     },
     "execution_count": 9,
     "metadata": {},
     "output_type": "execute_result"
    }
   ],
   "source": [
    "ds_pws"
   ]
  },
  {
   "cell_type": "code",
   "execution_count": 11,
   "metadata": {},
   "outputs": [
    {
     "data": {
      "image/png": "[encoded data removed]",
      "text/plain": [
       "<Figure size 640x480 with 2 Axes>"
      ]
     },
     "metadata": {},
     "output_type": "display_data"
    }
   ],
   "source": [
    "fig, ax = plt.subplots()\n",
    "pws_plot = plg.plot_map.plot_plg(\n",
    "    da_gauges=ds_pws.sel(time=\"2018-05\").rainfall.sum(dim=\"time\"),\n",
    "    vmin=0,\n",
    "    vmax=80,\n",
    "    kwargs_gauges_plot={\n",
    "        \"s\": 30,\n",
    "        \"label\": \"PWS\",\n",
    "    },\n",
    "    ax=ax,\n",
    ")\n",
    "gauge_plot = plg.plot_map.plot_plg(\n",
    "    da_gauges=ds_gauges.sel(time=\"2018-05\").rainfall.sum(dim=\"time\"),\n",
    "    vmin=0,\n",
    "    vmax=80,\n",
    "    kwargs_gauges_plot={\n",
    "        \"s\": 70,\n",
    "        \"marker\": \"v\",\n",
    "        \"label\": \"reference gauges\",\n",
    "    },\n",
    "    ax=ax,\n",
    "    add_colorbar=False\n",
    ")\n"
   ]
  }
 ],
 "metadata": {
  "kernelspec": {
   "display_name": "Python 3 (ipykernel)",
   "language": "python",
   "name": "python3"
  },
  "language_info": {
   "codemirror_mode": {
    "name": "ipython",
    "version": 3
   },
   "file_extension": ".py",
   "mimetype": "text/x-python",
   "name": "python",
   "nbconvert_exporter": "python",
   "pygments_lexer": "ipython3",
   "version": "3.11.11"
  }
 },
 "nbformat": 4,
 "nbformat_minor": 4
}
