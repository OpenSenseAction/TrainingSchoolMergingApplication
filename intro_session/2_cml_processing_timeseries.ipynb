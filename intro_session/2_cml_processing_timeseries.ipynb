{
 "cells": [
  {
   "cell_type": "markdown",
   "metadata": {
    "slideshow": {
     "slide_type": "slide"
    }
   },
   "source": [
    "# Introduction to CML data processing - From raw signals to rain rates"
   ]
  },
  {
   "cell_type": "markdown",
   "metadata": {},
   "source": [
    "<img src=\"https://wires.onlinelibrary.wiley.com/cms/asset/e241f352-21c4-49e7-a8f7-ecf6ff15686f/wat21337-fig-0001-m.jpg\" alt=\"drawing\" width=\"1300\"/>"
   ]
  },
  {
   "cell_type": "markdown",
   "metadata": {
    "slideshow": {
     "slide_type": "subslide"
    }
   },
   "source": [
    "<img src=\"https://hess.copernicus.org/articles/24/2931/2020/hess-24-2931-2020-f03-web.png\" alt=\"drawing\" width=\"1000\"/>\n"
   ]
  },
  {
   "cell_type": "markdown",
   "metadata": {},
   "source": [
    "#### ToC:\n",
    "* Load and explore CML data\n",
    "* Perform processing for a CML\n",
    "* Spotlights of CML processing: Wet-dry detection and wet antenna attenuation\n",
    "* Bonus: The \"nearby-link\" approach"
   ]
  },
  {
   "cell_type": "code",
   "execution_count": null,
   "metadata": {
    "slideshow": {
     "slide_type": "-"
    }
   },
   "outputs": [],
   "source": [
    "import matplotlib.pyplot as plt\n",
    "import numpy as np\n",
    "import pandas as pd\n",
    "\n",
    "import sys\n",
    "import os\n",
    "sys.path.append(os.path.abspath(\"../poligrain/src\"))\n",
    "sys.path.append(os.path.abspath(\"../pycomlink/\"))\n",
    "\n",
    "import poligrain as plg\n",
    "import pycomlink as pycml"
   ]
  },
  {
   "cell_type": "markdown",
   "metadata": {
    "slideshow": {
     "slide_type": "slide"
    }
   },
   "source": [
    "## Load OpenMRG example dataset\n",
    "\n",
    "We have already learned about this in the previous notebook."
   ]
  },
  {
   "cell_type": "code",
   "execution_count": null,
   "metadata": {},
   "outputs": [],
   "source": [
    "(\n",
    "    ds_radar1,\n",
    "    ds_cmls1,\n",
    "    ds_city_ga1uges,\n",
    "    ds_gauge_s1mhi,\n",
    ") = plg.example_data.load_openmrg(data_dir=\"example_data\", subset=\"8d\")\n"
   ]
  },
  {
   "cell_type": "code",
   "execution_count": null,
   "metadata": {},
   "outputs": [],
   "source": [
    "ds_cmls1.isel(cml_id=123)"
   ]
  },
  {
   "cell_type": "code",
   "execution_count": null,
   "metadata": {},
   "outputs": [],
   "source": [
    "(\n",
    "    ds_radar,\n",
    "    ds_cmls,\n",
    "    ds_city_gauges,\n",
    "    ds_gauge_smhi,\n",
    ") = plg.example_data.load_openmrg(data_dir=\"example_data\", subset=\"8d\")\n",
    "\n",
    "ds_cmls = ds_cmls.rename_vars({'R': 'R_example'})"
   ]
  },
  {
   "cell_type": "markdown",
   "metadata": {},
   "source": [
    "Note, that this is data for 364 CMLs, each with two sublinks, with a temporal reslotion of 10 sec. For a 8-day period, this is approx. 1.2 GB of data if loaded into memory. CML data can be quite large!"
   ]
  },
  {
   "cell_type": "code",
   "execution_count": null,
   "metadata": {},
   "outputs": [],
   "source": [
    "print(f'{ds_cmls.nbytes/1e6:.2f} MB')"
   ]
  },
  {
   "cell_type": "markdown",
   "metadata": {},
   "source": [
    "## Prepare data\n",
    "* Project coordinates to UTM zone for Europe \n",
    "* We remove very short CMLs (< 1 km) and CMLs which have frequencies below 30 GHz combined with a length below 2 km. We do this because these CMLs are fairly insensitive to rainfall and this might provide less accurate rainfall estimates. That is not say, that one cannot use rainfall estimates of these CMLs. But since CML data processing and the analysis of the resulting rainfall estimates is not the focus in this example, we remove the more insensitive CMLs."
   ]
  },
  {
   "cell_type": "code",
   "execution_count": null,
   "metadata": {},
   "outputs": [],
   "source": [
    "# Project coordinates of city gauges\n",
    "(\n",
    "    ds_city_gauges.coords[\"x\"],\n",
    "    ds_city_gauges.coords[\"y\"],\n",
    ") = plg.spatial.project_point_coordinates(\n",
    "    ds_city_gauges.lon,\n",
    "    ds_city_gauges.lat,\n",
    "    \"EPSG:25832\",\n",
    ")\n",
    "\n",
    "# Project coordinates of radar\n",
    "(\n",
    "    ds_radar.coords[\"x_grid\"],\n",
    "    ds_radar.coords[\"y_grid\"],\n",
    ") = plg.spatial.project_point_coordinates(\n",
    "    ds_radar.lon,\n",
    "    ds_radar.lat,\n",
    "    \"EPSG:25832\",\n",
    ")\n",
    "\n",
    "# Project coordinates for CMLs\n",
    "(\n",
    "    ds_cmls.coords[\"site_0_x\"],\n",
    "    ds_cmls.coords[\"site_0_y\"],\n",
    ") = plg.spatial.project_point_coordinates(\n",
    "    ds_cmls.site_0_lon, ds_cmls.site_0_lat, \"EPSG:25832\"\n",
    ")\n",
    "(\n",
    "    ds_cmls.coords[\"site_1_x\"],\n",
    "    ds_cmls.coords[\"site_1_y\"],\n",
    ") = plg.spatial.project_point_coordinates(\n",
    "    ds_cmls.site_1_lon, ds_cmls.site_1_lat, \"EPSG:25832\"\n",
    ")\n",
    "\n",
    "\n",
    "# Remove CMLs shorter than 1 km with frequency below 30 GHz\n",
    "ds_cmls = ds_cmls.where(\n",
    "    ~((ds_cmls.length / 1000 < 2) & (ds_cmls.frequency / 1000 < 30)), drop=True\n",
    ")\n",
    "ds_cmls = ds_cmls.where(ds_cmls.length / 1000 > 1, drop=True)\n",
    "\n"
   ]
  },
  {
   "cell_type": "markdown",
   "metadata": {},
   "source": [
    "## Get radar rain rate along each CML for comparison"
   ]
  },
  {
   "cell_type": "code",
   "execution_count": null,
   "metadata": {},
   "outputs": [],
   "source": [
    "get_grid_at_lines = plg.spatial.GridAtLines(\n",
    "    da_gridded_data=ds_radar,\n",
    "    ds_line_data=ds_cmls,\n",
    ")\n",
    "radar_along_cml = get_grid_at_lines(da_gridded_data=ds_radar.R)"
   ]
  },
  {
   "cell_type": "markdown",
   "metadata": {
    "slideshow": {
     "slide_type": "subslide"
    }
   },
   "source": [
    "## Explore CML data"
   ]
  },
  {
   "cell_type": "markdown",
   "metadata": {
    "slideshow": {
     "slide_type": "slide"
    }
   },
   "source": [
    "### The transmitted and received signal levels (TSL and RSL)\n",
    "\n",
    "- RSL is the most important variable for rainfall estimation\n",
    "- TSL can be constant or vary with time if ATPC (automatic transmit power control) is enabled\n",
    "- RSL and TSL are quantized, often at 0.3 dB for RSL and 1.0 dB for TSL\n",
    "\n",
    "Note that in some datasets there might be fill values, e.g. -99.9 for RSL which need to be set to NaN. This was already done in this dataset."
   ]
  },
  {
   "cell_type": "code",
   "execution_count": null,
   "metadata": {
    "slideshow": {
     "slide_type": "-"
    }
   },
   "outputs": [],
   "source": [
    "ds_cml = ds_cmls.isel(cml_id=20) \n",
    "\n",
    "fig, axs = plt.subplots(2, 1, figsize=(10, 5))\n",
    "ds_cml.tsl.plot.line(x='time', ax=axs[0])\n",
    "ds_cml.rsl.plot.line(x='time', ax=axs[1])\n",
    "axs[1].set_title('');"
   ]
  },
  {
   "cell_type": "markdown",
   "metadata": {},
   "source": [
    "## Exercise 1\n",
    "1.1 Plot TSL and RSL time series of other CMLs  \n",
    "1.2 Calculate `TL`, the difference between TSL and RSL and plot TL with cmls from 1.1"
   ]
  },
  {
   "cell_type": "markdown",
   "metadata": {},
   "source": [
    "### Exercise 1.1"
   ]
  },
  {
   "cell_type": "code",
   "execution_count": null,
   "metadata": {},
   "outputs": [],
   "source": [
    "# Write you code here..\n",
    "\n",
    "\n"
   ]
  },
  {
   "cell_type": "code",
   "execution_count": null,
   "metadata": {},
   "outputs": [],
   "source": [
    "if input(\"Enter 'Solution' to display solutions: \")=='Solution':\n",
    "    %load solutions/2_1_1_solution.py"
   ]
  },
  {
   "cell_type": "markdown",
   "metadata": {},
   "source": [
    "### Exercise 1.2"
   ]
  },
  {
   "cell_type": "code",
   "execution_count": null,
   "metadata": {},
   "outputs": [],
   "source": [
    "# Write you code here..\n",
    "\n",
    "\n"
   ]
  },
  {
   "cell_type": "code",
   "execution_count": null,
   "metadata": {},
   "outputs": [],
   "source": [
    "if input(\"Enter 'Solution' to display solutions: \")=='Solution':\n",
    "    %load solutions/2_1_2_solution.py"
   ]
  },
  {
   "cell_type": "markdown",
   "metadata": {},
   "source": [
    "## Perform all processing steps for a single CML"
   ]
  },
  {
   "cell_type": "code",
   "execution_count": null,
   "metadata": {},
   "outputs": [],
   "source": [
    "ds_cml = ds_cmls.sel(cml_id=10124)\n",
    "\n",
    "# Calculate Tl (TSL - RSL)\n",
    "ds_cml['tl'] = ds_cml.tsl - ds_cml.rsl\n",
    "\n",
    "# Full processing\n",
    "ds_cml['rsd'] = ds_cml.tl.rolling(time=60*6, center=True).std() \n",
    "threshold = 0.4\n",
    "ds_cml['wet'] = ds_cml.rsd > threshold\n",
    "ds_cml['baseline'] = pycml.processing.baseline.baseline_constant(\n",
    "    trsl=ds_cml.tl, \n",
    "    wet=ds_cml.wet, \n",
    "    n_average_last_dry=5*6)  # use average of TL of last 5 minutes\n",
    "\n",
    "ds_cml['A_obs'] = ds_cml.tl - ds_cml.baseline\n",
    "ds_cml[\"A_obs\"] = ds_cml.A_obs.where(ds_cml.A_obs >= 0, 0)\n",
    "ds_cml['waa'] = pycml.processing.wet_antenna.waa_pastorek_2021_from_A_obs(\n",
    "    A_obs=ds_cml.A_obs,\n",
    "    f_Hz=ds_cml.frequency * 1e6,\n",
    "    pol=ds_cml.polarization.data,\n",
    "    L_km=ds_cml.length / 1000,\n",
    "    A_max=3,\n",
    "    zeta=0.7,  \n",
    "    d=0.15, \n",
    ")\n",
    "\n",
    "# subtract baseline and wet antenna attenuation from total path loss\n",
    "ds_cml['A'] = ds_cml.tl - ds_cml.baseline - ds_cml.waa\n",
    "# set negative values to zero\n",
    "ds_cml['A'] = ds_cml.A.where(ds_cml.A > 0, 0) \n",
    "\n",
    "ds_cml['R'] = pycml.processing.k_R_relation.calc_R_from_A(\n",
    "    A=ds_cml.A, \n",
    "    L_km=float(ds_cml.length)/1000, \n",
    "    f_GHz=ds_cml.frequency/1000,\n",
    "    pol=ds_cml.polarization\n",
    ")"
   ]
  },
  {
   "cell_type": "markdown",
   "metadata": {},
   "source": [
    "### ... and plot the results"
   ]
  },
  {
   "cell_type": "code",
   "execution_count": null,
   "metadata": {},
   "outputs": [],
   "source": [
    "# Function to mark wet periods in an existing plot\n",
    "def highlight_wet_periods(da_wet, ax):\n",
    "    # set first and last time stamp to NaN\n",
    "    da_wet = da_wet.copy()\n",
    "    da_wet = da_wet.where(da_wet.time != da_wet.time.isel(time=0), False)\n",
    "    da_wet = da_wet.where(da_wet.time != da_wet.time.isel(time=-1), False)\n",
    "    \n",
    "    # Get start and end of dry event\n",
    "    wet_start = np.roll(da_wet, -1) & ~da_wet\n",
    "    wet_end = np.roll(da_wet, 1) & ~da_wet\n",
    "    \n",
    "    # Plot shaded area for each wet event\n",
    "    for wet_start_i, wet_end_i in zip(\n",
    "        wet_start.values.nonzero()[0],\n",
    "        wet_end.values.nonzero()[0],\n",
    "    ):\n",
    "        ax.axvspan(da_wet.time.values[wet_start_i], da_wet.time.values[wet_end_i], color='b', alpha=1)\n",
    "\n",
    "# Plotting code for this exercise\n",
    "\n",
    "fig, axs = plt.subplots(4, 1, figsize=(12,8), sharex=True)\n",
    "\n",
    "# Plot RSL of TL and threshold\n",
    "ds_cml.rsd.plot.line(x='time', ax=axs[0])\n",
    "axs[0].axhline(threshold, color='k', linestyle='--', label='threshold')\n",
    "\n",
    "# Plot TL and mark wet periods\n",
    "ds_cml.tl.plot.line(x='time', ax=axs[1]);\n",
    "highlight_wet_periods(ds_cml.wet, ax=axs[1])\n",
    "\n",
    "# Plot TL, baseline and WAA\n",
    "ds_cml.tl.plot.line(x='time', alpha=0.5, label='tl', ax=axs[2])\n",
    "\n",
    "axs[2].set_prop_cycle(None)\n",
    "ds_cml.baseline.plot.line(\n",
    "    x='time', \n",
    "    linestyle=':', \n",
    "    label='baseline without WAA', \n",
    "    ax=axs[2]\n",
    ")\n",
    "\n",
    "axs[2].set_prop_cycle(None)\n",
    "(ds_cml.baseline + ds_cml.waa).plot.line(\n",
    "    x='time', \n",
    "    label='baseline with WAA', \n",
    "    ax=axs[2]\n",
    ")\n",
    "axs[2].legend()\n",
    "axs[2].set_ylabel(\"baseline and waa\")\n",
    "\n",
    "# Plot CML and radar rain rate\n",
    "ds_cml.R.plot.line(x='time',label='computed rain rate', ax=axs[3])\n",
    "radar_along_cml.sel(cml_id=ds_cml.cml_id.data).plot.line(x='time', color='k', label='radar along CML', ax=axs[3])\n",
    "plt.legend()\n",
    "axs[2].set_ylabel(\"rain rate (mm/h)\")\n",
    "\n",
    "\n",
    "plt.xlim(pd.to_datetime('2015-07-25'), pd.to_datetime('2015-07-26'))\n",
    "\n",
    "for i in range(0, 4):\n",
    "    axs[i].set_title('')\n",
    "    if i < 3: axs[i].set_xlabel('');"
   ]
  },
  {
   "cell_type": "markdown",
   "metadata": {},
   "source": [
    "### Interpolate short gaps in TL"
   ]
  },
  {
   "cell_type": "markdown",
   "metadata": {},
   "source": [
    "Due to short outages of the data acquisition of the CML data there can be short gaps in TSL and RSL, consequently also in TL. We can interpolate these gaps. The question is, however, up to which length the gaps should be interpolated?\n",
    "\n",
    "We have found that interpolating gaps in TL up to 5 minutes is still okay."
   ]
  },
  {
   "cell_type": "code",
   "execution_count": null,
   "metadata": {},
   "outputs": [],
   "source": [
    "ds_cmls['tl'] = ds_cmls.tsl - ds_cmls.rsl\n",
    "ds_cmls['tl'] = ds_cmls.tl.interpolate_na(dim='time', method='linear', max_gap='5min')"
   ]
  },
  {
   "cell_type": "markdown",
   "metadata": {},
   "source": [
    "## Spotlights in the CML processing"
   ]
  },
  {
   "cell_type": "markdown",
   "metadata": {
    "slideshow": {
     "slide_type": "slide"
    }
   },
   "source": [
    "### Spotlight 1: Wet-dry classification"
   ]
  },
  {
   "cell_type": "markdown",
   "metadata": {
    "slideshow": {
     "slide_type": "-"
    }
   },
   "source": [
    "The goal here is to detect rain-indcued attenuation events so that we can separate them from the fluctuations of TL during dry periods."
   ]
  },
  {
   "cell_type": "markdown",
   "metadata": {
    "slideshow": {
     "slide_type": "fragment"
    }
   },
   "source": [
    "- Rainfall generates high TL values for short periods\n",
    "    \n",
    "- How can we detect such periods? \n",
    "\n",
    "As a first, simple approach, we will use the rolling standard deviation (RSD) of TL and a threshold as suggested by [Schleiß et al. 2010](https://ieeexplore.ieee.org/document/5438724). There are different methods implemented in `pycomlink`. At the end of the notebook we will explore the \"nearby-link approach\" which works by comparing TL from neighboring CMLs.\n",
    "\n"
   ]
  },
  {
   "cell_type": "markdown",
   "metadata": {
    "slideshow": {
     "slide_type": "subslide"
    }
   },
   "source": [
    "#### Compute a rolling standard deviation of TL"
   ]
  },
  {
   "cell_type": "code",
   "execution_count": null,
   "metadata": {
    "slideshow": {
     "slide_type": "-"
    }
   },
   "outputs": [],
   "source": [
    "# here we first select one CML\n",
    "ds_cml = ds_cmls.isel(cml_id=7)\n",
    "\n",
    "# RSD with a 60-minute window length (note that this is 10sec data)\n",
    "ds_cml['rsd'] = ds_cml.tl.rolling(time=60*6, center=True).std() "
   ]
  },
  {
   "cell_type": "code",
   "execution_count": null,
   "metadata": {},
   "outputs": [],
   "source": [
    "fig, axs = plt.subplots(2, 1, figsize=(16,4), sharex=True)\n",
    "ds_cml.tl.plot.line(x='time', ax=axs[0])\n",
    "ds_cml.rsd.plot.line(x='time', ax=axs[1])\n",
    "axs[0].set_ylabel('tl')\n",
    "axs[1].set_ylabel('RSD')\n",
    "axs[1].set_title('');"
   ]
  },
  {
   "cell_type": "markdown",
   "metadata": {},
   "source": [
    "#### Apply a threshold to divide TL into wet (rainy) and dry (non-rainy) periods"
   ]
  },
  {
   "cell_type": "code",
   "execution_count": null,
   "metadata": {},
   "outputs": [],
   "source": [
    "threshold = 0.5\n",
    "ds_cml = ds_cmls.isel(cml_id=7)\n",
    "\n",
    "ds_cml['rsd'] = ds_cml.tl.rolling(time=60*6, center=True).std() \n",
    "ds_cml['wet'] = ds_cml.rsd > threshold\n",
    "\n",
    "# Plot RSL of TL and threshold\n",
    "fig, axs = plt.subplots(2, 1, figsize=(16,4), sharex=True)\n",
    "ds_cml.rsd.plot.line(x='time', ax=axs[0])\n",
    "axs[0].axhline(threshold, color='k', linestyle='--', label='threshold')\n",
    "\n",
    "# Plot TL and mark wet periods\n",
    "ds_cml.tl.plot.line(x='time', ax=axs[1]);\n",
    "highlight_wet_periods(ds_cml.wet, ax=axs[1])\n",
    "axs[0].set_title('')\n",
    "axs[1].set_title('');"
   ]
  },
  {
   "cell_type": "markdown",
   "metadata": {},
   "source": [
    "#### Apply a threshold that take the general noisneness of a CML into account \n",
    "Method from [Graf et al. 2020](https://hess.copernicus.org/articles/24/2931/2020/hess-24-2931-2020.html) \n",
    "that sets the RSD treshold based on a \"noisiness indicator\", which here is the 80th quantile of the RSD \n",
    "(note that higher quantiles e.g. 95th are typically those of RSD during rain events)."
   ]
  },
  {
   "cell_type": "code",
   "execution_count": null,
   "metadata": {},
   "outputs": [],
   "source": [
    "ds_cml = ds_cmls.isel(cml_id=7)\n",
    "factor = 1.4\n",
    "\n",
    "ds_cml['rsd'] = ds_cml.tl.rolling(time=60*6, center=True).std() \n",
    "ds_cml['rsd_threshold'] = factor * ds_cml.rsd.quantile(.80)\n",
    "ds_cml['wet'] = ds_cml.rsd > ds_cml.rsd_threshold\n",
    "\n",
    "\n",
    "# Plot RSL of TL and threshold\n",
    "fig, axs = plt.subplots(2, 1, figsize=(16,4), sharex=True)\n",
    "ds_cml.rsd.plot.line(x='time', ax=axs[0])\n",
    "axs[0].axhline(threshold, color='k', linestyle='--', label='threshold')\n",
    "\n",
    "# Plot TL and mark wet periods\n",
    "ds_cml.tl.plot.line(x='time', ax=axs[1]);\n",
    "highlight_wet_periods(ds_cml.wet, ax=axs[1])\n",
    "axs[0].set_title('')\n",
    "axs[1].set_title('');"
   ]
  },
  {
   "cell_type": "markdown",
   "metadata": {},
   "source": [
    "### Spotlight 2: Estimate wet anteanna attenuation (WAA)\n",
    "Rain drops on the antenna cover can create additional attenuation that we need to subtract before estimating the path averaged rainfall rate.\n",
    "<img src=\"https://amt.copernicus.org/articles/11/4645/2018/amt-11-4645-2018-f14-web.png\" alt=\"drawing\" width=\"1000\"/>  \n",
    "[van Leth et al. 2018](https://doi.org/10.5194/amt-11-4645-2018)"
   ]
  },
  {
   "cell_type": "code",
   "execution_count": null,
   "metadata": {},
   "outputs": [],
   "source": [
    "# do processing of one CML here again to make sure \n",
    "# that we all have the same data for the next cells\n",
    "ds_cml = ds_cmls.sel(cml_id=10124)\n",
    "threshold = 0.7\n",
    "\n",
    "ds_cml['rsd'] = ds_cml.tl.rolling(time=60*6, center=True).std() \n",
    "ds_cml['wet'] = ds_cml.rsd > threshold\n",
    "\n",
    "ds_cml['baseline'] = pycml.processing.baseline.baseline_constant(\n",
    "    trsl=ds_cml.tl, \n",
    "    wet=ds_cml.wet, \n",
    "    n_average_last_dry=5*6)  # use average of TL of last 5 minutes"
   ]
  },
  {
   "cell_type": "markdown",
   "metadata": {},
   "source": [
    "#### Time dependet WAA estimation"
   ]
  },
  {
   "cell_type": "code",
   "execution_count": null,
   "metadata": {},
   "outputs": [],
   "source": [
    "# Estimate WAA\n",
    "ds_cml['waa'] = pycml.processing.wet_antenna.waa_schleiss_2013(\n",
    "    rsl=ds_cml.tl, \n",
    "    baseline=ds_cml.baseline, \n",
    "    wet=ds_cml.wet, \n",
    "    waa_max=2.0, \n",
    "    delta_t=1, \n",
    "    tau=15*6, # 15 minutes\n",
    ")\n",
    "\n",
    "# subtract baseline and wet antenna attenuation from total path loss\n",
    "ds_cml['A'] = ds_cml.tl - ds_cml.baseline - ds_cml.waa\n",
    "# set negative values to zero\n",
    "ds_cml['A'] = ds_cml.A.where(ds_cml.A > 0, 0) \n",
    "\n",
    "# also calc A without WAA compensation for illustration purposes\n",
    "ds_cml['A_no_waa_correct'] = ds_cml.tl - ds_cml.baseline\n",
    "ds_cml['A_no_waa_correct'] = ds_cml.A_no_waa_correct.where(ds_cml.A_no_waa_correct > 0, 0)"
   ]
  },
  {
   "cell_type": "code",
   "execution_count": null,
   "metadata": {},
   "outputs": [],
   "source": [
    "def waa_plot(ds_cml, t_start_zoom='2015-07-25 11:00:00', t_end_zoom='2015-07-25 16:00:00'):\n",
    "    ds_cml_zoom = ds_cml.sel(time=slice(t_start_zoom, t_end_zoom))\n",
    "\n",
    "    fig, axs = plt.subplots(2, 1, figsize=(16,6), sharex=True)\n",
    "    ds_cml_zoom.tl.plot.line(x='time', alpha=0.5, label='tl', ax=axs[0])\n",
    "\n",
    "    axs[0].set_prop_cycle(None)\n",
    "    ds_cml_zoom.baseline.plot.line(\n",
    "        x='time', \n",
    "        linestyle=':', \n",
    "        label='baseline without WAA', \n",
    "        ax=axs[0]\n",
    "    )\n",
    "\n",
    "    axs[0].set_prop_cycle(None)\n",
    "    (ds_cml_zoom.baseline + ds_cml_zoom.waa).plot.line(\n",
    "        x='time', \n",
    "        label='baseline with WAA', \n",
    "        ax=axs[0]\n",
    "    )\n",
    "\n",
    "    ds_cml_zoom.A.plot.line(x='time', label='with WAA', ax=axs[1])\n",
    "    axs[1].set_prop_cycle(None)\n",
    "    ds_cml_zoom.A_no_waa_correct.plot.line(x='time', linestyle=':', label='without WAA', ax=axs[1])\n",
    "\n",
    "    axs[0].set_ylabel('tl (dB)')\n",
    "    axs[1].set_ylabel('PIA (dB)')\n",
    "    axs[1].set_title('')\n",
    "    axs[1].legend()\n",
    "    axs[0].legend();\n",
    "\n",
    "waa_plot(ds_cml)"
   ]
  },
  {
   "cell_type": "markdown",
   "metadata": {},
   "source": [
    "#### Intesity dependent WAA estimation\n",
    "Method from [Pastorek et al. (2021)](https://doi.org/10.1109/TGRS.2021.3110004) (the method they call \"KR-alt\"). It is available via the function `pycml.processing.wet_antenna.waa_pastorek_2021_from_A_obs()`. \n",
    "  \n",
    "  Note that this function requires attenuation as input. There is an internal rain-rate dependent WAA estimation which is based on the attenuation that is used as input. You have to pepare e.g. `ds_cml['A_obs'] = ds_cml.tl - ds_cml.baseline` and then pass `ds_cml.A_obs`,which is the observed path-attenuation without WAA correction, into the function to calcualte `ds_cml.waa`. Afterwards you can again use `ds_cml['A'] = ds_cml.tl - ds_cml.baseline - ds_cml.waa` to calculate the rain-induced attenuation which we have called `ds_cml.A` in the example above.\n",
    "\n",
    "More info on the WAA methods can be found in [this `pycomlink` example notebook](https://github.com/pycomlink/pycomlink/blob/master/notebooks/Wet%20antenna%20attenuation.ipynb)"
   ]
  },
  {
   "cell_type": "code",
   "execution_count": null,
   "metadata": {},
   "outputs": [],
   "source": [
    "ds_cml[\"A_obs\"] = ds_cml.tl - ds_cml.baseline\n",
    "ds_cml[\"A_obs\"] = ds_cml.A_obs.where(ds_cml.A_obs >= 0, 0)\n",
    "ds_cml[\"waa\"] = pycml.processing.wet_antenna.waa_pastorek_2021_from_A_obs(\n",
    "    A_obs=ds_cml.A_obs,\n",
    "    f_Hz=ds_cml.frequency * 1e6,\n",
    "    pol=ds_cml.polarization.data,\n",
    "    L_km=ds_cml.length / 1000,\n",
    "    A_max=6,\n",
    "    zeta=0.7,  \n",
    "    d=0.15, \n",
    ")\n",
    "\n",
    "# calculate attenuation caused by rain and remove negative attenuation\n",
    "ds_cml[\"A\"] = ds_cml.tl - ds_cml.baseline - ds_cml.waa\n",
    "ds_cml[\"A\"] = ds_cml.A.where(ds_cml.A > 0, 0)\n",
    "\n",
    "\n",
    "# Plot \n",
    "waa_plot(ds_cml)"
   ]
  },
  {
   "cell_type": "markdown",
   "metadata": {},
   "source": [
    "## Exercise 2 \n",
    "2.1 Process one CML with the code from above and use `plg.validation.plot_hexbin`, `plg.validation.calculate_rainfall_metrics` and `plg.validation.plot_confusion_matrix_count` to analyse the CML rain rates compared to radar (using it as reference) for 1h rainfall sums.  \n",
    "2.2 Reprocess the one CML and change paramters of the wet-dry classification, the WAA estimation or any other part and check the changes in performance compared to the radar"
   ]
  },
  {
   "cell_type": "markdown",
   "metadata": {},
   "source": [
    "### Exercise 2.1"
   ]
  },
  {
   "cell_type": "code",
   "execution_count": null,
   "metadata": {},
   "outputs": [],
   "source": [
    "# Write code here...\n",
    "\n",
    "\n"
   ]
  },
  {
   "cell_type": "code",
   "execution_count": null,
   "metadata": {},
   "outputs": [],
   "source": [
    "if input(\"Enter 'Solution' to display solutions: \")=='Solution':\n",
    "    %load solutions/2_2_1_solution.py"
   ]
  },
  {
   "cell_type": "markdown",
   "metadata": {
    "slideshow": {
     "slide_type": "subslide"
    }
   },
   "source": [
    "### Exercise 2.2"
   ]
  },
  {
   "cell_type": "code",
   "execution_count": null,
   "metadata": {},
   "outputs": [],
   "source": [
    "# Write code here...\n",
    "\n",
    "\n"
   ]
  },
  {
   "cell_type": "markdown",
   "metadata": {},
   "source": [
    "There is no solution as you can freely play with the parameters.. ;)"
   ]
  },
  {
   "cell_type": "markdown",
   "metadata": {},
   "source": [
    "# Bonus section: The \"nearby-link\" approach for wet-dry classification"
   ]
  },
  {
   "cell_type": "markdown",
   "metadata": {},
   "source": [
    "This method was developed to work with 15-minute min-max data which is typically generated by the \"network monotoring systems\" (NMS) of CML networks.\n",
    "\n",
    "The method was originally implemented in the `RAINLINK` package for the R programming language and is described in detail in [Overeem et al. (2016)](https://doi.org/10.5194/amt-9-2425-2016). It has been used in numerous publications, most prominently for the first country-wide CML rainfall maps, derived for the Netherlandsd ([Overeem et al., 2013](https://doi.org/10.1073/pnas.1217961110))\n",
    "\n",
    "There is now also an implementation available in `pycomlink`, allowing for much easiert and more consisten method intercomparison."
   ]
  },
  {
   "cell_type": "markdown",
   "metadata": {},
   "source": [
    "Note: Since we work with the instantaneous 10-sec TSL and RSL data here, we have to generate the 15-minute min-max data first."
   ]
  },
  {
   "cell_type": "code",
   "execution_count": null,
   "metadata": {},
   "outputs": [],
   "source": [
    "import pycomlink.processing.wet_dry.nearby_wetdry as nearby_wetdry\n",
    "import pycomlink.processing.nearby_rain_retrival as nearby_rain"
   ]
  },
  {
   "cell_type": "code",
   "execution_count": null,
   "metadata": {},
   "outputs": [],
   "source": [
    "rstl = ds_cmls.rsl - ds_cmls.tsl\n",
    "pmin = rstl.resample(time=\"15min\").min()\n",
    "pmax = rstl.resample(time=\"15min\").max()"
   ]
  },
  {
   "cell_type": "code",
   "execution_count": null,
   "metadata": {},
   "outputs": [],
   "source": [
    "ds_cmls"
   ]
  },
  {
   "cell_type": "code",
   "execution_count": null,
   "metadata": {},
   "outputs": [],
   "source": [
    "ds_dist = nearby_wetdry.calc_distance_between_cml_endpoints(\n",
    "    cml_ids=ds_cmls.cml_id.values,\n",
    "    site_a_latitude=ds_cmls.site_0_lat,\n",
    "    site_a_longitude=ds_cmls.site_0_lon,\n",
    "    site_b_latitude=ds_cmls.site_1_lat,\n",
    "    site_b_longitude=ds_cmls.site_1_lon,\n",
    ")"
   ]
  },
  {
   "cell_type": "code",
   "execution_count": null,
   "metadata": {},
   "outputs": [],
   "source": [
    "ds_dist.isel(cml_id1=250).a_to_all_a.plot.hist(bins=50);\n"
   ]
  },
  {
   "cell_type": "code",
   "execution_count": null,
   "metadata": {},
   "outputs": [],
   "source": [
    "r=15 # radius in km\n",
    "ds_dist[\"within_r\"] = (\n",
    "        (ds_dist.a_to_all_a < r)\n",
    "        & (ds_dist.a_to_all_b < r)\n",
    "        & (ds_dist.b_to_all_a < r)\n",
    "        & (ds_dist.b_to_all_b < r)\n",
    ")"
   ]
  },
  {
   "cell_type": "code",
   "execution_count": null,
   "metadata": {},
   "outputs": [],
   "source": [
    "# hack, because `pmin.length` is used in this function\n",
    "# but is assumed to be provided in km not in m\n",
    "pmin['length'] = pmin.length / 1e3\n",
    "\n",
    "wet, F = nearby_wetdry.nearby_wetdry(\n",
    "    pmin=pmin,\n",
    "    ds_dist=ds_dist,\n",
    "    radius=15,\n",
    "    thresh_median_P=-1.4,\n",
    "    thresh_median_PL=-0.7,\n",
    "    min_links=3,\n",
    "    interval=15,\n",
    "    timeperiod=24,\n",
    ")"
   ]
  },
  {
   "cell_type": "code",
   "execution_count": null,
   "metadata": {},
   "outputs": [],
   "source": [
    "t_start, t_end = \"2015-07-27\", \"2015-07-28 \"\n",
    "for cmlid in [5, 211]:\n",
    "    (ds_cmls.isel(cml_id=cmlid).tsl - ds_cmls.isel(cml_id=cmlid).rsl).isel(sublink_id=0).sel(\n",
    "        time=slice(t_start, t_end)\n",
    "    ).plot(figsize=(12, 3), label=\"TL: total loss\")\n",
    "    pmin.isel(cml_id=cmlid,sublink_id=0).sel(time=slice(t_start, t_end)).plot(\n",
    "        label=\"pmin: 15-minute minimum of rsl - tsl\"\n",
    "    )\n",
    "    pmax.isel(cml_id=cmlid,sublink_id=0).sel(time=slice(t_start, t_end)).plot(\n",
    "        label=\"pmax: 15-minute maximum of rsl - tsl\"\n",
    "    )\n",
    "    (\n",
    "        (wet.isel(sublink_id=0,cml_id=cmlid).sel(time=slice(t_start, t_end)) * 140)\n",
    "        - 70\n",
    "    ).plot(label=\"classified wet\", alpha=0.5)\n",
    "\n",
    "    plt.legend()"
   ]
  },
  {
   "cell_type": "markdown",
   "metadata": {},
   "source": [
    "**Baseline estimation (pref)**  \n",
    "The baseline is set to the rolling median of the average of pmin and pmax during the last n_average_dry time steps. Default is 24 hours (n_average_dry=96 because 15 minute temporal resolution) and a baseline will be calculated when at least one time step is available (min_periods=1) If pmax is not available e.g. because the min-max data is derived from instanteanous sampled CML data and has the same temporal resolution as the instanteanous CML data, substitute pmax with pmin so pmin and pmax are identical."
   ]
  },
  {
   "cell_type": "code",
   "execution_count": null,
   "metadata": {},
   "outputs": [],
   "source": [
    "pref = nearby_rain.nearby_determine_reference_level(pmin, pmax, wet, n_average_dry=96, min_periods=1)\n"
   ]
  },
  {
   "cell_type": "markdown",
   "metadata": {},
   "source": [
    "**Correction if min-max data**\n",
    "Correcting pmin and pmax so that no rainfall estimation is carried out during dry time steps. All time steps of pmin which are not classified wet and pmin is smaller than pref are set to pref. Similarly, all time steps of pmax where either the corrected pmin (p_c_min) is not smaller than pref or pmax is not smaller than pref are set to pref. This ensures that only wet time steps are used for rainfall estimation an and that pmax is not above pref which would lead to an overestimation of rainfall."
   ]
  },
  {
   "cell_type": "code",
   "execution_count": null,
   "metadata": {},
   "outputs": [],
   "source": [
    "p_c_min, p_c_max = nearby_rain.nearby_correct_received_signals(pmin, pmax, wet, pref)\n"
   ]
  },
  {
   "cell_type": "markdown",
   "metadata": {},
   "source": [
    "**Calculate rain rates from attenuation data**\n",
    "Also, correcting for wet antenna attenuation and setting the alpha value which defines how close to the minimum attenuation of each intervall the rain rate should be set."
   ]
  },
  {
   "cell_type": "code",
   "execution_count": null,
   "metadata": {},
   "outputs": [],
   "source": [
    "R = nearby_rain.nearby_rainfall_retrival(\n",
    "    pref,\n",
    "    p_c_min,\n",
    "    p_c_max,\n",
    "    F,\n",
    "    length=pmin.length,\n",
    "    f_GHz=pmin.frequency / 1e3,\n",
    "    pol=pmin.polarization,\n",
    "    waa_max=2.3,\n",
    "    alpha=0.33,\n",
    "    F_value_threshold =-32.5,\n",
    ")"
   ]
  },
  {
   "cell_type": "markdown",
   "metadata": {},
   "source": [
    "### Compare to RSD wet-dry processing"
   ]
  },
  {
   "cell_type": "code",
   "execution_count": null,
   "metadata": {},
   "outputs": [],
   "source": [
    "# processing with RSD as done above, but now for all CMLs in one `xarray.Dataset`\n",
    "\n",
    "# calculate wet periods\n",
    "ds_cmls['roll_std_threshold'] = 1.1 * ds_cmls['tl'].rolling(time=60, center=True).std().quantile(0.85, dim='time')\n",
    "ds_cmls['wet'] = ds_cmls.tl.rolling(time=60, center=True).std() > ds_cmls.roll_std_threshold\n",
    "\n",
    "# calculate baseline\n",
    "ds_cmls[\"baseline\"] = pycml.processing.baseline.baseline_constant(\n",
    "    trsl=ds_cmls.tl,\n",
    "    wet=ds_cmls.wet,\n",
    "    n_average_last_dry=5,\n",
    ")    \n",
    "\n",
    "# calculate wet antenna effect\n",
    "ds_cmls[\"A_obs\"] = ds_cmls.tl - ds_cmls.baseline\n",
    "ds_cmls[\"A_obs\"] = ds_cmls.A_obs.where(ds_cmls.A_obs >= 0, 0)\n",
    "ds_cmls[\"waa\"] = pycml.processing.wet_antenna.waa_pastorek_2021_from_A_obs(\n",
    "    A_obs=ds_cmls.A_obs,\n",
    "    f_Hz=ds_cmls.frequency * 1e6,\n",
    "    pol=ds_cmls.polarization.data,\n",
    "    L_km=ds_cmls.length / 1000,\n",
    "    A_max=6,\n",
    "    zeta=0.7,  \n",
    "    d=0.15, \n",
    ")\n",
    "\n",
    "# calculate attenuation caused by rain and remove negative attenuation\n",
    "ds_cmls[\"A\"] = ds_cmls.tl - ds_cmls.baseline - ds_cmls.waa\n",
    "ds_cmls[\"A\"] = ds_cmls.A.where(ds_cmls.A > 0, 0)\n",
    "# derive rain rate via the k-R relation\n",
    "ds_cmls[\"R\"] = pycml.processing.k_R_relation.calc_R_from_A(\n",
    "    A=ds_cmls.A,\n",
    "    L_km=ds_cmls.length.astype(float) / 1000,  \n",
    "    f_GHz=ds_cmls.frequency / 1000,  \n",
    "    pol=ds_cmls.polarization,\n",
    ")\n",
    "ds_cmls[\"R\"].data[ds_cmls.R < 0.01] = 0"
   ]
  },
  {
   "cell_type": "code",
   "execution_count": null,
   "metadata": {},
   "outputs": [],
   "source": [
    "ds_cml = ds_cmls.isel(cml_id=123)\n",
    "\n",
    "fig, ax = plt.subplots(figsize=(12,3))\n",
    "ds_cml.isel(sublink_id=0).R.plot.line(x='time',label='rain rate with RSD wet-dry')\n",
    "R.isel(sublink_id=0).sel(cml_id=ds_cml.cml_id.data).plot(label='rain rate with nearby wet-dry')\n",
    "plt.legend()"
   ]
  },
  {
   "cell_type": "code",
   "execution_count": null,
   "metadata": {},
   "outputs": [],
   "source": []
  }
 ],
 "metadata": {
  "celltoolbar": "Slideshow",
  "kernelspec": {
   "display_name": "Python 3 (ipykernel)",
   "language": "python",
   "name": "python3"
  },
  "language_info": {
   "codemirror_mode": {
    "name": "ipython",
    "version": 3
   },
   "file_extension": ".py",
   "mimetype": "text/x-python",
   "name": "python",
   "nbconvert_exporter": "python",
   "pygments_lexer": "ipython3",
   "version": "3.11.11"
  }
 },
 "nbformat": 4,
 "nbformat_minor": 4
}
