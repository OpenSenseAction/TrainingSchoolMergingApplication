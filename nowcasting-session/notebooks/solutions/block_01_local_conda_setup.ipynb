{
 "cells": [
  {
   "cell_type": "markdown",
   "metadata": {},
   "source": [
    "# Check if the pysteps installation was successful\n",
    "To check if the installation was successful, we are going to import pysteps in your python environment and configure pysteps."
   ]
  },
  {
   "cell_type": "code",
   "execution_count": 2,
   "metadata": {},
   "outputs": [
    {
     "name": "stdout",
     "output_type": "stream",
     "text": [
      "Pysteps configuration file found at: /home/ritvanen/.pysteps/pystepsrc\n",
      "\n"
     ]
    }
   ],
   "source": [
    "import pysteps"
   ]
  },
  {
   "cell_type": "markdown",
   "metadata": {
    "id": "5O-rQDmyFVvX"
   },
   "source": [
    "## Create the pystepsrc file and load configuration\n",
    "\n",
    "A pystepsrc file needs to be created to make the example datasets accessible to pysteps. To create this file, we will use the [pysteps.datasets.create_default_pystepsrc()](https://pysteps.readthedocs.io/en/latest/generated/pysteps.datasets.create_default_pystepsrc.html#pysteps.datasets.create_default_pystepsrc) helper function and load the configuration file by using [pysteps.load_config_file](https://pysteps.readthedocs.io/en/stable/generated/pysteps.load_config_file.html)."
   ]
  },
  {
   "cell_type": "markdown",
   "metadata": {
    "id": "zvIciPLBIkeY"
   },
   "source": [
    "When installing pysteps locally, see the [documentation](https://pysteps.readthedocs.io/en/stable/user_guide/set_pystepsrc.html) for additional instructions about the pystepsrc file."
   ]
  },
  {
   "cell_type": "code",
   "execution_count": 3,
   "metadata": {},
   "outputs": [
    {
     "name": "stdout",
     "output_type": "stream",
     "text": [
      "Pysteps configuration file found at: /home/ritvanen/.pysteps/pystepsrc\n",
      "\n"
     ]
    }
   ],
   "source": [
    "from pysteps.datasets import create_default_pystepsrc\n",
    "config_file_path = create_default_pystepsrc(\"pysteps_data\")\n",
    "\n",
    "_ = pysteps.load_config_file(config_file_path, verbose=True)"
   ]
  },
  {
   "cell_type": "markdown",
   "metadata": {
    "id": "AP1vLmT2EraY"
   },
   "source": [
    "# Download the example data and prepare the configuration\n",
    "\n",
    "The steps needed for downloading the pysteps example data and setting up the initial configuration in Colab are shown below."
   ]
  },
  {
   "cell_type": "markdown",
   "metadata": {
    "id": "lV-jlCEX2Qxn"
   },
   "source": [
    "## Download the data\n",
    "\n",
    "We use the [pysteps.datasets.download_pysteps_data()](https://pysteps.readthedocs.io/en/latest/generated/pysteps.datasets.download_pysteps_data.html) function to download the data from the [GitHub repository](https://github.com/pySTEPS/pysteps-data)."
   ]
  },
  {
   "cell_type": "code",
   "execution_count": 4,
   "metadata": {
    "colab": {
     "base_uri": "https://localhost:8080/"
    },
    "executionInfo": {
     "elapsed": 43775,
     "status": "ok",
     "timestamp": 1661348913125,
     "user": {
      "displayName": "Seppo Pulkkinen",
      "userId": "04188716139781503777"
     },
     "user_tz": -180
    },
    "id": "fVcB_k_HxP7Z",
    "outputId": "010cc0b9-c0b3-475b-e7db-78718c40767b"
   },
   "outputs": [
    {
     "name": "stdout",
     "output_type": "stream",
     "text": [
      "Downloading pysteps-data from github.\n",
      "Progress: (316.7 Mb) - Time left: unknown\n",
      "Download complete\n",
      "\n"
     ]
    }
   ],
   "source": [
    "from pysteps.datasets import download_pysteps_data\n",
    "download_pysteps_data(\"pysteps_data\")"
   ]
  },
  {
   "cell_type": "code",
   "execution_count": 5,
   "metadata": {
    "colab": {
     "base_uri": "https://localhost:8080/"
    },
    "executionInfo": {
     "elapsed": 356,
     "status": "ok",
     "timestamp": 1661348913473,
     "user": {
      "displayName": "Seppo Pulkkinen",
      "userId": "04188716139781503777"
     },
     "user_tz": -180
    },
    "id": "tuPrGrM4C0_7",
    "outputId": "bf1e4e28-02e6-442f-b947-bd0f5488c826"
   },
   "outputs": [
    {
     "name": "stdout",
     "output_type": "stream",
     "text": [
      "Running the notebook took 37.783 seconds\n"
     ]
    }
   ],
   "source": [
    "print(f\"Running the notebook took {time.time() - starttime:.3f} seconds\")"
   ]
  }
 ],
 "metadata": {
  "colab": {
   "collapsed_sections": [],
   "name": "block_01_setup_pip.ipynb",
   "provenance": []
  },
  "kernelspec": {
   "display_name": "Python 3 (ipykernel)",
   "language": "python",
   "name": "python3"
  },
  "language_info": {
   "codemirror_mode": {
    "name": "ipython",
    "version": 3
   },
   "file_extension": ".py",
   "mimetype": "text/x-python",
   "name": "python",
   "nbconvert_exporter": "python",
   "pygments_lexer": "ipython3",
   "version": "3.12.9"
  }
 },
 "nbformat": 4,
 "nbformat_minor": 4
}
