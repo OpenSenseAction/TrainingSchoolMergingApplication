{
 "cells": [
  {
   "cell_type": "markdown",
   "metadata": {},
   "source": [
    "Note: These exercise notebooks are meant to help you to get started with the exercises. They are meant to be incomplete, so you will have to add some steps yourself (often indicated by the \"...\" in the code). The number of steps that have to be added by the participants progressively increases the further you get with the exercises. If you can't figure it out yourself, no worries, have a look at the [solution](../solutions) folder or ask one of the teachers."
   ]
  },
  {
   "cell_type": "markdown",
   "metadata": {
    "id": "Ktwrxar5ODWr"
   },
   "source": [
    "# Precipitation accumulation with advection interpolation\n",
    "\n",
    "In this notebook we show how to apply advection-based temporal interpolation to improve the accuracy of estimated precipitation accumulations."
   ]
  },
  {
   "cell_type": "code",
   "execution_count": null,
   "metadata": {
    "executionInfo": {
     "elapsed": 13328,
     "status": "ok",
     "timestamp": 1661352105424,
     "user": {
      "displayName": "Seppo Pulkkinen",
      "userId": "04188716139781503777"
     },
     "user_tz": -180
    },
    "id": "c0YAZX2UGq-7"
   },
   "outputs": [],
   "source": [
    "import numpy as np\n",
    "from pysteps.utils import transformation\n",
    "from pysteps.datasets import load_dataset\n",
    "\n",
    "from pysteps.utils.dimension import clip_domain\n",
    "\n",
    "# Use the original FMI dataset at the 1 km resolution\n",
    "precip, metadata, timestep = load_dataset('fmi')\n",
    "\n",
    "# Pick one-hour time series between 14:45 and 15:45 UTC on 28th September 2016\n",
    "precip_hour = precip[:13]\n",
    "metadata_hour = metadata.copy()\n",
    "metadata_hour[\"timestamps\"] = metadata_hour[\"timestamps\"][:13]\n",
    "\n",
    "# Clip the domain to contain the southern Finland\n",
    "precip_clipped, metadata_clipped = clip_domain(\n",
    "    precip_hour,\n",
    "    metadata,\n",
    "    extent=(100000, 600000, 120000, 650000)\n",
    ")\n",
    "\n",
    "# First compute accumulated precipitation directly from the observations without\n",
    "# temporal interpolation. This is done by assuming that each instantaneous\n",
    "# precipitation rate represent the mean value during a 5-minute interval.\n",
    "precip_accum_nointerp = np.mean(np.stack(np.array(precip_clipped)), axis=0)\n",
    "\n",
    "# Then proceed with computation of accumulated precipitation from temporally\n",
    "# interpolated fields\n",
    "from scipy.ndimage import map_coordinates\n",
    "from pysteps import motion\n",
    "\n",
    "# Log-transform to dB units before applying the optical flow\n",
    "precip_dbr, metadata_dbr = transformation.dB_transform(...)\n",
    "\n",
    "# Estimate the motion field by using the Lucas-Kanade method with 6 time steps\n",
    "# (30 minutes)\n",
    "oflow = motion.get_method(\"LK\")\n",
    "motion_field = oflow(precip_dbr[-6:], verbose=False)\n",
    "\n",
    "# Our observation time step is 5 minutes\n",
    "obs_timestep = ...\n",
    "# The chosen time step between the interpolated fields is 0.25 minutes (15 seconds)\n",
    "interp_timestep = ...\n",
    "\n",
    "# Here we use scipy.ndimage.map_coordinates. This requires the x- and y-coordinates\n",
    "# of our grid.\n",
    "x, y = np.meshgrid(\n",
    "    np.arange(precip_clipped[0].shape[1], dtype=float),\n",
    "    np.arange(precip_clipped[0].shape[0], dtype=float)\n",
    ")\n",
    "\n",
    "# Define a function for advection-based temporal interpolation. For two given\n",
    "# precipitation fields, it returns the interpolated time frames between them.\n",
    "# The endpoints of the interval are not included.\n",
    "def interpolate(precip1, precip2):\n",
    "    out = []\n",
    "\n",
    "    for t in np.arange(interp_timestep, obs_timestep, interp_timestep):\n",
    "        # Extrapolate the first precipitation field forward by time t / obs_timestep\n",
    "        coords1 = (y - t / obs_timestep * motion_field[1],\n",
    "                   x - t / obs_timestep * motion_field[0])\n",
    "        # Here we use interpolation order 1. Alternatively, we could use\n",
    "        # extrapolation.semilagrangian.extrapolate here to take advantage of\n",
    "        # the more advanced functionality.\n",
    "        precip1_warped = map_coordinates(precip1, coords1, order=0)\n",
    "\n",
    "        # Extrapolate the second precipitation field forward by time\n",
    "        # (obs_timestep - t) / obs_timestep\n",
    "        coords2 = (y + (obs_timestep - t) / obs_timestep * motion_field[1],\n",
    "                   x + (obs_timestep - t) / obs_timestep * motion_field[0])\n",
    "        precip2_warped = map_coordinates(precip2, coords2, order=0)\n",
    "\n",
    "        # Compute interpolated value from precip1 and precip2 that are\n",
    "        # extrapolated to the same time\n",
    "        out.append((obs_timestep - t) / obs_timestep * precip1_warped +\n",
    "                   t / obs_timestep * precip2_warped)\n",
    "\n",
    "    return out\n",
    "\n",
    "# Finally compute accumulated precipitation from the interpolated sequence.\n",
    "# First include the observation time steps that are not interpolated.\n",
    "precip_accum_interp = np.sum(np.stack(np.array(precip_clipped)), axis=0)\n",
    "n = len(precip_clipped)\n",
    "for i in range(len(precip_clipped))[:-1]:\n",
    "    precip_interp = interpolate(precip_clipped[i], precip_clipped[i+1])\n",
    "    precip_accum_interp += np.sum(np.stack(np.array(precip_interp)), axis=0)\n",
    "    n += len(precip_interp)\n",
    "precip_accum_interp /= n"
   ]
  },
  {
   "cell_type": "markdown",
   "metadata": {
    "id": "grpU6R-ibjtB"
   },
   "source": [
    "Let's then plot the hourly accumulations computed without and with temporal interpolation (time steps 5 minutes and 15 seconds, respectively). This comparison clearly shows that the latter produces a smooth field, whereas the former has the jagged appearance. This is because of the limited time resolution, which makes impossible to capture the motion of precipitation between the time steps."
   ]
  },
  {
   "cell_type": "code",
   "execution_count": null,
   "metadata": {
    "colab": {
     "base_uri": "https://localhost:8080/",
     "height": 598
    },
    "executionInfo": {
     "elapsed": 23103,
     "status": "ok",
     "timestamp": 1661352128522,
     "user": {
      "displayName": "Seppo Pulkkinen",
      "userId": "04188716139781503777"
     },
     "user_tz": -180
    },
    "id": "P1upPPh1QS-q",
    "outputId": "5808f77b-0713-45ad-b776-dcc4d69d5868"
   },
   "outputs": [],
   "source": [
    "from matplotlib import pyplot as plt\n",
    "from pysteps.visualization import plot_precip_field\n",
    "\n",
    "# Disable warnings\n",
    "import warnings\n",
    "warnings.filterwarnings(\"ignore\")\n",
    "\n",
    "fig = plt.figure(figsize=(16, 10))\n",
    "\n",
    "ax = fig.add_subplot(121); ax.axis(\"off\")\n",
    "plot_precip_field(\n",
    "    precip_accum_nointerp,\n",
    "    ...,\n",
    ")\n",
    "plt.title(\"without interpolation\")\n",
    "\n",
    "ax = fig.add_subplot(122); ax.axis(\"off\")\n",
    "\n",
    "plot_precip_field(\n",
    "    precip_accum_interp,\n",
    "    ...,\n",
    ")\n",
    "plt.title(\"with interpolation\")\n",
    "\n",
    "plt.suptitle(\"Hourly precipitation accumulations\")\n",
    "plt.show()"
   ]
  }
 ],
 "metadata": {
  "colab": {
   "collapsed_sections": [],
   "name": "block_03a_advection_interpolation.ipynb",
   "provenance": []
  },
  "kernelspec": {
   "display_name": "opensense_training",
   "language": "python",
   "name": "python3"
  },
  "language_info": {
   "codemirror_mode": {
    "name": "ipython",
    "version": 3
   },
   "file_extension": ".py",
   "mimetype": "text/x-python",
   "name": "python",
   "nbconvert_exporter": "python",
   "pygments_lexer": "ipython3",
   "version": "3.11.11"
  }
 },
 "nbformat": 4,
 "nbformat_minor": 0
}
