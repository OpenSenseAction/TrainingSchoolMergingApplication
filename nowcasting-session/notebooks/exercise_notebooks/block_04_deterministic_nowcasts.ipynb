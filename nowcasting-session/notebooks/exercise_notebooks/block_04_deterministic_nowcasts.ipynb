{
 "cells": [
  {
   "cell_type": "markdown",
   "metadata": {},
   "source": [
    "Note: These exercise notebooks are meant to help you to get started with the exercises. They are meant to be incomplete, so you will have to add some steps yourself (often indicated by the \"...\" in the code). The number of steps that have to be added by the participants progressively increases the further you get with the exercises. If you can't figure it out yourself, no worries, have a look at the [solution](../solutions) folder or ask one of the teachers."
   ]
  },
  {
   "cell_type": "markdown",
   "metadata": {
    "id": "r7fy_7Mb9anF"
   },
   "source": [
    "# Nowcasting methods - part 1 deterministic forecasts\n",
    "\n",
    "In this notebook we show how to construct, visualize, apply verification metrics to and export deterministic nowcasts using pysteps.\n"
   ]
  },
  {
   "cell_type": "markdown",
   "metadata": {
    "id": "HSfnhArguSvF"
   },
   "source": [
    "## Load the data and pre-processing steps from the previous exercises\n",
    "\n",
    "First, we load the data and apply the pre-processing steps from the previous exercices, so that we can use it in this notebook.\n",
    "Start with loading the data below."
   ]
  },
  {
   "cell_type": "code",
   "execution_count": null,
   "metadata": {
    "colab": {
     "base_uri": "https://localhost:8080/"
    },
    "executionInfo": {
     "elapsed": 117772,
     "status": "ok",
     "timestamp": 1661352323649,
     "user": {
      "displayName": "Seppo Pulkkinen",
      "userId": "04188716139781503777"
     },
     "user_tz": -180
    },
    "id": "xQlPAF19VEny",
    "outputId": "a7b33da8-1271-4363-b637-4e92139fb1f0"
   },
   "outputs": [],
   "source": [
    "# Redefine the function to load the OS datasets\n",
    "..."
   ]
  },
  {
   "cell_type": "code",
   "execution_count": null,
   "metadata": {},
   "outputs": [],
   "source": [
    "# Read the data (we recommend to start with the radar data, later on we will compare this with the other OS data)\n",
    "..."
   ]
  },
  {
   "cell_type": "markdown",
   "metadata": {},
   "source": [
    "Then, we add the pre-processing steps, which consist of:\n",
    "- Conversion of the data from mm to mm/h.\n",
    "- Transformation of the data, here we apply a log-transform of the data to dBR with threshold of 0.1 mm/h and fill value of -15 dBR. This improves the reliability of optical flow and nowcasting methods.\n",
    "- Determining the motion fields with one of the optical flow algorithms. Lucas-Kanade (\"LK\") is used here. "
   ]
  },
  {
   "cell_type": "code",
   "execution_count": null,
   "metadata": {},
   "outputs": [],
   "source": [
    "import warnings\n",
    "warnings.filterwarnings(\"ignore\")\n",
    "\n",
    "import numpy as np\n",
    "\n",
    "from pysteps import motion\n",
    "from pysteps.utils import conversion, transformation\n",
    "\n",
    "# Handling of NaN values has been explicitly implemented in Lucas-Kanade and VET,\n",
    "# but not in DARTS. For this reason, we set all non-finite values to the minimum\n",
    "# value before applying the optical flow.\n",
    "precip_finite = precip.copy()\n",
    "precip_finite[~np.isfinite(precip_finite)] = np.nanmin(precip)\n",
    "\n",
    "# First transform the precip from mm to mm/h\n",
    "precip_mmh, metadata_mmh = ...\n",
    "\n",
    "# Select an index (=timestep) for which we are making the nowcasts.\n",
    "# Store the twelve timesteps after it as observations, which we will use for the\n",
    "# visualization and validation of the nowcasts.\n",
    "index = ...\n",
    "precip_obs_mmh = precip_mmh[index:...] \n",
    "\n",
    "# Then, log-transform the data to dBR with threshold of 0.1 mm/h and fill value of\n",
    "# -15 dBR\n",
    "...\n",
    "\n",
    "# Use get_method to get a callable function for the chosen method\n",
    "...\n",
    "\n",
    "# Use 4 most recent precipitation fields (60 minutes) for Lucas-Kanade\n",
    "# Disable printing with verbose=False\n",
    "..."
   ]
  },
  {
   "cell_type": "markdown",
   "metadata": {
    "id": "eYO-3-qc-wEx"
   },
   "source": [
    "# Deterministic nowcasts\n",
    "In the deterministic nowcasting part, we will use the loaded data (see above) to create a precipitation nowcast and calculate different verification metrics to assess the skill of the nowcast compared to observations.\n",
    "\n",
    "The first step is to make a nowcast using the **extrapolation** nowcasting method that simply extrapolates the last observed precipitation field along the motion field. You can follow the example in the [PySTEPS example gallery](https://pysteps.readthedocs.io/en/stable/auto_examples/plot_extrapolation_nowcast.html#sphx-glr-auto-examples-plot-extrapolation-nowcast-py). Calculate the nowcasts for 4 leadtimes, i.e. for 1 hour, and visualize some nowcasts with the observations. This approach is similar to what you already have done in [exercise_03](./exercise_03_optical_flow_and_extrapolation.md).\n",
    "\n",
    "The semi-Lagrangian extrapolation method has some keyword arguments that can improve the quality of the nowcast depending on the data. For a full list of the arguments, see the [pySTEPS documentation](https://pysteps.readthedocs.io/en/latest/generated/pysteps.extrapolation.semilagrangian.extrapolate.html). Feel free to play with it!\n",
    "\n",
    "Below the simple extrapolation-based nowcast, this notebook also shows how you can make a deterministic nowcast using te S-PROG models. You could try it out yourself with the LINDA model as well, but not that LINDA requires the python package `skimage`. \n"
   ]
  },
  {
   "cell_type": "code",
   "execution_count": null,
   "metadata": {
    "colab": {
     "base_uri": "https://localhost:8080/"
    },
    "executionInfo": {
     "elapsed": 4854,
     "status": "ok",
     "timestamp": 1661352347080,
     "user": {
      "displayName": "Seppo Pulkkinen",
      "userId": "04188716139781503777"
     },
     "user_tz": -180
    },
    "id": "mV3RYv7c-uEU",
    "outputId": "34ec8f41-a4f6-4385-f0f4-694b7c53649c"
   },
   "outputs": [],
   "source": [
    "from matplotlib import pyplot as plt\n",
    "\n",
    "from pysteps import nowcasts\n",
    "from pysteps.visualization import plot_precip_field\n",
    "%matplotlib inline\n",
    "\n",
    "# Set nowcast parameters\n",
    "n_leadtimes = ...\n",
    "\n",
    "# The extrapolation method has some keyword arguments that can be used to control the nowcasting\n",
    "extrap_kwargs = {\n",
    "  \"allow_nonfinite_values\": False,\n",
    "  \"interp_order\": 1,\n",
    "}\n",
    "\n",
    "# The extrapolation nowcast\n",
    "nowcast_method = nowcasts.get_method(\"extrapolation\")\n",
    "precip_extrap = nowcast_method(\n",
    "    ...[index-1, :, :].squeeze(),\n",
    "    ...,\n",
    "    timesteps=n_leadtimes,\n",
    "    extrap_method=\"semilagrangian\",\n",
    "    extrap_kwargs=extrap_kwargs,\n",
    ")\n",
    "\n",
    "# Back-transform the results from dBR to rain rates\n",
    "precip_extrap = transformation.dB_transform(\n",
    "    precip_extrap, \n",
    "    threshold=metadata_dbr[\"threshold\"], \n",
    "    inverse=True\n",
    "    )[0]\n",
    "\n",
    "# Calculate the S-PROG nowcast for comparison\n",
    "# S-PROG requires as many input fields as 1 + degree of the AR process\n",
    "# and some other arguments\n",
    "nowcast_method = nowcasts.get_method(\"sprog\")\n",
    "precip_sprog = nowcast_method(\n",
    "    ...[index-3:index, :, :],\n",
    "    advection_field,\n",
    "    timesteps=n_leadtimes,\n",
    "    n_cascade_levels=6,\n",
    "    precip_thr=metadata_dbr[\"threshold\"],\n",
    ")\n",
    "# Back-transform the results from dBR to rain rates\n",
    "precip_sprog = ..."
   ]
  },
  {
   "cell_type": "markdown",
   "metadata": {
    "id": "MJAS-yUMtH_t"
   },
   "source": [
    "### Visualize the results\n",
    "\n",
    "Visualize the observations and the nowcasts for a few lead times. An example on how to do this is provided in [the STEPS nowcast gallery example](https://pysteps.readthedocs.io/en/latest/auto_examples/plot_steps_nowcast.html#stochastic-nowcast-with-steps). You can plot the observations on one row and the corresponding nowcasts below them."
   ]
  },
  {
   "cell_type": "code",
   "execution_count": null,
   "metadata": {
    "colab": {
     "base_uri": "https://localhost:8080/",
     "height": 699
    },
    "executionInfo": {
     "elapsed": 28522,
     "status": "ok",
     "timestamp": 1661352375596,
     "user": {
      "displayName": "Seppo Pulkkinen",
      "userId": "04188716139781503777"
     },
     "user_tz": -180
    },
    "id": "gEd8CUtRs-i8",
    "outputId": "a4b7f056-b4de-4f1c-d130-8fea69e22179"
   },
   "outputs": [],
   "source": [
    "fig = plt.figure(figsize=(16, 12), layout=\"constrained\")\n",
    "map_kwargs = {\"drawlonlatlines\": True}\n",
    "\n",
    "# The nowcasts were made up to 3 hours into the future, so feel free to adjust the plotting\n",
    "# indices and plot e.g. up to 3 hours instead of up to 1 hour.\n",
    "for i, j in enumerate(range(0, 4, 1)):\n",
    "    ax = fig.add_subplot(3, 4, 1 + i); ax.axis(\"off\")\n",
    "    plot_precip_field(\n",
    "        precip_obs_mmh[j], \n",
    "        geodata=..., \n",
    "        colorscale=\"STEPS-NL\", \n",
    "        colorbar=False,\n",
    "        map_kwargs=map_kwargs,\n",
    "        ax=ax,\n",
    "        title=f\"Observation at +{(j + 1) * 15} min.\"\n",
    "        )\n",
    "\n",
    "# We'll plot the nowcast for four lead times\n",
    "for i, j in enumerate(range(0, 4, 1)):\n",
    "    ax = fig.add_subplot(3, 4, 5 + i); ax.axis(\"off\")\n",
    "    plot_precip_field(\n",
    "        precip_extrap[j], \n",
    "        geodata=..., \n",
    "        colorscale=\"STEPS-NL\", \n",
    "        colorbar=False,\n",
    "        map_kwargs=map_kwargs,\n",
    "        ax=ax,\n",
    "        title=f\"Extrap. nowcast +{(j + 1) * 15} min.\"\n",
    "        )\n",
    "\n",
    "# Also plot the S-PROG nowcast\n",
    "for i, j in enumerate(range(0, 4, 1)):\n",
    "    ax = fig.add_subplot(3, 4, 9 + i); ax.axis(\"off\")\n",
    "    plot_precip_field(...)"
   ]
  },
  {
   "cell_type": "markdown",
   "metadata": {
    "id": "NqgiCq7Oymb6"
   },
   "source": [
    "### Deterministic nowcast verification\n",
    "\n",
    "Deterministic nowcasts can be verified with pySTEPS using different kind of metrics: continuous, categorical, spatial and SAL scores.\n",
    "\n",
    "* `pysteps.verification.detcatscores` contains methods to calculate categorical metrics, i.e. metrics calculated for some rain rate thresholds, for example probability of detection (POD) and false alarm ratio (FAR).\n",
    "* `pysteps.verification.detcontscores` contains methods to calculate continuous verification metrics, for example mean absolute error (MAE).\n",
    "* `pysteps.verification.spatialscores` contains methods for calculating the Fractions Skill Score (FSS) and the Binary mean squared error (BMSE).\n",
    "* `pysteps.verification.salscores` contains methods for calculating the Spatial-Amplitude-Location (SAL) score defined by Wernli et al. (2008)\n",
    "\n",
    "We will calculate probability of detection (POD), false alarm ratio (FAR), equitable threat score (ETS), and the mean error (ME) for the nowcast as a function of leadtime, and visualize them. In this example, we use a threshold of 1.0 mm/h. Feel free to play around with lower and higher thresholds, and see what the effects of different thresholds are on the results you see."
   ]
  },
  {
   "cell_type": "code",
   "execution_count": null,
   "metadata": {
    "colab": {
     "base_uri": "https://localhost:8080/",
     "height": 948
    },
    "executionInfo": {
     "elapsed": 667,
     "status": "ok",
     "timestamp": 1661352376258,
     "user": {
      "displayName": "Seppo Pulkkinen",
      "userId": "04188716139781503777"
     },
     "user_tz": -180
    },
    "id": "A9fIjJ0Eyl6X",
    "outputId": "8a0c3cdc-a734-47fd-aec0-2b0b4415aadd"
   },
   "outputs": [],
   "source": [
    "from collections import defaultdict\n",
    "from pysteps import verification\n",
    "\n",
    "thr = 1.0\n",
    "cat_scores = [\"POD\", \"FAR\", \"ETS\"]\n",
    "cont_scores = [\"ME\", ]\n",
    "score = []\n",
    "score_baseline = []\n",
    "score_sprog = []\n",
    "score_steps = []\n",
    "\n",
    "# Calculate scores for each leadtime\n",
    "cat_extrap_scores = defaultdict(list)\n",
    "cat_sprog_scores = defaultdict(list)\n",
    "cont_extrap_scores = defaultdict(list)\n",
    "cont_sprog_scores = defaultdict(list)\n",
    "\n",
    "for i in range(n_leadtimes):\n",
    "    extrap_score = verification.detcatscores.det_cat_fct(precip_extrap[i], precip_obs_mmh[i], thr=thr, scores=cat_scores)\n",
    "    sprog_score = verification.detcatscores.det_cat_fct(precip_sprog[i], precip_obs_mmh[i], thr=thr, scores=cat_scores)\n",
    "\n",
    "    for name in cat_scores:\n",
    "        cat_extrap_scores[name].append(extrap_score[name])\n",
    "        cat_sprog_scores[name].append(sprog_score[name])\n",
    "\n",
    "    extrap_score = verification.detcontscores.det_cont_fct(precip_extrap[i], precip_obs_mmh[i], scores=cont_scores)\n",
    "    sprog_score = verification.detcontscores.det_cont_fct(precip_sprog[i], precip_obs_mmh[i], scores=cont_scores)\n",
    "\n",
    "    for name in cont_scores:\n",
    "        cont_extrap_scores[name].append(extrap_score[name])\n",
    "        cont_sprog_scores[name].append(sprog_score[name])\n",
    "\n",
    "# Plot scores\n",
    "\n",
    "plt.figure(figsize=(16, 16))\n",
    "x = np.arange(1, n_leadtimes + 1) * metadata[\"accutime\"]\n",
    "\n",
    "plt.subplot(2, 2, 1)\n",
    "plt.plot(x, cat_extrap_scores[\"POD\"], label=\"Extrapolation\")\n",
    "plt.plot(x, cat_sprog_scores[\"POD\"], label=\"S-PROG\")\n",
    "plt.ylim([0, 1])\n",
    "plt.xlabel(\"Lead time [min]\")\n",
    "plt.ylabel(f\"POD (> {thr} mm/h) \")\n",
    "plt.title(\"Probability of detection\")\n",
    "plt.legend()\n",
    "plt.grid()\n",
    "\n",
    "plt.subplot(2, 2, 2)\n",
    "plt.plot(x, cat_extrap_scores[\"FAR\"], label=\"Extrapolation\")\n",
    "plt.plot(x, cat_sprog_scores[\"FAR\"], label=\"S-PROG\")\n",
    "plt.ylim([0, 1])\n",
    "plt.xlabel(\"Lead time [min]\")\n",
    "plt.ylabel(f\"FAR (> {thr} mm/h) \")\n",
    "plt.title(\"False Alarm Ratio\")\n",
    "plt.legend()\n",
    "plt.grid()\n",
    "\n",
    "plt.subplot(2, 2, 3)\n",
    "plt.plot(x, cat_extrap_scores[\"ETS\"], label=\"Extrapolation\")\n",
    "plt.plot(x, cat_sprog_scores[\"ETS\"], label=\"S-PROG\")\n",
    "plt.ylim([0, 1])\n",
    "plt.xlabel(\"Lead time [min]\")\n",
    "plt.ylabel(f\"ETS (> {thr} mm/h) \")\n",
    "plt.title(\"Equitable Threat Score\")\n",
    "plt.legend()\n",
    "plt.grid()\n",
    "\n",
    "plt.subplot(2, 2, 4)\n",
    "plt.plot(x, cont_extrap_scores[\"ME\"], label=\"Extrapolation\")\n",
    "plt.plot(x, cont_sprog_scores[\"ME\"], label=\"S-PROG\")\n",
    "plt.xlabel(\"Lead time [min]\")\n",
    "plt.ylabel(f\"ME [mm/h] \")\n",
    "plt.title(\"Mean Error\")\n",
    "plt.legend()\n",
    "plt.grid()"
   ]
  },
  {
   "cell_type": "markdown",
   "metadata": {
    "id": "fOnu4Oso42hd"
   },
   "source": [
    "## Create nowcasts and compare nowcasts with all training school datasets.\n",
    "We repeat the steps from above to create nowcasts for all training school datasets (radar, PWS and CMLs) and visualize them all together. In this example, we have used S-PROG for all forecasts. What can you say about the quality of the nowcasts with the different products?\n",
    "\n",
    "Step 1: load all datasets."
   ]
  },
  {
   "cell_type": "code",
   "execution_count": null,
   "metadata": {
    "id": "UQBcsDUc5VZG"
   },
   "outputs": [],
   "source": [
    "# The CML dataset\n",
    "# Replace the path with the path to the OpenSense dataset\n",
    "filename_cml = ...\n",
    "\n",
    "# Let's nowcast both 40 and 20 radii interpolation\n",
    "# Load the dataset using the function\n",
    "precip_cml_20, metadata_cml_20, timestep_cml = ...\n",
    "\n",
    "# Load the dataset using the function\n",
    "precip_cml_40, metadata_cml_40, timestep_pws = ..."
   ]
  },
  {
   "cell_type": "markdown",
   "metadata": {},
   "source": [
    "Step 2: pre-process these datasets and get the advection fields."
   ]
  },
  {
   "cell_type": "code",
   "execution_count": null,
   "metadata": {},
   "outputs": [],
   "source": [
    "# Handling of NaN values has been explicitly implemented in Lucas-Kanade and VET,\n",
    "# but not in DARTS. For this reason, we set all non-finite values to the minimum\n",
    "# value before applying the optical flow.\n",
    "precip_finite_cml_20 = precip_cml_20.copy()\n",
    "precip_finite_cml_20[~np.isfinite(precip_finite_cml_20)] = np.nanmin(precip_cml_20)\n",
    "precip_finite_cml_40 = ...\n",
    "...\n",
    "\n",
    "# First transform the precip from mm to mm/h\n",
    "precip_cml_20_mmh, metadata_cml_20_mmh = conversion.to_rainrate(precip_finite_cml_20, metadata_cml_20)\n",
    "precip_cml_40_mmh, metadata_cml_40_mmh = ...\n",
    "\n",
    "# Then, log-transform the data to dBR with threshold of 0.1 mm/h and fill value of\n",
    "# -15 dBR\n",
    "precip_cml_20_dbr, metadata_cml_20_dbr = transformation.dB_transform(\n",
    "    precip_cml_20_mmh,\n",
    "    metadata_cml_20_mmh,\n",
    "    threshold=0.1,\n",
    "    zerovalue=-15.0\n",
    ")\n",
    "precip_cml_40_dbr, metadata_cml_40_dbr = ...\n",
    "\n",
    "# Use 4 most recent precipitation fields (60 minutes) for Lucas-Kanade\n",
    "# Disable printing with verbose=False\n",
    "advection_field_cml_20 = ...\n",
    "advection_field_cml_40 = ..."
   ]
  },
  {
   "cell_type": "markdown",
   "metadata": {},
   "source": [
    "Step 3: create the nowcasts"
   ]
  },
  {
   "cell_type": "code",
   "execution_count": null,
   "metadata": {},
   "outputs": [],
   "source": [
    "# First the CML dataset\n",
    "\n",
    "# Calculate the S-PROG nowcast for comparison\n",
    "nowcast_method = ...\n",
    "precip_cml_sprog = ...\n",
    "# Back-transform the results from dBR to rain rates\n",
    "...\n",
    "\n",
    "# Then the PWS dataset\n",
    "# Calculate the S-PROG nowcast for comparison\n",
    "precip_pws_sprog = ...\n",
    "\n",
    "# Back-transform the results from dBR to rain rates\n",
    "..."
   ]
  },
  {
   "cell_type": "markdown",
   "metadata": {},
   "source": [
    "Step 4: Finally, visualize the results next to the radar-based nowcast and the observations."
   ]
  },
  {
   "cell_type": "code",
   "execution_count": null,
   "metadata": {},
   "outputs": [],
   "source": [
    "fig = plt.figure(figsize=(16, 12), layout=\"constrained\")\n",
    "map_kwargs = {\"drawlonlatlines\": True}\n",
    "\n",
    "# The nowcasts were made up to 3 hours into the future, so feel free to adjust the plotting\n",
    "# indices and plot e.g. up to 3 hours instead of up to 1 hour.\n",
    "for i, j in enumerate(range(0, 4, 1)):\n",
    "    ax = fig.add_subplot(4, 4, 1 + i); ax.axis(\"off\")\n",
    "    plot_precip_field(\n",
    "        precip_obs_mmh[j], \n",
    "        geodata=metadata, \n",
    "        colorscale=\"STEPS-NL\", \n",
    "        colorbar=False,\n",
    "        map_kwargs=map_kwargs,\n",
    "        ax=ax,\n",
    "        title=f\"Observation at +{(j + 1) * 15} min.\"\n",
    "        )\n",
    "\n",
    "for i, j in enumerate(range(0, 4, 1)):\n",
    "    ax = fig.add_subplot(4, 4, 5 + i); ax.axis(\"off\")\n",
    "    plot_precip_field(...)\n",
    "\n",
    "for i, j in enumerate(range(0, 4, 1)):\n",
    "    ...\n",
    "\n",
    "for i, j in enumerate(range(0, 4, 1)):\n",
    "    ...\n"
   ]
  }
 ],
 "metadata": {
  "colab": {
   "collapsed_sections": [],
   "name": "block_04_deterministic_nowcasts.ipynb",
   "provenance": []
  },
  "kernelspec": {
   "display_name": "Python 3 (ipykernel)",
   "language": "python",
   "name": "python3"
  },
  "language_info": {
   "codemirror_mode": {
    "name": "ipython",
    "version": 3
   },
   "file_extension": ".py",
   "mimetype": "text/x-python",
   "name": "python",
   "nbconvert_exporter": "python",
   "pygments_lexer": "ipython3",
   "version": "3.11.11"
  }
 },
 "nbformat": 4,
 "nbformat_minor": 4
}
