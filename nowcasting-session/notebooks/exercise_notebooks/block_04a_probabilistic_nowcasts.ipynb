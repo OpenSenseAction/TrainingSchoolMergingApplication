{
 "cells": [
  {
   "cell_type": "markdown",
   "metadata": {},
   "source": [
    "Note: These exercise notebooks are meant to help you to get started with the exercises. They are meant to be incomplete, so you will have to add some steps yourself (often indicated by the \"...\" in the code). The number of steps that have to be added by the participants progressively increases the further you get with the exercises. If you can't figure it out yourself, no worries, have a look at the [solution](../solutions) folder or ask one of the teachers."
   ]
  },
  {
   "cell_type": "markdown",
   "metadata": {
    "id": "r7fy_7Mb9anF"
   },
   "source": [
    "# Nowcasting methods - part 2 probabilistic forecasts\n",
    "\n",
    "In this notebook we show how to construct, visualize and apply verification metrics to a probabilistic (ensemble) nowcast using pysteps.\n"
   ]
  },
  {
   "cell_type": "markdown",
   "metadata": {
    "id": "HSfnhArguSvF"
   },
   "source": [
    "## Load the data and pre-processing steps from the previous exercises\n",
    "\n",
    "First, we load the data and apply the pre-processing steps from the previous exercices, so that we can use it in this notebook.\n",
    "Start with loading the data below."
   ]
  },
  {
   "cell_type": "code",
   "execution_count": null,
   "metadata": {
    "colab": {
     "base_uri": "https://localhost:8080/"
    },
    "executionInfo": {
     "elapsed": 119258,
     "status": "ok",
     "timestamp": 1661352639443,
     "user": {
      "displayName": "Seppo Pulkkinen",
      "userId": "04188716139781503777"
     },
     "user_tz": -180
    },
    "id": "xQlPAF19VEny",
    "outputId": "2579fb6d-277d-4b70-a3ec-4f7b089f81c3"
   },
   "outputs": [],
   "source": [
    "# Redefine the function to load the OS datasets\n",
    "..."
   ]
  },
  {
   "cell_type": "code",
   "execution_count": null,
   "metadata": {},
   "outputs": [],
   "source": [
    "# Read the data (pick an OS dataset yourself)\n",
    "..."
   ]
  },
  {
   "cell_type": "markdown",
   "metadata": {},
   "source": [
    "Then, we add the pre-processing steps, which consist of:\n",
    "- Conversion of the data from mm to mm/h.\n",
    "- Transformation of the data, here we apply a log-transform of the data to dBR with threshold of 0.1 mm/h and fill value of -15 dBR. This improves the reliability of optical flow and nowcasting methods.\n",
    "- Determining the motion fields with one of the optical flow algorithms. Lucas-Kanade (\"LK\") is used here. "
   ]
  },
  {
   "cell_type": "code",
   "execution_count": null,
   "metadata": {},
   "outputs": [],
   "source": [
    "# Perform the pre-processing, similar to what you did in block_04\n",
    "..."
   ]
  },
  {
   "cell_type": "markdown",
   "metadata": {
    "id": "OeFwivnPzVQk"
   },
   "source": [
    "## Probabilistic nowcasts\n",
    "In this part of the exercise, we are basically going to repeat the steps of the deterministic nowcast, but we will construct a probabilistic nowcast with 20 ensemble members and verify this nowcast accordingly. \n",
    "If time allows, you can also try to make a LINDA-P nowcast.\n",
    "\n",
    "The first step is to make a probabilistic nowcast using the STEPS approach that is explained in [the STEPS nowcast gallery example](https://pysteps.readthedocs.io/en/latest/auto_examples/plot_steps_nowcast.html#stochastic-nowcast-with-steps). You can follow this example and adjust the code where necessary to make it work for our test case. The variable names of the already imported and pre-processed data have been mentioned above.\n",
    "\n",
    "We are going to make an ensemble nowcast with 10 ensemble members and 4 lead times of 15 min (one hour in total). For a list of all options in the STEPS nowcast, see the [pysteps documentation](https://pysteps.readthedocs.io/en/latest/pysteps_reference/nowcasts.html#pysteps-nowcasts-steps)."
   ]
  },
  {
   "cell_type": "code",
   "execution_count": null,
   "metadata": {
    "colab": {
     "base_uri": "https://localhost:8080/"
    },
    "executionInfo": {
     "elapsed": 93829,
     "status": "ok",
     "timestamp": 1661352825380,
     "user": {
      "displayName": "Seppo Pulkkinen",
      "userId": "04188716139781503777"
     },
     "user_tz": -180
    },
    "id": "jjZ8uRAMl8Bn",
    "outputId": "af48f693-dcb1-4673-e78d-ba7b0c1b1bee"
   },
   "outputs": [],
   "source": [
    "from matplotlib import pyplot as plt\n",
    "import numpy as np\n",
    "\n",
    "from pysteps import nowcasts\n",
    "from pysteps.postprocessing.ensemblestats import excprob\n",
    "from pysteps.visualization import plot_precip_field\n",
    "\n",
    "# Set nowcast parameters\n",
    "n_ens_members = 10\n",
    "n_leadtimes = 4\n",
    "seed = 1234 # None gives a random seed number, but for reproducibility (i.e, \n",
    "# every nowcast will give the same perturbations) we set it to a fixed number.\n",
    "\n",
    "# The STEPS nowcast\n",
    "nowcast_method = nowcasts.get_method(\"steps\")\n",
    "precip_forecast = nowcast_method(\n",
    "    ...,\n",
    "    ...,\n",
    "    timesteps=n_leadtimes,\n",
    "    n_ens_members=n_ens_members,\n",
    "    n_cascade_levels=8,\n",
    "    kmperpixel=1.0,\n",
    "    precip_thr=metadata_dbr[\"threshold\"],\n",
    "    timestep=metadata_dbr[\"accutime\"],\n",
    "    noise_method=\"nonparametric\",\n",
    "    vel_pert_method=None,\n",
    "    probmatching_method=\"cdf\",\n",
    "    mask_method=\"incremental\",\n",
    "    seed=seed,\n",
    "    num_workers=4,\n",
    ")\n",
    "\n",
    "# Back-transform the results from dBR to rain rates\n",
    "..."
   ]
  },
  {
   "cell_type": "markdown",
   "metadata": {
    "id": "CYXTQz9Xl2Tm"
   },
   "source": [
    "### Visualize the result\n",
    "We are going to visualize the observations, ensemble mean of the probabilistic nowcast, individual ensemble members of the nowcast and the forecast probability of exceeding a certain threshold (1 mm/h here). An example on how to do this is provided in [the STEPS nowcast gallery example](https://pysteps.readthedocs.io/en/latest/auto_examples/plot_steps_nowcast.html#stochastic-nowcast-with-steps)."
   ]
  },
  {
   "cell_type": "code",
   "execution_count": null,
   "metadata": {
    "colab": {
     "base_uri": "https://localhost:8080/",
     "height": 893
    },
    "executionInfo": {
     "elapsed": 28839,
     "status": "ok",
     "timestamp": 1661352854213,
     "user": {
      "displayName": "Seppo Pulkkinen",
      "userId": "04188716139781503777"
     },
     "user_tz": -180
    },
    "id": "nhq0d31hx7Wq",
    "outputId": "65e8fe97-96d8-41f6-9920-124fb9e46772"
   },
   "outputs": [],
   "source": [
    "fig = plt.figure(figsize=(16, 12), layout=\"constrained\")\n",
    "map_kwargs = {\"drawlonlatlines\": True}\n",
    "\n",
    "# First plot the observations\n",
    "for i, j in enumerate(range(0, 4, 1)):\n",
    "    ax = fig.add_subplot(4, 4, 1 + i); ax.axis(\"off\")\n",
    "    plot_precip_field(\n",
    "        ...,\n",
    "        title=f\"Observation at +{(j + 1) * 15} min.\"\n",
    "        )\n",
    "\n",
    "# We'll plot the ensemble mean for four lead times\n",
    "# First, obtain the ensemble mean from the forecast output\n",
    "precip_forecast_mean = ...\n",
    "\n",
    "for i, j in enumerate(range(0, 4, 1)):\n",
    "    ax = fig.add_subplot(4, 4, 5 + i); ax.axis(\"off\")\n",
    "    plot_precip_field(\n",
    "        ...,\n",
    "        title=f\"Ensemble mean +{(j + 1) * 15} min.\"\n",
    "        )\n",
    "    \n",
    "# Then, plot some realizations\n",
    "for i, j in enumerate(range(0, 4, 1)):\n",
    "    ax = fig.add_subplot(4, 4, 9 + i); ax.axis(\"off\")\n",
    "    plot_precip_field(\n",
    "        ...,\n",
    "        title=f\"Ens. member 1 at +{(j + 1) * 15} min.\"\n",
    "        )\n",
    "    \n",
    "for i, j in enumerate(range(0, 4, 1)):\n",
    "    ax = fig.add_subplot(4, 4, 13 + i); ax.axis(\"off\")\n",
    "    plot_precip_field(\n",
    "        ...,\n",
    "        title=f\"Ens. member 10 at +{(j + 1) * 15} min.\"\n",
    "        )\n",
    "\n",
    "plt.show()"
   ]
  },
  {
   "cell_type": "markdown",
   "metadata": {
    "id": "VSjFK8UrDAii"
   },
   "source": [
    "As you can see from the two shown members of the ensemble, the stochastic forecast mantains the same variance as in the observed rainfall field. Hence, it gives a less smoothed outcome than the ensemble mean and also preserves high-intensity rainfall cells. Keep this in mind for the verification part where we will use verification metrics that can take the entire ensemble into account. \n",
    "\n",
    "In addition, we can also plot the probability of exceedance for a given threshold (1.0 mm/h in this example). See below:"
   ]
  },
  {
   "cell_type": "code",
   "execution_count": null,
   "metadata": {
    "colab": {
     "base_uri": "https://localhost:8080/",
     "height": 360
    },
    "executionInfo": {
     "elapsed": 2451,
     "status": "ok",
     "timestamp": 1661352856662,
     "user": {
      "displayName": "Seppo Pulkkinen",
      "userId": "04188716139781503777"
     },
     "user_tz": -180
    },
    "id": "BMPCvEFDBLw9",
    "outputId": "32ec3e5d-04ec-477b-bb13-2bb67681e1e8"
   },
   "outputs": [],
   "source": [
    "# Then plot the probability of exceeding 1 mm/h\n",
    "fig = plt.figure(figsize=(20, 4), layout=\"constrained\")\n",
    "map_kwargs = {\"drawlonlatlines\": True}\n",
    "\n",
    "for i, j in enumerate(range(0, 4, 1)):\n",
    "  # Compute exceedence probabilities for a 1.0 mm/h threshold\n",
    "  # Also try out other exceedance probabilities\n",
    "  P = excprob(precip_forecast[:, j, :, :], 1.0)\n",
    "  ax = fig.add_subplot(1, 4, 1 + i); ax.axis(\"off\")\n",
    "  plot_precip_field(...)\n",
    "\n",
    "plt.show()"
   ]
  },
  {
   "cell_type": "markdown",
   "metadata": {
    "id": "kBhGAN1bEGjC"
   },
   "source": [
    "### Ensemble forecast verification\n",
    "Pysteps includes a number of verification metrics to help users to analyze the general characteristics of the nowcasts in terms of consistency and quality (or goodness). In contrast to the verification of the deterministic nowcast, we have a 10-member ensemble that we want to verify. As every member contains valuable information, it is better not to use the deterministic verification metrics on the ensemble mean, but to use a metric that can take the entire ensemble into account. \n",
    "\n",
    "Therefore, we will focus on the CRPS (continuous ranked probability score), which you can see as the mean absolute error of the ensemble. It compares the cdf of the ensemble with the observed rainfall. \n",
    "\n",
    "In addition, we will verify our probabilistic forecasts using the ROC curve, reliability diagrams, and rank histograms, as implemented in the [verification module](https://pysteps.readthedocs.io/en/latest/pysteps_reference/verification.html) of pysteps."
   ]
  },
  {
   "cell_type": "code",
   "execution_count": null,
   "metadata": {
    "colab": {
     "base_uri": "https://localhost:8080/",
     "height": 441
    },
    "executionInfo": {
     "elapsed": 6824,
     "status": "ok",
     "timestamp": 1661352863483,
     "user": {
      "displayName": "Seppo Pulkkinen",
      "userId": "04188716139781503777"
     },
     "user_tz": -180
    },
    "id": "m33B0y8mEiU8",
    "outputId": "671a6390-80bd-4916-80f8-389f03daf486"
   },
   "outputs": [],
   "source": [
    "from pysteps import verification\n",
    "from pysteps.postprocessing import ensemblestats\n",
    "\n",
    "# Determine the CRPS\n",
    "CRPS = []\n",
    "for lt in range(n_leadtimes):\n",
    "    CRPS.append(verification.probscores.CRPS(..., ...))\n",
    "\n",
    "# Plot it\n",
    "fig = plt.figure(figsize = (10,5))\n",
    "fig1 = fig.add_gridspec(1, 1, bottom = 0.0, top = 1.00, left = 0.0, right = 1.0) \n",
    "ax1 = fig.add_subplot(fig1[0,0])\n",
    "\n",
    "# Plot the CRPS for both lead times\n",
    "ax1.plot(\n",
    "    (np.arange(n_leadtimes)+1)*15,\n",
    "    CRPS,\n",
    "    color=\"blue\",\n",
    "    )\n",
    "\n",
    "ax1.set_xlabel(\"Lead time (min)\", fontsize=12)\n",
    "ax1.set_ylabel(r\"CRPS (mm h$^{-1}$)\", fontsize=12)\n",
    "\n",
    "ax1.set_title(\"CRPS\")\n",
    "\n",
    "plt.show()"
   ]
  },
  {
   "cell_type": "markdown",
   "metadata": {
    "id": "3DMZ2NoDOvuy"
   },
   "source": [
    "The [examples gallery](https://pysteps.readthedocs.io/en/latest/auto_examples/plot_ensemble_verification.html#sphx-glr-auto-examples-plot-ensemble-verification-py) contains some ensemble verification examples that you could follow. For the subsequent verification metrics, we'll focus on a exceedance threshold of 1 mm/h. Try out some other thresholds and see how this influences the results."
   ]
  },
  {
   "cell_type": "code",
   "execution_count": null,
   "metadata": {
    "colab": {
     "base_uri": "https://localhost:8080/",
     "height": 295
    },
    "executionInfo": {
     "elapsed": 557,
     "status": "ok",
     "timestamp": 1661352864022,
     "user": {
      "displayName": "Seppo Pulkkinen",
      "userId": "04188716139781503777"
     },
     "user_tz": -180
    },
    "id": "rfuHUqXGO6Nm",
    "outputId": "7f928e8d-ceab-4871-cd50-4b53f2a75287"
   },
   "outputs": [],
   "source": [
    "# We start with determining the exceedance probability in the forecast for a\n",
    "# threshold of 1 mm/h for 1-h lead time (the last lead time in the forecast).\n",
    "lead_time_index = 3\n",
    "\n",
    "probability_forecast = ensemblestats.excprob(\n",
    "    precip_forecast[:, lead_time_index, :, :], \n",
    "    1.0, \n",
    "    ignore_nan=True)\n",
    "\n",
    "# ROC curve\n",
    "roc = verification.ROC_curve_init(1.0, n_prob_thrs=9)\n",
    "verification.ROC_curve_accum(\n",
    "    ROC=..., \n",
    "    P_f=..., \n",
    "    X_o=...,\n",
    "    )\n",
    "fig, ax = plt.subplots()\n",
    "verification.plot_ROC(roc, ax, opt_prob_thr=True)\n",
    "ax.set_title(\"ROC curve (+%i min)\" % ((lead_time_index+1) * timestep))\n",
    "plt.show()"
   ]
  },
  {
   "cell_type": "code",
   "execution_count": null,
   "metadata": {
    "colab": {
     "base_uri": "https://localhost:8080/",
     "height": 295
    },
    "executionInfo": {
     "elapsed": 393,
     "status": "ok",
     "timestamp": 1661352864408,
     "user": {
      "displayName": "Seppo Pulkkinen",
      "userId": "04188716139781503777"
     },
     "user_tz": -180
    },
    "id": "PFsqw1TIVIUa",
    "outputId": "2c8cdaff-5cd3-4097-ba27-764cc0dd6d01"
   },
   "outputs": [],
   "source": [
    "# Reliability diagram\n",
    "reldiag = verification.reldiag_init(1.0)\n",
    "verification.reldiag_accum(\n",
    "    reldiag=..., \n",
    "    P_f=..., \n",
    "    X_o=...,\n",
    ")\n",
    "fig, ax = plt.subplots()\n",
    "verification.plot_reldiag(reldiag, ax)\n",
    "ax.set_title(\"Reliability diagram (+%i min)\" % ((lead_time_index+1) * timestep))\n",
    "plt.show()"
   ]
  },
  {
   "cell_type": "code",
   "execution_count": null,
   "metadata": {
    "colab": {
     "base_uri": "https://localhost:8080/",
     "height": 295
    },
    "executionInfo": {
     "elapsed": 774,
     "status": "ok",
     "timestamp": 1661352865178,
     "user": {
      "displayName": "Seppo Pulkkinen",
      "userId": "04188716139781503777"
     },
     "user_tz": -180
    },
    "id": "MI4Hl-EoWl6F",
    "outputId": "95ec3f4c-94ed-47d2-bc20-caac876c91dc"
   },
   "outputs": [],
   "source": [
    "# Rank histogram\n",
    "rankhist = verification.rankhist_init(precip_forecast.shape[0], 1.0)\n",
    "verification.rankhist_accum(\n",
    "    ..., \n",
    "    ..., \n",
    "    ...\n",
    "    )\n",
    "fig, ax = plt.subplots()\n",
    "verification.plot_rankhist(rankhist, ax)\n",
    "ax.set_title(\"Rank histogram (+%i min)\" % ((lead_time_index+1) * timestep))\n",
    "plt.show()"
   ]
  }
 ],
 "metadata": {
  "colab": {
   "collapsed_sections": [],
   "name": "block_04_probabilistic_nowcasts.ipynb",
   "provenance": []
  },
  "kernelspec": {
   "display_name": "opensense_training",
   "language": "python",
   "name": "python3"
  },
  "language_info": {
   "codemirror_mode": {
    "name": "ipython",
    "version": 3
   },
   "file_extension": ".py",
   "mimetype": "text/x-python",
   "name": "python",
   "nbconvert_exporter": "python",
   "pygments_lexer": "ipython3",
   "version": "3.11.11"
  }
 },
 "nbformat": 4,
 "nbformat_minor": 0
}
